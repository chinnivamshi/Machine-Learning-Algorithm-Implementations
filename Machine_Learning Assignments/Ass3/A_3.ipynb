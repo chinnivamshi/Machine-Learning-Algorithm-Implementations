{
  "nbformat": 4,
  "nbformat_minor": 0,
  "metadata": {
    "colab": {
      "provenance": []
    },
    "kernelspec": {
      "name": "python3",
      "display_name": "Python 3"
    },
    "language_info": {
      "name": "python"
    }
  },
  "cells": [
    {
      "cell_type": "code",
      "source": [
        "# !pip install keras"
      ],
      "metadata": {
        "id": "ua1E05ZENq5T"
      },
      "execution_count": 198,
      "outputs": []
    },
    {
      "cell_type": "markdown",
      "source": [
        "**TASKS**"
      ],
      "metadata": {
        "id": "Mzv4jXKvhl-W"
      }
    },
    {
      "cell_type": "code",
      "execution_count": 199,
      "metadata": {
        "id": "rmvSopWi75Rm"
      },
      "outputs": [],
      "source": [
        "# Import OS environment variables and other supporting libraries like Pandas, NumPy, TensorFlow.\n",
        "import os\n",
        "import pandas as pd\n",
        "import numpy as np\n",
        "import tensorflow as tf\n",
        "import matplotlib.pyplot as plt\n",
        "from tensorflow import keras"
      ]
    },
    {
      "cell_type": "code",
      "source": [
        "#csv file\n",
        "data= pd.read_csv(\"/content/Admission_Predict_A3.csv\")"
      ],
      "metadata": {
        "id": "SdOy0i3A8fID"
      },
      "execution_count": 200,
      "outputs": []
    },
    {
      "cell_type": "code",
      "source": [
        "# scaling using standard scaler\n",
        "from sklearn.preprocessing import StandardScaler\n",
        "scaler= StandardScaler()"
      ],
      "metadata": {
        "id": "mtAU5fQw85Pm"
      },
      "execution_count": 201,
      "outputs": []
    },
    {
      "cell_type": "code",
      "source": [
        "# list(data.columns)"
      ],
      "metadata": {
        "id": "maHrLflzTDhW"
      },
      "execution_count": 202,
      "outputs": []
    },
    {
      "cell_type": "code",
      "source": [
        "\n",
        "features_data = data.drop(['Chance of Admit ','Serial No.'],axis = 1)\n",
        "y= data['Chance of Admit ']\n"
      ],
      "metadata": {
        "id": "xDXpHUBDS6r9"
      },
      "execution_count": 203,
      "outputs": []
    },
    {
      "cell_type": "code",
      "source": [
        "scaled = scaler.fit(features_data)\n",
        "X_scaled = scaled.transform(features_data)\n",
        "# train_x,test_x,train_y,test_y = train_test_split(scale_train, df.iloc[:,-1])\n",
        "print(X_scaled)"
      ],
      "metadata": {
        "colab": {
          "base_uri": "https://localhost:8080/"
        },
        "id": "AQ9s_TjSOFyN",
        "outputId": "33d18cea-1fb7-40ac-ae72-d0289e79e8a6"
      },
      "execution_count": 204,
      "outputs": [
        {
          "output_type": "stream",
          "name": "stdout",
          "text": [
            "[[ 1.81923762  1.77886545  0.77558214 ...  1.09894429  1.77680627\n",
            "   0.88640526]\n",
            " [ 0.66714832 -0.03160087  0.77558214 ...  1.09894429  0.48585943\n",
            "   0.88640526]\n",
            " [-0.0418297  -0.52536441 -0.09979274 ...  0.01730621 -0.95404281\n",
            "   0.88640526]\n",
            " ...\n",
            " [ 1.19888185  2.10804114  1.65095702 ...  1.63976333  1.62785086\n",
            "   0.88640526]\n",
            " [-0.39631872 -0.68995225  0.77558214 ...  1.63976333 -0.24236699\n",
            "  -1.12815215]\n",
            " [ 0.93301508  0.95592621  0.77558214 ...  1.09894429  0.76721964\n",
            "  -1.12815215]]\n"
          ]
        }
      ]
    },
    {
      "cell_type": "code",
      "source": [
        "\n",
        "from sklearn.model_selection import train_test_split\n",
        "X_train_scaled,X_test_scaled,y_train,y_test = train_test_split(X_scaled,y,test_size=0.2,random_state=42)\n",
        "# len(y_train)"
      ],
      "metadata": {
        "id": "mEbT84bUVy1Y"
      },
      "execution_count": 205,
      "outputs": []
    },
    {
      "cell_type": "code",
      "source": [
        "# convert the data into Tenserflow tensors\n",
        "X_train_tensor = tf.constant(X_train_scaled, dtype=tf.float32)\n",
        "y_train_tensor=tf.constant(y_train.values.reshape(-1,1), dtype=tf.float32)\n",
        "X_test_tensor= tf.constant(X_test_scaled, dtype=tf.float32)\n",
        "y_test_tensor=tf.constant(y_test.values.reshape(-1,1), dtype=tf.float32)\n"
      ],
      "metadata": {
        "id": "DzYlijy_Tu0W"
      },
      "execution_count": 206,
      "outputs": []
    },
    {
      "cell_type": "code",
      "source": [
        "# Initialise weight/bias\n",
        "weights = tf.Variable(tf.random.normal(shape=(X_train_tensor.shape[1], 1)), name='weights')\n",
        "bias = tf.Variable(tf.zeros(shape=(1,)), name='bias')\n",
        "\n",
        "# Define the linear regression model\n",
        "def lin_regression(x):\n",
        "    return tf.matmul(x, weights) + bias\n",
        "\n",
        "# Define the mean squared error loss function\n",
        "def mse(y_true, y_pred):\n",
        "    return tf.reduce_mean(tf.square(y_true - y_pred))\n",
        "\n"
      ],
      "metadata": {
        "id": "kt_5DeS-UAcS"
      },
      "execution_count": 207,
      "outputs": []
    },
    {
      "cell_type": "code",
      "source": [
        "# required parameters\n",
        "optimizer = tf.optimizers.SGD(learning_rate=0.01)\n",
        "\n",
        "# Training loop\n",
        "epochs = 1000"
      ],
      "metadata": {
        "id": "rvM5OSOUWZsu"
      },
      "execution_count": 208,
      "outputs": []
    },
    {
      "cell_type": "code",
      "source": [
        "for epoch in range(epochs):\n",
        "  with tf.GradientTape() as tape:\n",
        "    y_pred = lin_regression(X_train_tensor)\n",
        "    loss = mse(y_train_tensor, y_pred)\n",
        "  gradients = tape.gradient(loss, [weights, bias])\n",
        "  optimizer.apply_gradients(zip(gradients, [weights, bias]))\n"
      ],
      "metadata": {
        "id": "g9qPg0QOe3Eh"
      },
      "execution_count": 209,
      "outputs": []
    },
    {
      "cell_type": "code",
      "source": [
        "print(f\"Final Loss for training dataset is {loss}\")"
      ],
      "metadata": {
        "colab": {
          "base_uri": "https://localhost:8080/"
        },
        "id": "C7Tvzpb28B6E",
        "outputId": "0622e607-15c3-4a86-c5b5-4d3164f45806"
      },
      "execution_count": 210,
      "outputs": [
        {
          "output_type": "stream",
          "name": "stdout",
          "text": [
            "Final Loss for training dataset is 0.003930042963474989\n"
          ]
        }
      ]
    },
    {
      "cell_type": "code",
      "source": [
        "test_predictions = lin_regression(X_test_tensor)\n",
        "test_loss = mse(y_test_tensor, test_predictions)\n",
        "\n",
        "print(f'\\nEvaluation on Testing Data - Mean Squared Error: {test_loss.numpy()}')\n",
        "\n"
      ],
      "metadata": {
        "colab": {
          "base_uri": "https://localhost:8080/"
        },
        "id": "2G6u90Rg8hII",
        "outputId": "0e0b7322-9a16-49f0-ebe1-b815d8c830f7"
      },
      "execution_count": 211,
      "outputs": [
        {
          "output_type": "stream",
          "name": "stdout",
          "text": [
            "\n",
            "Evaluation on Testing Data - Mean Squared Error: 0.0044480725191533566\n"
          ]
        }
      ]
    },
    {
      "cell_type": "code",
      "source": [
        "plt.scatter(y_test_tensor, test_predictions, color='blue')\n",
        "# plt.plot([min(y_test_tensor), max(y_test_tensor)], [min(y_test_tensor), max(y_test_tensor)], linestyle='--', color='red', linewidth=2)\n",
        "plt.xlabel('Actual')\n",
        "plt.ylabel('Predicted')\n",
        "plt.title('Actual vs Predicted')\n",
        "plt.show()"
      ],
      "metadata": {
        "colab": {
          "base_uri": "https://localhost:8080/",
          "height": 472
        },
        "id": "INCDkIz3-TMb",
        "outputId": "e331f3e7-b12f-40d8-c62e-59e56d2f4d54"
      },
      "execution_count": 212,
      "outputs": [
        {
          "output_type": "display_data",
          "data": {
            "text/plain": [
              "<Figure size 640x480 with 1 Axes>"
            ],
            "image/png": "[encoded data removed]"
          },
          "metadata": {}
        }
      ]
    },
    {
      "cell_type": "markdown",
      "source": [
        " **Logistic Regression- Using Dense Layer with softmax activation**"
      ],
      "metadata": {
        "id": "ryiyjjksi5jT"
      }
    },
    {
      "cell_type": "code",
      "source": [
        "bin_edges = [0.3, 0.5, 0.7, 1]\n",
        "bin_labels = ['low', 'medium', 'high']\n",
        "data['Admission_Level'] = pd.cut(data['Chance of Admit '], bins=bin_edges, labels=bin_labels, include_lowest=True)\n",
        "features_data = data.drop(['Chance of Admit ','Serial No.','Admission_Level'],axis = 1)\n",
        "label_mapping = {'low': 0, 'medium': 1, 'high': 2}\n",
        "data['Admission_Level'] = data['Admission_Level'].map(label_mapping)\n",
        "\n",
        "y= data['Admission_Level']"
      ],
      "metadata": {
        "id": "wJHhqHJm-oYL"
      },
      "execution_count": 213,
      "outputs": []
    },
    {
      "cell_type": "code",
      "source": [
        "X_train, X_test, Y_train, Y_test = train_test_split(features_data, y, test_size=0.2, random_state=42)\n",
        "scaler = StandardScaler()\n",
        "X_train_scaled = scaler.fit_transform(X_train)\n",
        "X_test_scaled = scaler.transform(X_test)\n",
        "\n",
        "Y_train_encode = tf.keras.utils.to_categorical(Y_train)\n",
        "Y_test_encode = tf.keras.utils.to_categorical(Y_test)"
      ],
      "metadata": {
        "id": "djClCccoYwkD"
      },
      "execution_count": 214,
      "outputs": []
    },
    {
      "cell_type": "code",
      "source": [
        "def model_return(lr):\n",
        "    model = tf.keras.Sequential([\n",
        "        tf.keras.layers.Dense(3, activation='softmax', input_shape=(X_train_scaled.shape[1],))\n",
        "    ])\n",
        "    opt = tf.keras.optimizers.SGD(learning_rate=lr)\n",
        "    model.compile(optimizer=opt, loss='categorical_crossentropy', metrics=['accuracy'])\n",
        "    return model\n",
        "\n",
        "model = model_return(0.01)\n",
        "\n",
        "class PrintAccuracy(tf.keras.callbacks.Callback):\n",
        "    def on_epoch_end(self, epoch, logs=None):\n",
        "        if (epoch + 1) % 50 == 0:\n",
        "            accuracy = logs.get('accuracy')\n",
        "            print(f'Epoch {epoch + 1}/{self.params[\"epochs\"]}, Accuracy: {accuracy * 100:.2f}%')\n",
        "\n",
        "model = model_return(0.01)\n",
        "\n",
        "# Attach the custom callback to the fit method\n",
        "history = model.fit(X_train_scaled, Y_train_encode, epochs=1000, verbose=0, callbacks=[PrintAccuracy()], validation_data=(X_test_scaled, Y_test_encode))\n"
      ],
      "metadata": {
        "colab": {
          "base_uri": "https://localhost:8080/"
        },
        "id": "sIKvLegfY4gq",
        "outputId": "3db7fd41-c920-4a89-c69a-de618dcec0f1"
      },
      "execution_count": 215,
      "outputs": [
        {
          "output_type": "stream",
          "name": "stdout",
          "text": [
            "Epoch 50/1000, Accuracy: 78.50%\n",
            "Epoch 100/1000, Accuracy: 78.75%\n",
            "Epoch 150/1000, Accuracy: 79.00%\n",
            "Epoch 200/1000, Accuracy: 79.25%\n",
            "Epoch 250/1000, Accuracy: 79.25%\n",
            "Epoch 300/1000, Accuracy: 80.00%\n",
            "Epoch 350/1000, Accuracy: 80.25%\n",
            "Epoch 400/1000, Accuracy: 80.75%\n",
            "Epoch 450/1000, Accuracy: 81.00%\n",
            "Epoch 500/1000, Accuracy: 81.25%\n",
            "Epoch 550/1000, Accuracy: 81.75%\n",
            "Epoch 600/1000, Accuracy: 81.75%\n",
            "Epoch 650/1000, Accuracy: 81.75%\n",
            "Epoch 700/1000, Accuracy: 81.50%\n",
            "Epoch 750/1000, Accuracy: 81.50%\n",
            "Epoch 800/1000, Accuracy: 81.75%\n",
            "Epoch 850/1000, Accuracy: 81.75%\n",
            "Epoch 900/1000, Accuracy: 81.75%\n",
            "Epoch 950/1000, Accuracy: 81.75%\n",
            "Epoch 1000/1000, Accuracy: 81.75%\n"
          ]
        }
      ]
    },
    {
      "cell_type": "code",
      "source": [
        "# Assuming you have trained the model using the 'history' object\n",
        "# and X_test_scaled, Y_test_one_hot are the scaled features and one-hot encoded labels for the test set\n",
        "\n",
        "# Evaluate the model on the test set\n",
        "test_loss, test_accuracy = model.evaluate(X_test_scaled, Y_test_encode, verbose=0)\n",
        "print(f'Test Loss:{test_loss} \\nTest Accuracy: {test_accuracy * 100}%')\n"
      ],
      "metadata": {
        "colab": {
          "base_uri": "https://localhost:8080/"
        },
        "id": "YxKEH32HcBQM",
        "outputId": "7121ed70-c9a7-412b-8b4d-f387af53dcb6"
      },
      "execution_count": 216,
      "outputs": [
        {
          "output_type": "stream",
          "name": "stdout",
          "text": [
            "Test Loss:0.48217490315437317 \n",
            "Test Accuracy: 81.00000023841858%\n"
          ]
        }
      ]
    },
    {
      "cell_type": "markdown",
      "source": [
        "**Why we used SoftMax?**\n",
        "\n",
        "Softmax activation is beneficial because it transforms the raw output of a neural network into probabilities. These probabilities represent the likelihood of the input belonging to each class(so used in multi class classification)"
      ],
      "metadata": {
        "id": "OBy8_4vVkzGP"
      }
    },
    {
      "cell_type": "markdown",
      "source": [
        "**Logistic- By custom definition**"
      ],
      "metadata": {
        "id": "tobOwFh1KOe6"
      }
    },
    {
      "cell_type": "code",
      "source": [
        "\n",
        "# X_train_tensor = tf.constant(X_train_scaled, dtype=tf.float64)\n",
        "# y_train_tensor = tf.constant(Y_train.values.reshape(-1, 1), dtype=tf.float64)\n",
        "# X_test_tensor = tf.constant(X_test_scaled, dtype=tf.float64)\n",
        "# y_test_tensor = tf.constant(Y_test.values.reshape(-1, 1), dtype=tf.float64)\n"
      ],
      "metadata": {
        "id": "1s_jo7FyUxmg"
      },
      "execution_count": 217,
      "outputs": []
    },
    {
      "cell_type": "code",
      "source": [
        "# optimizer = tf.optimizers.SGD(0.01)"
      ],
      "metadata": {
        "id": "isMIdv6OOTOx"
      },
      "execution_count": 218,
      "outputs": []
    },
    {
      "cell_type": "code",
      "source": [
        "# train_data = train_data.batch(64)  # Adjust batch size as needed\n",
        "\n",
        "#  train_data=tf.data.Dataset.from_tensor_slices((X_train,Y_train))\n",
        "\n",
        "#  train_data=train_data.repeat().shuffle(5000).batch(256).prefetch(1)\n"
      ],
      "metadata": {
        "id": "uFZKYq1mm2pp"
      },
      "execution_count": 219,
      "outputs": []
    },
    {
      "cell_type": "code",
      "source": [
        "# W = tf.Variable(tf.random.normal(shape=(X_train_tensor.shape[1], 3)), name='weights')\n",
        "# b = tf.Variable(tf.zeros(shape=(3,)), name='bias')\n",
        "\n",
        "# def logistic_regression(x):\n",
        "#     x = tf.cast(x, dtype=tf.float64)  # Cast to double if needed\n",
        "#     return tf.nn.softmax(tf.matmul(x, W) + b)\n",
        "# # # def cross_entropy(y_pred, y_true):\n",
        "# def cross_entropy(y_pred, y_true):\n",
        "#     y_true = tf.cast(y_true, dtype=tf.int64)  # Cast y_true to int64\n",
        "#     y_true = tf.one_hot(y_true, depth=3)  # Adjust 3 based on your number of classes\n",
        "#     y_pred = tf.clip_by_value(y_pred, 1e-9, 1.)\n",
        "#     return tf.reduce_mean(-tf.reduce_sum(y_true * tf.math.log(y_pred)))\n",
        "\n",
        "# def accuracy(y_pred, y_true):\n",
        "#   y_true = tf.cast(y_true, dtype=tf.int64)  # Cast to the appropriate integer type\n",
        "#   correct_prediction = tf.equal(tf.argmax(y_pred, 1), tf.cast(y_true, tf.int64))\n",
        "#   return tf.reduce_mean(tf.cast(correct_prediction, tf.float32))\n",
        "\n",
        "# optimizer = tf.optimizers.SGD(0.01)\n",
        "\n",
        "# def run_optimization(x, y):\n",
        "\n",
        "# # Wrap computation inside a GradientTape for automatic differentiation.\n",
        "\n",
        "#     with tf.GradientTape() as g:\n",
        "\n",
        "#         pred = logistic_regression(x)\n",
        "\n",
        "#         loss = cross_entropy(pred, y)\n",
        "\n",
        "#     # Compute gradients.\n",
        "\n",
        "#     gradients = g.gradient(loss, [W, b])\n",
        "\n",
        "\n",
        "\n",
        "#     # Update W and b following gradients.\n",
        "\n",
        "#     optimizer.apply_gradients(zip(gradients, [W, b]))\n",
        "\n",
        "# #   #Note we may use other optimizers too"
      ],
      "metadata": {
        "id": "ebpqBPLoXV5S"
      },
      "execution_count": 220,
      "outputs": []
    },
    {
      "cell_type": "code",
      "source": [
        "# for step, (X_train_tensor, y_train_tensor) in enumerate(train_data.take(1000), 1):\n",
        "#   # # Cast to double if needed\n",
        "#   #   # Run the optimization to update W and b values.\n",
        "#     run_optimization(X_train_tensor, y_train_tensor)\n",
        "\n",
        "#     if step % 50 == 0:\n",
        "#         pred = logistic_regression(X_train_tensor)\n",
        "#         loss = cross_entropy(pred, y_train_tensor)\n",
        "#         acc = accuracy(pred, y_train_tensor)\n",
        "#         print(\"step: %i, loss: %f, accuracy: %f\" % (step, loss, acc))\n",
        "# # pred = logistic_regression(X_test_tensor)\n",
        "\n",
        "# # print(\"Test Accuracy: %f\" % accuracy(pred, y_test))\n",
        "# # print(f'Test Loss: {test_loss.numpy()}')\n",
        "# # print(f'Test Accuracy: {test_accuracy.numpy()}')\n"
      ],
      "metadata": {
        "id": "cEza0d6moW_Z"
      },
      "execution_count": 221,
      "outputs": []
    },
    {
      "cell_type": "markdown",
      "source": [
        "**Additional Task**\n",
        "1. Throughout the tasks mentioned earlier, you likely encountered the concept of the learning rate.\n",
        "Now, it's important to determine the optimal learning rate. Analyse the consequences of setting it\n",
        "too high or too low by observing the impact on model performance. Illustrate these effects by\n",
        "showcasing changes in the model's performance.\n",
        "\n",
        "Note- We want to check learning rate impact on Linear and Logistic using the loss comparison"
      ],
      "metadata": {
        "id": "C41CL8x4shQS"
      }
    },
    {
      "cell_type": "code",
      "source": [
        "import matplotlib.pyplot as plt\n",
        "\n",
        "# Example: Using the modified callback\n",
        "learning_rates = [0.0001, 10]\n",
        "\n",
        "# Lists to store results for plotting\n",
        "accuracies = {lr: [] for lr in learning_rates}\n",
        "\n",
        "for lr in learning_rates:\n",
        "    print(f\"Training with Learning Rate: {lr}\")\n",
        "\n",
        "    model = model_return(lr)\n",
        "\n",
        "    # Attach the custom callback to the fit method\n",
        "    callback = tf.keras.callbacks.History()\n",
        "    history = model.fit(X_train_scaled, Y_train_encode, epochs=1000, verbose=0, callbacks=[callback], validation_data=(X_test_scaled, Y_test_encode))\n",
        "\n",
        "    # Retrieve accuracy for all epochs\n",
        "    accuracies[lr] = callback.history['accuracy']\n",
        "\n",
        "# Plotting\n",
        "plt.figure(figsize=(10, 6))\n",
        "for lr in learning_rates:\n",
        "    plt.plot(accuracies[lr], label=f'LR={lr}')\n",
        "\n",
        "plt.title('Accuracy Over Epochs for Different Learning Rates')\n",
        "plt.xlabel('Epoch')\n",
        "plt.ylabel('Accuracy (%)')\n",
        "plt.legend()\n",
        "plt.grid(True)\n",
        "plt.show()\n"
      ],
      "metadata": {
        "colab": {
          "base_uri": "https://localhost:8080/",
          "height": 599
        },
        "id": "matFlYx8sp4L",
        "outputId": "7533f20b-ffb4-40f1-aee9-19a4e7f803fc"
      },
      "execution_count": 222,
      "outputs": [
        {
          "output_type": "stream",
          "name": "stdout",
          "text": [
            "Training with Learning Rate: 0.0001\n",
            "Training with Learning Rate: 10\n"
          ]
        },
        {
          "output_type": "display_data",
          "data": {
            "text/plain": [
              "<Figure size 1000x600 with 1 Axes>"
            ],
            "image/png": "[encoded data removed]"
          },
          "metadata": {}
        }
      ]
    },
    {
      "cell_type": "markdown",
      "source": [
        "From the above results we can notice that-\n",
        "1. On too low learning rate, we will require a lot more epochs(hence more time) to reach peak accuracy possible also here can of sudden change in accuracy is almost negligible\n",
        "2. When it's too high, we might see quick maximization of accuracy and then overfitting might happen for higher epochs"
      ],
      "metadata": {
        "id": "WvruNkge4PKl"
      }
    },
    {
      "cell_type": "code",
      "source": [
        "# Determine correlation coefficients between all variables and the target\n",
        "correlation_matrix = data.corr()\n",
        "correlation_with_target = correlation_matrix['Chance of Admit '].drop(['Serial No.', 'Chance of Admit '])\n",
        "\n",
        "# Sort features by absolute correlation coefficient values in descending order\n",
        "sorted_features = correlation_with_target.abs().nlargest(7).index\n",
        "sorted_features = sorted_features[::-1]  # Reverse the order\n",
        "sorted_correlation_values = correlation_with_target[sorted_features]\n",
        "\n",
        "# Create a horizontal bar graph\n",
        "plt.barh(sorted_features, sorted_correlation_values.values, color='skyblue')\n",
        "plt.xlabel('Correlation Coefficient')\n",
        "plt.ylabel('Features')\n",
        "plt.title(' Features by Chance of Admit Correlation Coefficients (Descending Order)')\n",
        "plt.show()\n"
      ],
      "metadata": {
        "colab": {
          "base_uri": "https://localhost:8080/",
          "height": 527
        },
        "id": "X4XUgl9p3ek-",
        "outputId": "403fe875-457e-43c6-9e9f-e1492471ef9a"
      },
      "execution_count": 223,
      "outputs": [
        {
          "output_type": "stream",
          "name": "stderr",
          "text": [
            "<ipython-input-223-70e7464d2381>:2: FutureWarning: The default value of numeric_only in DataFrame.corr is deprecated. In a future version, it will default to False. Select only valid columns or specify the value of numeric_only to silence this warning.\n",
            "  correlation_matrix = data.corr()\n"
          ]
        },
        {
          "output_type": "display_data",
          "data": {
            "text/plain": [
              "<Figure size 640x480 with 1 Axes>"
            ],
            "image/png": "[encoded data removed]"
          },
          "metadata": {}
        }
      ]
    },
    {
      "cell_type": "markdown",
      "source": [
        "Here the top features are - CGPA, GRE Score, TOEFL Score, University Ranking, SOP, LOR, Research (descending order)"
      ],
      "metadata": {
        "id": "1JkThNUE5dyD"
      }
    },
    {
      "cell_type": "code",
      "source": [
        "features_data = data.drop(['Chance of Admit ','Serial No.','Admission_Level'],axis = 1)\n",
        "X_train, X_test, Y_train, Y_test = train_test_split(features_data, y, test_size=0.2, random_state=42)\n",
        "scaler = StandardScaler()\n",
        "X_train_scaled = scaler.fit_transform(X_train)\n",
        "X_test_scaled = scaler.transform(X_test)\n",
        "\n",
        "def model_return(lr):\n",
        "    model = tf.keras.Sequential([\n",
        "        tf.keras.layers.Dense(3, activation='softmax', input_shape=(X_train_scaled.shape[1],))\n",
        "    ])\n",
        "    opt = tf.keras.optimizers.SGD(learning_rate=lr)\n",
        "    model.compile(optimizer=opt, loss='categorical_crossentropy', metrics=['accuracy'])\n",
        "    return model\n",
        "\n",
        "model = model_return(0.01)\n",
        "\n",
        "class PrintAccuracy(tf.keras.callbacks.Callback):\n",
        "    def on_epoch_end(self, epoch, logs=None):\n",
        "        if (epoch + 1) == 1000:\n",
        "            accuracy = logs.get('accuracy')\n",
        "            print(f'Epoch {epoch + 1}/{self.params[\"epochs\"]}, Accuracy using top 7 params: {accuracy * 100:.2f}%')\n",
        "\n",
        "model = model_return(0.01)\n",
        "\n",
        "# Attach the custom callback to the fit method\n",
        "history = model.fit(X_train_scaled, Y_train_encode, epochs=1000, verbose=0, callbacks=[PrintAccuracy()], validation_data=(X_test_scaled, Y_test_encode))\n",
        "\n",
        "features_data = data.drop(['Chance of Admit ','Serial No.','Admission_Level', 'Research'],axis = 1)\n",
        "X_train, X_test, Y_train, Y_test = train_test_split(features_data, y, test_size=0.2, random_state=42)\n",
        "scaler = StandardScaler()\n",
        "X_train_scaled = scaler.fit_transform(X_train)\n",
        "X_test_scaled = scaler.transform(X_test)\n",
        "\n",
        "def model_return(lr):\n",
        "    model = tf.keras.Sequential([\n",
        "        tf.keras.layers.Dense(3, activation='softmax', input_shape=(X_train_scaled.shape[1],))\n",
        "    ])\n",
        "    opt = tf.keras.optimizers.SGD(learning_rate=lr)\n",
        "    model.compile(optimizer=opt, loss='categorical_crossentropy', metrics=['accuracy'])\n",
        "    return model\n",
        "\n",
        "model = model_return(0.01)\n",
        "\n",
        "class PrintAccuracy(tf.keras.callbacks.Callback):\n",
        "    def on_epoch_end(self, epoch, logs=None):\n",
        "        if (epoch + 1) == 1000:\n",
        "            accuracy = logs.get('accuracy')\n",
        "            print(f'Epoch {epoch + 1}/{self.params[\"epochs\"]}, Accuracy using top 6 params: {accuracy * 100:.2f}%')\n",
        "\n",
        "model = model_return(0.01)\n",
        "\n",
        "# Attach the custom callback to the fit method\n",
        "history = model.fit(X_train_scaled, Y_train_encode, epochs=1000, verbose=0, callbacks=[PrintAccuracy()], validation_data=(X_test_scaled, Y_test_encode))\n",
        "\n",
        "features_data = data.drop(['Chance of Admit ','Serial No.','Admission_Level', 'Research', 'LOR '],axis = 1)\n",
        "X_train, X_test, Y_train, Y_test = train_test_split(features_data, y, test_size=0.2, random_state=42)\n",
        "scaler = StandardScaler()\n",
        "X_train_scaled = scaler.fit_transform(X_train)\n",
        "X_test_scaled = scaler.transform(X_test)\n",
        "\n",
        "def model_return(lr):\n",
        "    model = tf.keras.Sequential([\n",
        "        tf.keras.layers.Dense(3, activation='softmax', input_shape=(X_train_scaled.shape[1],))\n",
        "    ])\n",
        "    opt = tf.keras.optimizers.SGD(learning_rate=lr)\n",
        "    model.compile(optimizer=opt, loss='categorical_crossentropy', metrics=['accuracy'])\n",
        "    return model\n",
        "\n",
        "model = model_return(0.01)\n",
        "\n",
        "class PrintAccuracy(tf.keras.callbacks.Callback):\n",
        "    def on_epoch_end(self, epoch, logs=None):\n",
        "        if (epoch + 1)  == 1000:\n",
        "            accuracy = logs.get('accuracy')\n",
        "            print(f'Epoch {epoch + 1}/{self.params[\"epochs\"]}, Accuracy using top 5 params: {accuracy * 100:.2f}%')\n",
        "\n",
        "model = model_return(0.01)\n",
        "\n",
        "# Attach the custom callback to the fit method\n",
        "history = model.fit(X_train_scaled, Y_train_encode, epochs=1000, verbose=0, callbacks=[PrintAccuracy()], validation_data=(X_test_scaled, Y_test_encode))\n",
        "\n",
        "features_data = data.drop(['Chance of Admit ','Serial No.','Admission_Level', 'Research', 'LOR ', 'SOP' ],axis = 1)\n",
        "X_train, X_test, Y_train, Y_test = train_test_split(features_data, y, test_size=0.2, random_state=42)\n",
        "scaler = StandardScaler()\n",
        "X_train_scaled = scaler.fit_transform(X_train)\n",
        "X_test_scaled = scaler.transform(X_test)\n",
        "\n",
        "def model_return(lr):\n",
        "    model = tf.keras.Sequential([\n",
        "        tf.keras.layers.Dense(3, activation='softmax', input_shape=(X_train_scaled.shape[1],))\n",
        "    ])\n",
        "    opt = tf.keras.optimizers.SGD(learning_rate=lr)\n",
        "    model.compile(optimizer=opt, loss='categorical_crossentropy', metrics=['accuracy'])\n",
        "    return model\n",
        "\n",
        "model = model_return(0.01)\n",
        "\n",
        "class PrintAccuracy(tf.keras.callbacks.Callback):\n",
        "    def on_epoch_end(self, epoch, logs=None):\n",
        "        if (epoch + 1)  == 1000:\n",
        "            accuracy = logs.get('accuracy')\n",
        "            print(f'Epoch {epoch + 1}/{self.params[\"epochs\"]}, Accuracy using top 4 params: {accuracy * 100:.2f}%')\n",
        "\n",
        "model = model_return(0.01)\n",
        "\n",
        "# Attach the custom callback to the fit method\n",
        "history = model.fit(X_train_scaled, Y_train_encode, epochs=1000, verbose=0, callbacks=[PrintAccuracy()], validation_data=(X_test_scaled, Y_test_encode))\n",
        "\n",
        "features_data = data.drop(['Chance of Admit ','Serial No.','Admission_Level', 'Research', 'LOR ','SOP','University Rating'],axis = 1)\n",
        "X_train, X_test, Y_train, Y_test = train_test_split(features_data, y, test_size=0.2, random_state=42)\n",
        "scaler = StandardScaler()\n",
        "X_train_scaled = scaler.fit_transform(X_train)\n",
        "X_test_scaled = scaler.transform(X_test)\n",
        "\n",
        "def model_return(lr):\n",
        "    model = tf.keras.Sequential([\n",
        "        tf.keras.layers.Dense(3, activation='softmax', input_shape=(X_train_scaled.shape[1],))\n",
        "    ])\n",
        "    opt = tf.keras.optimizers.SGD(learning_rate=lr)\n",
        "    model.compile(optimizer=opt, loss='categorical_crossentropy', metrics=['accuracy'])\n",
        "    return model\n",
        "\n",
        "model = model_return(0.01)\n",
        "\n",
        "class PrintAccuracy(tf.keras.callbacks.Callback):\n",
        "    def on_epoch_end(self, epoch, logs=None):\n",
        "        if (epoch + 1)  == 1000:\n",
        "            accuracy = logs.get('accuracy')\n",
        "            print(f'Epoch {epoch + 1}/{self.params[\"epochs\"]}, Accuracy using top 3 params: {accuracy * 100:.2f}%')\n",
        "\n",
        "model = model_return(0.01)\n",
        "\n",
        "# Attach the custom callback to the fit method\n",
        "history = model.fit(X_train_scaled, Y_train_encode, epochs=1000, verbose=0, callbacks=[PrintAccuracy()], validation_data=(X_test_scaled, Y_test_encode))\n"
      ],
      "metadata": {
        "colab": {
          "base_uri": "https://localhost:8080/"
        },
        "id": "j_DoUg7CIm6v",
        "outputId": "2a5d2e38-dd7d-4588-c658-6120177c221f"
      },
      "execution_count": 224,
      "outputs": [
        {
          "output_type": "stream",
          "name": "stdout",
          "text": [
            "Epoch 1000/1000, Accuracy using top 7 params: 81.75%\n",
            "Epoch 1000/1000, Accuracy using top 6 params: 81.75%\n",
            "Epoch 1000/1000, Accuracy using top 5 params: 80.25%\n",
            "Epoch 1000/1000, Accuracy using top 4 params: 79.50%\n",
            "Epoch 1000/1000, Accuracy using top 3 params: 79.00%\n"
          ]
        }
      ]
    },
    {
      "cell_type": "code",
      "source": [
        "features_data = data.drop(['Chance of Admit ','Serial No.','Admission_Level', 'Research', 'LOR ','SOP','University Rating', 'TOEFL Score'],axis = 1)\n",
        "X_train, X_test, Y_train, Y_test = train_test_split(features_data, y, test_size=0.2, random_state=42)\n",
        "scaler = StandardScaler()\n",
        "X_train_scaled = scaler.fit_transform(X_train)\n",
        "X_test_scaled = scaler.transform(X_test)\n",
        "\n",
        "def model_return(lr):\n",
        "    model = tf.keras.Sequential([\n",
        "        tf.keras.layers.Dense(3, activation='softmax', input_shape=(X_train_scaled.shape[1],))\n",
        "    ])\n",
        "    opt = tf.keras.optimizers.SGD(learning_rate=lr)\n",
        "    model.compile(optimizer=opt, loss='categorical_crossentropy', metrics=['accuracy'])\n",
        "    return model\n",
        "\n",
        "model = model_return(0.01)\n",
        "\n",
        "class PrintAccuracy(tf.keras.callbacks.Callback):\n",
        "    def on_epoch_end(self, epoch, logs=None):\n",
        "        if (epoch + 1)  == 1000:\n",
        "            accuracy = logs.get('accuracy')\n",
        "            print(f'Epoch {epoch + 1}/{self.params[\"epochs\"]}, Accuracy using top 2 params: {accuracy * 100:.2f}%')\n",
        "\n",
        "model = model_return(0.01)\n",
        "\n",
        "# Attach the custom callback to the fit method\n",
        "history = model.fit(X_train_scaled, Y_train_encode, epochs=1000, verbose=0, callbacks=[PrintAccuracy()], validation_data=(X_test_scaled, Y_test_encode))\n"
      ],
      "metadata": {
        "colab": {
          "base_uri": "https://localhost:8080/"
        },
        "id": "mMpWnky8Jl3-",
        "outputId": "11fa5e93-d57c-4ce9-f4e6-b25883176609"
      },
      "execution_count": 225,
      "outputs": [
        {
          "output_type": "stream",
          "name": "stdout",
          "text": [
            "Epoch 1000/1000, Accuracy using top 2 params: 78.75%\n"
          ]
        }
      ]
    },
    {
      "cell_type": "code",
      "source": [
        "features_data = data.drop(['Chance of Admit ','Serial No.','Admission_Level', 'Research', 'LOR ','SOP','University Rating', 'TOEFL Score', 'GRE Score'],axis = 1)\n",
        "X_train, X_test, Y_train, Y_test = train_test_split(features_data, y, test_size=0.2, random_state=42)\n",
        "scaler = StandardScaler()\n",
        "X_train_scaled = scaler.fit_transform(X_train)\n",
        "X_test_scaled = scaler.transform(X_test)\n",
        "\n",
        "def model_return(lr):\n",
        "    model = tf.keras.Sequential([\n",
        "        tf.keras.layers.Dense(3, activation='softmax', input_shape=(X_train_scaled.shape[1],))\n",
        "    ])\n",
        "    opt = tf.keras.optimizers.SGD(learning_rate=lr)\n",
        "    model.compile(optimizer=opt, loss='categorical_crossentropy', metrics=['accuracy'])\n",
        "    return model\n",
        "\n",
        "model = model_return(0.01)\n",
        "\n",
        "class PrintAccuracy(tf.keras.callbacks.Callback):\n",
        "    def on_epoch_end(self, epoch, logs=None):\n",
        "        if (epoch + 1)  == 1000:\n",
        "            accuracy = logs.get('accuracy')\n",
        "            print(f'Epoch {epoch + 1}/{self.params[\"epochs\"]}, Accuracy using top 1 params: {accuracy * 100:.2f}%')\n",
        "\n",
        "model = model_return(0.01)\n",
        "\n",
        "# Attach the custom callback to the fit method\n",
        "history = model.fit(X_train_scaled, Y_train_encode, epochs=1000, verbose=0, callbacks=[PrintAccuracy()], validation_data=(X_test_scaled, Y_test_encode))\n"
      ],
      "metadata": {
        "colab": {
          "base_uri": "https://localhost:8080/"
        },
        "id": "0JEXn9n_J3IY",
        "outputId": "52b39d65-501f-4e43-a60d-224be8111fe5"
      },
      "execution_count": 226,
      "outputs": [
        {
          "output_type": "stream",
          "name": "stdout",
          "text": [
            "Epoch 1000/1000, Accuracy using top 1 params: 76.00%\n"
          ]
        }
      ]
    },
    {
      "cell_type": "markdown",
      "source": [
        "So Accuracy\n",
        "\n",
        "Epoch 1000/1000, Accuracy using top 7 params: 81.75%\n",
        "\n",
        "Epoch 1000/1000, Accuracy using top 6 params: 81.75%\n",
        "\n",
        "Epoch 1000/1000, Accuracy using top 5 params: 80.25%\n",
        "\n",
        "Epoch 1000/1000, Accuracy using top 4 params: 79.50%\n",
        "\n",
        "Epoch 1000/1000, Accuracy using top 3 params: 79.00%\n",
        "\n",
        "Epoch 1000/1000, Accuracy using top 2 params: 78.75%\n",
        "\n",
        "Epoch 1000/1000, Accuracy using top 1 params: 76.00%\n",
        "\n",
        "  Accuracy decreases as number of features taken decreases"
      ],
      "metadata": {
        "id": "_QSCtlFyOiq2"
      }
    },
    {
      "cell_type": "code",
      "source": [
        "# TASK3\n",
        "\n",
        "import pandas as pd\n",
        "import numpy as np\n",
        "import tensorflow as tf\n",
        "from sklearn.preprocessing import StandardScaler\n",
        "from sklearn.model_selection import KFold\n",
        "from sklearn.metrics import mean_squared_error, accuracy_score\n",
        "\n",
        "# Load the dataset\n",
        "df= pd.read_csv(\"/content/Admission_Predict_A3.csv\")\n",
        "X = df.drop(['Serial No.', 'Chance of Admit '], axis=1)\n",
        "y = df['Chance of Admit ']\n",
        "\n",
        "# Standardize the features\n",
        "scaler = StandardScaler()\n",
        "X_scaled = scaler.fit_transform(X)\n",
        "\n",
        "# Number of folds for cross-validation\n",
        "n_splits = 5\n",
        "kf = KFold(n_splits=n_splits, shuffle=True, random_state=42)\n",
        "\n",
        "linear_reg_mse = []\n",
        "logistic_reg_accuracy = []\n",
        "\n",
        "for train_index, test_index in kf.split(X_scaled):\n",
        "    X_train, X_test = X_scaled[train_index], X_scaled[test_index]\n",
        "    y_train, y_test = y.iloc[train_index], y.iloc[test_index]\n",
        "\n",
        "    X_train_tensor = tf.constant(X_train, dtype=tf.float32)\n",
        "    y_train_tensor=tf.constant(y_train.values.reshape(-1,1), dtype=tf.float32)\n",
        "    X_test_tensor= tf.constant(X_test, dtype=tf.float32)\n",
        "    y_test_tensor=tf.constant(y_test.values.reshape(-1,1), dtype=tf.float32)\n",
        "\n",
        "    # Linear Regression\n",
        "    # Define the linear regression model\n",
        "    weights = tf.Variable(tf.random.normal(shape=(X_train.shape[1], 1)))\n",
        "    bias = tf.Variable(tf.random.normal(shape=(1,)), name='bias')\n",
        "\n",
        "    # Define the linear regression function\n",
        "    def linear_regression(X):\n",
        "        return tf.matmul(X, weights) + bias\n",
        "\n",
        "    # Define the mean squared error loss function\n",
        "    def mean_squared_error_loss(y_true, y_pred):\n",
        "        return tf.reduce_mean(tf.square(y_true - y_pred))\n",
        "\n",
        "    # Stochastic Gradient Descent (SGD) optimizer\n",
        "    optimizer = tf.optimizers.SGD(learning_rate=0.1)\n",
        "\n",
        "    # Training loop\n",
        "    epochs = 1000\n",
        "    for epoch in range(epochs):\n",
        "        with tf.GradientTape() as tape:\n",
        "            y_pred = linear_regression(X_train_tensor)\n",
        "            loss = mean_squared_error_loss(y_train_tensor, y_pred)\n",
        "        gradients = tape.gradient(loss, [weights, bias])\n",
        "        optimizer.apply_gradients(zip(gradients, [weights, bias]))\n",
        "\n",
        "    # Evaluate the model\n",
        "    y_pred_test = linear_regression(X_test_tensor)\n",
        "    mse = mean_squared_error(y_test_tensor, y_pred_test)\n",
        "    linear_reg_mse.append(mse)\n",
        "\n",
        "    # Logistic Regression\n",
        "    y_train_category = pd.cut(y_train, bins=[0.3, 0.5, 0.7, 1], labels=[0, 1, 2])\n",
        "    y_test_category = pd.cut(y_test, bins=[0.3, 0.5, 0.7, 1], labels=[0, 1, 2])\n",
        "\n",
        "    logistic_model = tf.keras.Sequential([\n",
        "        tf.keras.layers.Input(shape=X_train.shape[1]),\n",
        "        tf.keras.layers.Dense(3, activation='softmax')  # 3 output classes for low, medium, and high\n",
        "    ])\n",
        "    logistic_model.compile(optimizer='sgd', loss='sparse_categorical_crossentropy', metrics=['accuracy'])\n",
        "    logistic_model.fit(X_train, y_train_category, epochs=1000, verbose=0)\n",
        "    y_pred_category = np.argmax(logistic_model.predict(X_test), axis=1)\n",
        "    accuracy = accuracy_score(y_test_category, y_pred_category)\n",
        "    logistic_reg_accuracy.append(accuracy)\n",
        "\n",
        "print(f'Linear Regression Mean Squared Error: {np.mean(linear_reg_mse)}')\n",
        "print(f'Logistic Regression Accuracy: {np.mean(logistic_reg_accuracy)}')\n"
      ],
      "metadata": {
        "colab": {
          "base_uri": "https://localhost:8080/"
        },
        "id": "sTVM0Ap_PVC9",
        "outputId": "78ce8148-9bb5-4887-a47e-57a52106892c"
      },
      "execution_count": 234,
      "outputs": [
        {
          "output_type": "stream",
          "name": "stdout",
          "text": [
            "4/4 [==============================] - 0s 5ms/step\n",
            "4/4 [==============================] - 0s 4ms/step\n",
            "4/4 [==============================] - 0s 2ms/step\n",
            "4/4 [==============================] - 0s 2ms/step\n",
            "4/4 [==============================] - 0s 3ms/step\n",
            "Linear Regression Mean Squared Error: 0.003705492941662669\n",
            "Logistic Regression Accuracy: 0.796\n"
          ]
        }
      ]
    },
    {
      "cell_type": "markdown",
      "source": [
        "K-fold cross-validation is a technique for evaluating predictive models. The dataset is divided into k subsets or folds. The model is trained and evaluated k times, using a different fold as the validation set each time. Performance metrics from each fold are averaged to estimate the model's generalization performance.\n",
        "\n",
        " The linear regression results with k-fold validation gave the MSE of\n",
        "*** where as the straight forward train, test split method gave the **,\n",
        "\n",
        " The logistic regression results with k-fold validation gave the MSE of *** where as the straight forward train, test split method gave the ** this shows there is very less difference in the result because of the small dataset. But the with K-fold it gave bit better results because This method ensures the model's effectiveness across different data subsets, enhances reliability.\n"
      ],
      "metadata": {
        "id": "u2Mnf0nDJ8o0"
      }
    },
    {
      "cell_type": "code",
      "source": [
        "import pandas as pd\n",
        "from sklearn.model_selection import train_test_split\n",
        "from sklearn.preprocessing import StandardScaler\n",
        "import tensorflow as tf\n",
        "\n",
        "# Assuming the necessary libraries and functions are already imported\n",
        "\n",
        "# Binning and Labeling (Simplified for Binary Classification)\n",
        "bin_edges = [0.0, 0.5, 1]  # Adjusted bin edges for binary classification\n",
        "bin_labels = [0, 1]    # Adjusted bin labels for binary classification\n",
        "data['Admission_Level'] = pd.cut(data['Chance of Admit '], bins=bin_edges, labels=bin_labels, include_lowest=True)\n",
        "features_data = data.drop(['Chance of Admit ', 'Serial No.', 'Admission_Level'], axis=1)\n",
        "\n",
        "# Features and Target Variable\n",
        "y = data['Admission_Level']\n",
        "X_train, X_test, Y_train, Y_test = train_test_split(features_data, y, test_size=0.2, random_state=42)\n",
        "\n",
        "# Standard Scaling\n",
        "scaler = StandardScaler()\n",
        "X_train_scaled = scaler.fit_transform(X_train)\n",
        "X_test_scaled = scaler.transform(X_test)\n",
        "\n",
        "# Convert target variables to binary values for binary crossentropy\n",
        "Y_train_binary = Y_train.astype(int)\n",
        "Y_test_binary = Y_test.astype(int)\n",
        "\n",
        "def model_return(lr):\n",
        "    model = tf.keras.Sequential([\n",
        "        tf.keras.layers.Dense(1, activation='sigmoid', input_shape=(X_train_scaled.shape[1],))\n",
        "    ])\n",
        "    opt = tf.keras.optimizers.SGD(learning_rate=lr)\n",
        "    model.compile(optimizer=opt, loss='binary_crossentropy', metrics=['accuracy'])\n",
        "    return model\n",
        "\n",
        "model = model_return(0.01)\n",
        "\n",
        "class PrintAccuracy(tf.keras.callbacks.Callback):\n",
        "    def on_epoch_end(self, epoch, logs=None):\n",
        "        if (epoch + 1) % 50 == 0:\n",
        "            accuracy = logs.get('accuracy')\n",
        "            print(f'Epoch {epoch + 1}/{self.params[\"epochs\"]}, Accuracy: {accuracy * 100:.2f}%')\n",
        "\n",
        "model = model_return(0.01)\n",
        "\n",
        "# Attach the custom callback to the fit method\n",
        "history = model.fit(X_train_scaled, Y_train_binary, epochs=1000, verbose=0, callbacks=[PrintAccuracy()], validation_data=(X_test_scaled, Y_test_binary))\n"
      ],
      "metadata": {
        "colab": {
          "base_uri": "https://localhost:8080/"
        },
        "id": "R4TFW6K2MYHH",
        "outputId": "3c08e1e9-b5ab-4f7b-aa9c-9db93dac8181"
      },
      "execution_count": 236,
      "outputs": [
        {
          "output_type": "stream",
          "name": "stdout",
          "text": [
            "Epoch 50/1000, Accuracy: 93.00%\n",
            "Epoch 100/1000, Accuracy: 93.50%\n",
            "Epoch 150/1000, Accuracy: 93.50%\n",
            "Epoch 200/1000, Accuracy: 93.50%\n",
            "Epoch 250/1000, Accuracy: 94.25%\n",
            "Epoch 300/1000, Accuracy: 94.50%\n",
            "Epoch 350/1000, Accuracy: 94.50%\n",
            "Epoch 400/1000, Accuracy: 94.75%\n",
            "Epoch 450/1000, Accuracy: 95.00%\n",
            "Epoch 500/1000, Accuracy: 95.00%\n",
            "Epoch 550/1000, Accuracy: 95.25%\n",
            "Epoch 600/1000, Accuracy: 95.25%\n",
            "Epoch 650/1000, Accuracy: 95.25%\n",
            "Epoch 700/1000, Accuracy: 95.25%\n",
            "Epoch 750/1000, Accuracy: 95.25%\n",
            "Epoch 800/1000, Accuracy: 95.25%\n",
            "Epoch 850/1000, Accuracy: 95.25%\n",
            "Epoch 900/1000, Accuracy: 94.75%\n",
            "Epoch 950/1000, Accuracy: 94.75%\n",
            "Epoch 1000/1000, Accuracy: 94.75%\n"
          ]
        }
      ]
    },
    {
      "cell_type": "code",
      "source": [
        "Sigmoid gave better results because of lesser classification number\n",
        "(Might Over fit)"
      ],
      "metadata": {
        "id": "Z8dUiTsNQ1sL"
      },
      "execution_count": null,
      "outputs": []
    }
  ]
}