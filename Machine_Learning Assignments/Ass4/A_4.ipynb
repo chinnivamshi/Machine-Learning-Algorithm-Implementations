{
  "cells": [
    {
      "cell_type": "markdown",
      "metadata": {
        "id": "s4kRzhK6VMFC"
      },
      "source": [
        "# **ML Assignment-4**"
      ]
    },
    {
      "cell_type": "markdown",
      "metadata": {
        "id": "Id_2rce5U_1B"
      },
      "source": [
        "\n",
        "Chinni Vamshi Krushna 2021A7PS2084H\n",
        "\n",
        "Atharva Chikhale 2021A7PS2752H\n",
        "\n",
        "Rishabh Mittal 2021A7PS2620H"
      ]
    },
    {
      "cell_type": "markdown",
      "metadata": {
        "id": "ekPXGG7QUoM7"
      },
      "source": [
        "# **PART-1**"
      ]
    },
    {
      "cell_type": "markdown",
      "metadata": {
        "id": "1--p2uHrT5I7"
      },
      "source": [
        "# **Applying Gaussian Naïve Bayes Generative Model on Data-NB(Grades Data)**"
      ]
    },
    {
      "cell_type": "code",
      "execution_count": 34,
      "metadata": {
        "colab": {
          "base_uri": "https://localhost:8080/",
          "height": 1000
        },
        "id": "s2KWtBL3aRzv",
        "outputId": "f7e71b54-8a0b-46ab-9819-fe70c4324a29"
      },
      "outputs": [
        {
          "output_type": "stream",
          "name": "stdout",
          "text": [
            "   Lab-Test1(30)  Lab-Test2(24)  Midsem Test (90)  Gender Attendance Grade\n",
            "0          13.00             24              66.0    Male       High     A\n",
            "1          15.00             24              67.0  Female       High     A\n",
            "2           5.25             24              45.0    Male       High    B-\n",
            "3           2.75             19              34.0    Male        Low    C-\n",
            "4           7.25             24              30.0    Male       High    C-\n"
          ]
        },
        {
          "output_type": "display_data",
          "data": {
            "text/plain": [
              "<Figure size 640x480 with 1 Axes>"
            ],
            "image/png": "[encoded data removed]"
          },
          "metadata": {}
        },
        {
          "output_type": "stream",
          "name": "stdout",
          "text": [
            "\n",
            "Accuracy: 0.82\n",
            "Confusion Matrix:\n",
            "[[ 7  0  0  0  0  0  0  0]\n",
            " [ 0  6  1  0  0  0  0  0]\n",
            " [ 0  0 10  2  0  0  0  0]\n",
            " [ 0  0  1 30  0  0  0  0]\n",
            " [ 0  0  0  9  6  0  1  0]\n",
            " [ 0  0  0  1  2 19  0  0]\n",
            " [ 0  0  0  0  0  1  3  0]\n",
            " [ 0  0  0  0  0  0  0  1]]\n",
            "\n",
            "                      Classification Report:\n",
            "              precision    recall  f1-score   support\n",
            "\n",
            "           0       1.00      1.00      1.00         7\n",
            "           3       1.00      0.86      0.92         7\n",
            "           5       0.83      0.83      0.83        12\n",
            "           6       0.71      0.97      0.82        31\n",
            "           2       0.75      0.38      0.50        16\n",
            "           1       0.95      0.86      0.90        22\n",
            "           4       0.75      0.75      0.75         4\n",
            "           7       1.00      1.00      1.00         1\n",
            "\n",
            "    accuracy                           0.82       100\n",
            "   macro avg       0.87      0.83      0.84       100\n",
            "weighted avg       0.83      0.82      0.81       100\n",
            "\n"
          ]
        }
      ],
      "source": [
        "import pandas as pd\n",
        "import matplotlib.pyplot as plt\n",
        "from sklearn.model_selection import train_test_split\n",
        "from sklearn.naive_bayes import GaussianNB\n",
        "from sklearn.metrics import accuracy_score, confusion_matrix, classification_report\n",
        "from sklearn.preprocessing import LabelEncoder, OneHotEncoder\n",
        "\n",
        "# Step 1: Load the dataset\n",
        "data = pd.read_csv(\"Data-NB.csv\")\n",
        "print(data.head())\n",
        "\n",
        "# Step 1.5: Draw a bar graph to visualize the distribution of grades\n",
        "grade_counts = data['Grade'].value_counts().sort_index()\n",
        "plt.bar(grade_counts.index, grade_counts.values)\n",
        "plt.xlabel('Grade')\n",
        "plt.ylabel('Count')\n",
        "plt.title('Distribution of Grades')\n",
        "plt.show()\n",
        "\n",
        "print()\n",
        "\n",
        "# Step 2: Preprocess the data\n",
        "encoder = LabelEncoder()\n",
        "data['Grade'] = encoder.fit_transform(data['Grade'])\n",
        "data['Attendance'] = encoder.fit_transform(data['Attendance'])\n",
        "data['Gender'] = encoder.fit_transform(data['Gender'])\n",
        "\n",
        "data_encoded = data\n",
        "\n",
        "# Step 3: Split the data into features (X) and target (y)\n",
        "X = data_encoded.drop(columns=['Grade'])\n",
        "y = data_encoded['Grade']\n",
        "\n",
        "# Step 4: Split the data into training and testing sets (80-20 rule)\n",
        "X_train, X_test, y_train, y_test = train_test_split(X, y, test_size=0.2, random_state=32)\n",
        "\n",
        "# Step 5: Train a Gaussian Naive Bayes classifier\n",
        "nb_classifier = GaussianNB()\n",
        "nb_classifier.fit(X_train, y_train)\n",
        "\n",
        "# Step 6: Predict grades on the test data\n",
        "y_pred = nb_classifier.predict(X_test)\n",
        "\n",
        "# Step 7: Calculate accuracy\n",
        "accuracy = accuracy_score(y_test, y_pred)\n",
        "print(\"Accuracy:\", accuracy)\n",
        "\n",
        "# Step 8: Calculate confusion matrix\n",
        "conf_matrix = confusion_matrix(y_test, y_pred)\n",
        "print(\"Confusion Matrix:\")\n",
        "print(conf_matrix)\n",
        "\n",
        "print()\n",
        "\n",
        "# Step 9: Convert unique values to strings\n",
        "target_names = data_encoded['Grade'].unique().astype(str)\n",
        "\n",
        "# Step 10: Calculate precision, recall, support, and F1 score for each class\n",
        "report = classification_report(y_test, y_pred, target_names=target_names, zero_division=1)\n",
        "print(\"                      \"+\"Classification Report:\")\n",
        "print(report)\n",
        "\n"
      ]
    },
    {
      "cell_type": "code",
      "source": [
        "from sklearn.metrics import accuracy_score\n",
        "arr_acc=[]\n",
        "# Calculate accuracy\n",
        "accuracy_value = accuracy_score(y_test, y_pred)\n",
        "\n",
        "# Print accuracy value\n",
        "print(\"Accuracy:\", accuracy_value)\n",
        "\n",
        "# Store the accuracy value in the array\n",
        "# arr_acc.append(accuracy_value)\n",
        "arr_acc.insert(0, accuracy_value)"
      ],
      "metadata": {
        "colab": {
          "base_uri": "https://localhost:8080/"
        },
        "id": "iSFzEsAyGEy2",
        "outputId": "7957ebaf-d485-4187-d1cc-e84c51c680c2"
      },
      "execution_count": 47,
      "outputs": [
        {
          "output_type": "stream",
          "name": "stdout",
          "text": [
            "Accuracy: 0.82\n"
          ]
        }
      ]
    },
    {
      "cell_type": "markdown",
      "metadata": {
        "id": "SJylAL9InKIi"
      },
      "source": [
        "# **PART-2**"
      ]
    },
    {
      "cell_type": "markdown",
      "metadata": {
        "id": "0lvcf6rqVo1l"
      },
      "source": [
        "# **Applying Gaussian Naïve Bayes Generative Model on IRIS - Copy (Flowers Data)**"
      ]
    },
    {
      "cell_type": "code",
      "execution_count": 52,
      "metadata": {
        "colab": {
          "base_uri": "https://localhost:8080/",
          "height": 784
        },
        "id": "U9T7s5W7pWWb",
        "outputId": "5039ee35-c7bf-4b70-8f1f-7e9c78861bb4"
      },
      "outputs": [
        {
          "output_type": "display_data",
          "data": {
            "text/plain": [
              "<Figure size 640x480 with 1 Axes>"
            ],
            "image/png": "[encoded data removed]"
          },
          "metadata": {}
        },
        {
          "output_type": "stream",
          "name": "stdout",
          "text": [
            "\n",
            "Accuracy: 0.9666666666666667\n",
            "Confusion Matrix:\n",
            "[[12  0  0]\n",
            " [ 0  8  1]\n",
            " [ 0  0  9]]\n",
            "\n",
            "                      Classification Report:\n",
            "                 precision    recall  f1-score   support\n",
            "\n",
            "    Iris-setosa       1.00      1.00      1.00        12\n",
            "Iris-versicolor       1.00      0.89      0.94         9\n",
            " Iris-virginica       0.90      1.00      0.95         9\n",
            "\n",
            "       accuracy                           0.97        30\n",
            "      macro avg       0.97      0.96      0.96        30\n",
            "   weighted avg       0.97      0.97      0.97        30\n",
            "\n"
          ]
        }
      ],
      "source": [
        "import pandas as pd\n",
        "import matplotlib.pyplot as plt\n",
        "from sklearn.model_selection import train_test_split\n",
        "from sklearn.naive_bayes import GaussianNB\n",
        "from sklearn.metrics import accuracy_score, confusion_matrix, classification_report\n",
        "\n",
        "# Step 1:\n",
        "data_f = pd.read_csv(\"iris - Copy.csv\")\n",
        "# print(data_f)\n",
        "data_f.head()\n",
        "\n",
        "# Step 1.5: Draw a bar graph to visualize the distribution of grades\n",
        "grade_counts = data_f['Species'].value_counts().sort_index()\n",
        "plt.bar(grade_counts.index, grade_counts.values)\n",
        "plt.xlabel('Species')\n",
        "plt.ylabel('Count')\n",
        "plt.title('Distribution of Species')\n",
        "plt.show()\n",
        "\n",
        "print()\n",
        "\n",
        "# Step 2: Split the data into features (Xf) and target (yf)\n",
        "Xf = data_f.drop(columns=['Species'])\n",
        "yf = data_f['Species']\n",
        "\n",
        "# Step 3: Split the data into training and testing sets (80-20 rule)\n",
        "Xf_train, Xf_test, yf_train, yf_test = train_test_split(Xf, yf, test_size=0.2, random_state=12)\n",
        "\n",
        "# Step 4: Train a Gaussian Naive Bayes classifier\n",
        "nb_classifier_f = GaussianNB()\n",
        "nb_classifier_f.fit(Xf_train, yf_train)\n",
        "\n",
        "# Step 5: Predict grades on the test data\n",
        "yf_pred = nb_classifier_f.predict(Xf_test)\n",
        "\n",
        "# Step 6: Calculate accuracy\n",
        "accuracy_f = accuracy_score(yf_test, yf_pred)\n",
        "print(\"Accuracy:\", accuracy_f)\n",
        "\n",
        "# Step 7: Calculate confusion matrix\n",
        "conf_matrix_f = confusion_matrix(yf_test, yf_pred)\n",
        "print(\"Confusion Matrix:\")\n",
        "print(conf_matrix_f)\n",
        "\n",
        "print()\n",
        "\n",
        "# Step 8: Convert unique values to strings\n",
        "target_names_f = data_f['Species'].unique().astype(str)\n",
        "\n",
        "# Step 9: Calculate precision, recall, support, and F1 score for each class\n",
        "report_f = classification_report(yf_test, yf_pred, target_names=target_names_f, zero_division=1)\n",
        "print(\"                      \"+\"Classification Report:\")\n",
        "print(report_f)"
      ]
    },
    {
      "cell_type": "code",
      "source": [
        "from sklearn.metrics import accuracy_score\n",
        "arr_acc2=[]\n",
        "# Calculate accuracy\n",
        "accuracy_value = accuracy_score(yf_test, yf_pred)\n",
        "\n",
        "# Print accuracy value\n",
        "print(\"Accuracy:\", accuracy_value)\n",
        "\n",
        "# Store the accuracy value in the array\n",
        "# arr_acc.append(accuracy_value)\n",
        "arr_acc2.insert(0, accuracy_value)"
      ],
      "metadata": {
        "colab": {
          "base_uri": "https://localhost:8080/"
        },
        "id": "oYLVlnAqJcjy",
        "outputId": "c38bcd29-93a6-48e4-dfe3-d608fc341b3e"
      },
      "execution_count": 113,
      "outputs": [
        {
          "output_type": "stream",
          "name": "stdout",
          "text": [
            "Accuracy: 0.9666666666666667\n"
          ]
        }
      ]
    },
    {
      "cell_type": "markdown",
      "metadata": {
        "id": "yEkkYS0vVnh3"
      },
      "source": [
        "# **Gaussian Naïve Bayes Generative Model on inbuilt IRIS dataset (Flowers Data)**"
      ]
    },
    {
      "cell_type": "code",
      "execution_count": 117,
      "metadata": {
        "id": "FsnRBfiglhB4",
        "colab": {
          "base_uri": "https://localhost:8080/",
          "height": 1000
        },
        "outputId": "2a284aba-90cc-423c-ad9e-1c4d29b8f1ab"
      },
      "outputs": [
        {
          "output_type": "stream",
          "name": "stdout",
          "text": [
            "     sepal length (cm)  sepal width (cm)  petal length (cm)  petal width (cm)  \\\n",
            "0                  5.1               3.5                1.4               0.2   \n",
            "1                  4.9               3.0                1.4               0.2   \n",
            "2                  4.7               3.2                1.3               0.2   \n",
            "3                  4.6               3.1                1.5               0.2   \n",
            "4                  5.0               3.6                1.4               0.2   \n",
            "..                 ...               ...                ...               ...   \n",
            "145                6.7               3.0                5.2               2.3   \n",
            "146                6.3               2.5                5.0               1.9   \n",
            "147                6.5               3.0                5.2               2.0   \n",
            "148                6.2               3.4                5.4               2.3   \n",
            "149                5.9               3.0                5.1               1.8   \n",
            "\n",
            "     Species  \n",
            "0          0  \n",
            "1          0  \n",
            "2          0  \n",
            "3          0  \n",
            "4          0  \n",
            "..       ...  \n",
            "145        2  \n",
            "146        2  \n",
            "147        2  \n",
            "148        2  \n",
            "149        2  \n",
            "\n",
            "[150 rows x 5 columns]\n"
          ]
        },
        {
          "output_type": "display_data",
          "data": {
            "text/plain": [
              "<Figure size 640x480 with 1 Axes>"
            ],
            "image/png": "[encoded data removed]"
          },
          "metadata": {}
        },
        {
          "output_type": "stream",
          "name": "stdout",
          "text": [
            "\n",
            "Accuracy: 0.9666666666666667\n",
            "Confusion Matrix:\n",
            "[[12  0  0]\n",
            " [ 0  8  1]\n",
            " [ 0  0  9]]\n",
            "\n",
            "                      Classification Report:\n",
            "              precision    recall  f1-score   support\n",
            "\n",
            "           0       1.00      1.00      1.00        12\n",
            "           1       1.00      0.89      0.94         9\n",
            "           2       0.90      1.00      0.95         9\n",
            "\n",
            "    accuracy                           0.97        30\n",
            "   macro avg       0.97      0.96      0.96        30\n",
            "weighted avg       0.97      0.97      0.97        30\n",
            "\n"
          ]
        }
      ],
      "source": [
        "import pandas as pd\n",
        "import matplotlib.pyplot as plt\n",
        "from sklearn.model_selection import train_test_split\n",
        "from sklearn.naive_bayes import GaussianNB\n",
        "from sklearn.metrics import accuracy_score, confusion_matrix, classification_report\n",
        "from sklearn import datasets\n",
        "\n",
        "iris = datasets.load_iris()\n",
        "iris_df = pd.DataFrame(data=iris.data, columns=iris.feature_names)\n",
        "iris_df['Species'] = iris.target\n",
        "print(iris_df)\n",
        "\n",
        "\n",
        "# Step 1.5: Draw a bar graph to visualize the distribution of grades\n",
        "grade_counts = iris_df['Species'].value_counts().sort_index()\n",
        "plt.bar(grade_counts.index, grade_counts.values)\n",
        "plt.xlabel('Species')\n",
        "plt.ylabel('Count')\n",
        "plt.title('Distribution of Species')\n",
        "plt.show()\n",
        "\n",
        "print()\n",
        "\n",
        "# Step 2: Split the data into features (Xf) and target (yf)\n",
        "Xi = iris_df.drop(columns=['Species'])\n",
        "yi = iris_df['Species']\n",
        "\n",
        "# Step 3: Split the data into training and testing sets (80-20 rule)\n",
        "Xi_train, Xi_test, yi_train, yi_test = train_test_split(Xi, yi, test_size=0.2, random_state=12)\n",
        "\n",
        "# Step 4: Train a Gaussian Naive Bayes classifier\n",
        "nb_classifier_i = GaussianNB()\n",
        "nb_classifier_i.fit(Xi_train, yi_train)\n",
        "\n",
        "# Step 5: Predict grades on the test data\n",
        "yi_pred = nb_classifier_i.predict(Xi_test)\n",
        "\n",
        "# Step 6: Calculate accuracy\n",
        "accuracy_i = accuracy_score(yi_test, yi_pred)\n",
        "print(\"Accuracy:\", accuracy_i)\n",
        "\n",
        "# Step 7: Calculate confusion matrix\n",
        "conf_matrix_i = confusion_matrix(yi_test, yi_pred)\n",
        "print(\"Confusion Matrix:\")\n",
        "print(conf_matrix_i)\n",
        "\n",
        "print()\n",
        "\n",
        "# Step 8: Convert unique values to strings\n",
        "target_names_i = iris_df['Species'].unique().astype(str)\n",
        "\n",
        "# Step 9: Calculate precision, recall, support, and F1 score for each class\n",
        "report_i = classification_report(yi_test, yi_pred, target_names=target_names_i, zero_division=1)\n",
        "print(\"                      \"+\"Classification Report:\")\n",
        "print(report_i)\n"
      ]
    },
    {
      "cell_type": "markdown",
      "source": [
        "# **PART-3**"
      ],
      "metadata": {
        "id": "fRW4gQEZUG1F"
      }
    },
    {
      "cell_type": "markdown",
      "metadata": {
        "id": "_YVaK1UjWLDy"
      },
      "source": [
        "# **Observing the Correlation of features in datasets**"
      ]
    },
    {
      "cell_type": "code",
      "execution_count": null,
      "metadata": {
        "colab": {
          "base_uri": "https://localhost:8080/",
          "height": 927
        },
        "id": "ZCFWWymJHrgN",
        "outputId": "a3f8cae8-bbd9-42bc-ca42-f18fede50f08"
      },
      "outputs": [
        {
          "name": "stdout",
          "output_type": "stream",
          "text": [
            "Correlation Matrix:\n",
            "                  Lab-Test1(30)  Lab-Test2(24)  Midsem Test (90)    Gender  \\\n",
            "Lab-Test1(30)          1.000000       0.120117          0.459071 -0.046494   \n",
            "Lab-Test2(24)          0.120117       1.000000          0.200036 -0.010587   \n",
            "Midsem Test (90)       0.459071       0.200036          1.000000  0.003822   \n",
            "Gender                -0.046494      -0.010587          0.003822  1.000000   \n",
            "Attendance            -0.020248      -0.040520         -0.010278 -0.017262   \n",
            "Grade                 -0.676709      -0.278658         -0.924707  0.018266   \n",
            "\n",
            "                  Attendance     Grade  \n",
            "Lab-Test1(30)      -0.020248 -0.676709  \n",
            "Lab-Test2(24)      -0.040520 -0.278658  \n",
            "Midsem Test (90)   -0.010278 -0.924707  \n",
            "Gender             -0.017262  0.018266  \n",
            "Attendance          1.000000  0.022650  \n",
            "Grade               0.022650  1.000000  \n"
          ]
        },
        {
          "data": {
            "image/png": "[encoded data removed]",
            "text/plain": [
              "<Figure size 800x600 with 2 Axes>"
            ]
          },
          "metadata": {},
          "output_type": "display_data"
        }
      ],
      "source": [
        "import seaborn as sns\n",
        "\n",
        "# Calculate correlation matrix\n",
        "corr_matrix1 = data.corr()\n",
        "\n",
        "# Print correlation matrix\n",
        "print(\"Correlation Matrix:\")\n",
        "print(corr_matrix1)\n",
        "\n",
        "# Plot heatmap for correlation matrix\n",
        "plt.figure(figsize=(8, 6))\n",
        "sns.heatmap(corr_matrix1, annot=True, cmap='coolwarm', fmt=\".2f\", linewidths=0.5)\n",
        "plt.title('Correlation Matrix')\n",
        "plt.show()\n"
      ]
    },
    {
      "cell_type": "markdown",
      "metadata": {
        "id": "NvFe_GK-d5pg"
      },
      "source": [
        "# **Verifing the assumptions of Naïve Bayes algorithm on Grades Data.**"
      ]
    },
    {
      "cell_type": "markdown",
      "metadata": {
        "id": "t7FcaBXNc7hz"
      },
      "source": [
        "Independence Assumption: Naïve Bayes assumes that the presence of a particular feature in a class is unrelated to the presence of any other feature. In other words, the features are independent given the class variable. We can check this by examining the correlations between features.\n",
        "Looking at the correlation matrix:\n",
        "\n",
        "There are some correlations between Lab-Test1 and Midsem Test, Lab-Test1 and Grade, and Lab-Test2 and Grade, but they are not extremely high. This suggests that there is some degree of correlation between these features, violating the independence assumption to some extent. However, the correlations are not strong, so this assumption may still hold reasonably well.\n",
        "Normality Assumption: Naïve Bayes assumes that features follow a normal distribution. This assumption is not explicitly checked with the correlation matrix provided, but it's worth noting for preprocessing or feature engineering steps.\n",
        "\n",
        "No Multicollinearity: Naïve Bayes assumes no multicollinearity among features. Multicollinearity occurs when features are highly correlated with each other. Looking at the correlation matrix, there are some correlations between features, but none of them are exceptionally high, indicating a low risk of multicollinearity.\n",
        "\n",
        "In summary, based on the correlation matrix provided, the independence assumption of Naïve Bayes might be violated to some extent due to the correlations between certain features. However, the violations are not severe, and Naïve Bayes could still perform reasonably well."
      ]
    },
    {
      "cell_type": "code",
      "execution_count": null,
      "metadata": {
        "colab": {
          "base_uri": "https://localhost:8080/",
          "height": 896
        },
        "id": "IMEWU-dwVmN5",
        "outputId": "cd49bf28-ad07-498f-8f30-40e5274edc88"
      },
      "outputs": [
        {
          "name": "stdout",
          "output_type": "stream",
          "text": [
            "Correlation Matrix:\n",
            "                   sepal length (cm)  sepal width (cm)  petal length (cm)  \\\n",
            "sepal length (cm)           1.000000         -0.117570           0.871754   \n",
            "sepal width (cm)           -0.117570          1.000000          -0.428440   \n",
            "petal length (cm)           0.871754         -0.428440           1.000000   \n",
            "petal width (cm)            0.817941         -0.366126           0.962865   \n",
            "Species                     0.782561         -0.426658           0.949035   \n",
            "\n",
            "                   petal width (cm)   Species  \n",
            "sepal length (cm)          0.817941  0.782561  \n",
            "sepal width (cm)          -0.366126 -0.426658  \n",
            "petal length (cm)          0.962865  0.949035  \n",
            "petal width (cm)           1.000000  0.956547  \n",
            "Species                    0.956547  1.000000  \n"
          ]
        },
        {
          "data": {
            "image/png": "[encoded data removed]",
            "text/plain": [
              "<Figure size 800x600 with 2 Axes>"
            ]
          },
          "metadata": {},
          "output_type": "display_data"
        }
      ],
      "source": [
        "import seaborn as sns\n",
        "\n",
        "# Calculate correlation matrix\n",
        "corr_matrix2 = iris_df.corr()\n",
        "\n",
        "# Print correlation matrix\n",
        "print(\"Correlation Matrix:\")\n",
        "print(corr_matrix2)\n",
        "\n",
        "# Plot heatmap for correlation matrix\n",
        "plt.figure(figsize=(8, 6))\n",
        "sns.heatmap(corr_matrix2, annot=True, cmap='coolwarm', fmt=\".2f\", linewidths=0.5)\n",
        "plt.title('Correlation Matrix')\n",
        "plt.show()\n"
      ]
    },
    {
      "cell_type": "markdown",
      "metadata": {
        "id": "55WTzlWYeRa9"
      },
      "source": [
        "# **Verifing the assumptions of Naïve Bayes algorithm on IRIS Data.**"
      ]
    },
    {
      "cell_type": "markdown",
      "metadata": {
        "id": "WD-OigrsfCM1"
      },
      "source": [
        "Looking at the correlation matrix:\n",
        "\n",
        "The correlations between the features (sepal length, sepal width, petal length, and petal width) are not exceptionally high. While some correlations are significant (e.g., between petal length and petal width), they are not perfect correlations, suggesting some degree of independence between the features. Therefore, the independence assumption might hold reasonably well for this dataset.\n",
        "Normality Assumption: Naïve Bayes assumes that features follow a normal distribution. This assumption is not explicitly checked with the correlation matrix. However, given that the Naïve Bayes algorithm doesn't require strict adherence to normality, it's generally not a major concern for this algorithm, especially for classification tasks with categorical target variables like the Iris dataset.\n",
        "\n",
        "No Multicollinearity: Naïve Bayes assumes no multicollinearity among features. Multicollinearity occurs when features are highly correlated with each other. Looking at the correlation matrix, there are correlations between some features, but none of them are exceptionally high, indicating a low risk of multicollinearity.\n",
        "\n",
        "In summary, based on the correlation matrix provided, the independence assumption of Naïve Bayes might hold reasonably well for the Iris dataset. Other assumptions, such as normality and multicollinearity, also appear to be satisfied to a reasonable extent. Therefore, Naïve Bayes could be a suitable algorithm for this dataset"
      ]
    },
    {
      "cell_type": "markdown",
      "metadata": {
        "id": "tgp8V5OkBcSk"
      },
      "source": [
        "# **PART-4**"
      ]
    },
    {
      "cell_type": "markdown",
      "metadata": {
        "id": "Q8BvL9S-NEbW"
      },
      "source": [
        "# **Applying the Gradient Descent and Random Forest on Data-NB Dataset**"
      ]
    },
    {
      "cell_type": "code",
      "execution_count": null,
      "metadata": {
        "id": "gY7HmPbBNCwK"
      },
      "outputs": [],
      "source": [
        "!pip install tensorflow_decision_forests\n",
        "!pip install tf_keras"
      ]
    },
    {
      "cell_type": "code",
      "execution_count": 40,
      "metadata": {
        "colab": {
          "base_uri": "https://localhost:8080/"
        },
        "id": "J4kELZP_NLGI",
        "outputId": "cc02eef4-aa61-4f5c-b6ec-72efcd774b73"
      },
      "outputs": [
        {
          "output_type": "stream",
          "name": "stdout",
          "text": [
            "     Lab-Test1(30)  Lab-Test2(24)  Midsem Test (90)  Gender Attendance Grade\n",
            "0            13.00             24              66.0    Male       High     A\n",
            "1            15.00             24              67.0  Female       High     A\n",
            "2             5.25             24              45.0    Male       High    B-\n",
            "3             2.75             19              34.0    Male        Low    C-\n",
            "4             7.25             24              30.0    Male       High    C-\n",
            "..             ...            ...               ...     ...        ...   ...\n",
            "495          10.50             24              48.0    Male        Low    B-\n",
            "496          11.00             24              31.0  Female   Moderate     C\n",
            "497          11.75             24              47.0    Male       High    B-\n",
            "498           0.00             20               0.0  Female        Low     E\n",
            "499          13.75             24              53.0    Male   Moderate     B\n",
            "\n",
            "[500 rows x 6 columns]\n"
          ]
        }
      ],
      "source": [
        "import os\n",
        "os.environ['TF_USE_LEGACY_KERAS']='1'\n",
        "import pandas as pd\n",
        "import numpy as np\n",
        "import tensorflow as tf\n",
        "import tensorflow_decision_forests as tfdf\n",
        "import math\n",
        "import tf_keras\n",
        "\n",
        "# Load the provided excel file \"Data-RF.xlsx\" into a Pandas dataframe\n",
        "data = pd.read_csv(\"Data-NB.csv\")\n",
        "\n",
        "print(data)\n",
        "# print(data[label])\n"
      ]
    },
    {
      "cell_type": "code",
      "execution_count": 41,
      "metadata": {
        "colab": {
          "base_uri": "https://localhost:8080/"
        },
        "id": "GlweyTHANNP7",
        "outputId": "001e945b-cd65-4a03-83a8-531c7e24fe20"
      },
      "outputs": [
        {
          "output_type": "stream",
          "name": "stdout",
          "text": [
            "357 examples in training, 143 examples for testing.\n"
          ]
        }
      ],
      "source": [
        "# # Map the categorical values in the 'Grade' column to numerical values using label encoding\n",
        "grade_mapping = {'A': 0, 'A-': 5, 'B': 4, 'B-': 1,'C': 6, 'C-': 2,'D': 3, 'E': 7}\n",
        "data['Grade'] = data['Grade'].map(grade_mapping)\n",
        "\n",
        "import numpy as np\n",
        "\n",
        "def split_dataset(dataset, test_ratio=0.3):\n",
        "    \"\"\"\n",
        "    Splits a pandas DataFrame in two.\n",
        "    \"\"\"\n",
        "    test_indices = np.random.rand(len(dataset)) < test_ratio\n",
        "    return dataset[~test_indices], dataset[test_indices]\n",
        "\n",
        "train_ds_pd, test_ds_pd = split_dataset(data)\n",
        "print(\"{} examples in training, {} examples for testing.\".format(\n",
        "    len(train_ds_pd), len(test_ds_pd)))\n"
      ]
    },
    {
      "cell_type": "code",
      "execution_count": null,
      "metadata": {
        "id": "G8akoedNNcMV"
      },
      "outputs": [],
      "source": [
        "from tensorflow_decision_forests.keras import pd_dataframe_to_tf_dataset\n",
        "\n",
        "# # Specify the model.\n",
        "\n",
        "train_ds = pd_dataframe_to_tf_dataset(train_ds_pd,label=\"Grade\")\n",
        "test_ds = pd_dataframe_to_tf_dataset(test_ds_pd,label=\"Grade\")\n"
      ]
    },
    {
      "cell_type": "code",
      "execution_count": 43,
      "metadata": {
        "colab": {
          "base_uri": "https://localhost:8080/"
        },
        "id": "JqmYwC_kO2V2",
        "outputId": "fe59c1b2-c304-4bdc-b3bc-6e40c77d6f38"
      },
      "outputs": [
        {
          "output_type": "stream",
          "name": "stdout",
          "text": [
            "Use 2 thread(s) for training\n",
            "Use /tmp/tmpvdl1qym8 as temporary training directory\n",
            "Use 2 thread(s) for training\n",
            "Use /tmp/tmpi0sk5qxb as temporary training directory\n",
            "Reading training dataset...\n",
            "Training tensor examples:\n",
            "Features: {'Lab-Test1(30)': <tf.Tensor 'data:0' shape=(None,) dtype=float64>, 'Lab-Test2(24)': <tf.Tensor 'data_1:0' shape=(None,) dtype=int64>, 'Midsem_Test_(90)': <tf.Tensor 'data_2:0' shape=(None,) dtype=float64>, 'Gender': <tf.Tensor 'data_3:0' shape=(None,) dtype=string>, 'Attendance': <tf.Tensor 'data_4:0' shape=(None,) dtype=string>}\n",
            "Label: Tensor(\"data_5:0\", shape=(None,), dtype=int64)\n",
            "Weights: None\n",
            "Normalized tensor features:\n",
            " {'Lab-Test1(30)': SemanticTensor(semantic=<Semantic.NUMERICAL: 1>, tensor=<tf.Tensor 'Cast:0' shape=(None,) dtype=float32>), 'Lab-Test2(24)': SemanticTensor(semantic=<Semantic.NUMERICAL: 1>, tensor=<tf.Tensor 'Cast_1:0' shape=(None,) dtype=float32>), 'Midsem_Test_(90)': SemanticTensor(semantic=<Semantic.NUMERICAL: 1>, tensor=<tf.Tensor 'Cast_2:0' shape=(None,) dtype=float32>), 'Gender': SemanticTensor(semantic=<Semantic.CATEGORICAL: 2>, tensor=<tf.Tensor 'data_3:0' shape=(None,) dtype=string>), 'Attendance': SemanticTensor(semantic=<Semantic.CATEGORICAL: 2>, tensor=<tf.Tensor 'data_4:0' shape=(None,) dtype=string>)}\n",
            "Training dataset read in 0:00:00.259885. Found 357 examples.\n",
            "Training model...\n"
          ]
        },
        {
          "output_type": "stream",
          "name": "stderr",
          "text": [
            "[INFO 24-04-05 16:40:21.2825 UTC kernel.cc:771] Start Yggdrasil model training\n",
            "[INFO 24-04-05 16:40:21.2825 UTC kernel.cc:772] Collect training examples\n",
            "[INFO 24-04-05 16:40:21.2825 UTC kernel.cc:785] Dataspec guide:\n",
            "column_guides {\n",
            "  column_name_pattern: \"^__LABEL$\"\n",
            "  type: CATEGORICAL\n",
            "  categorial {\n",
            "    min_vocab_frequency: 0\n",
            "    max_vocab_count: -1\n",
            "  }\n",
            "}\n",
            "default_column_guide {\n",
            "  categorial {\n",
            "    max_vocab_count: 2000\n",
            "  }\n",
            "  discretized_numerical {\n",
            "    maximum_num_bins: 255\n",
            "  }\n",
            "}\n",
            "ignore_columns_without_guides: false\n",
            "detect_numerical_as_discretized_numerical: false\n",
            "\n",
            "[INFO 24-04-05 16:40:21.2828 UTC kernel.cc:391] Number of batches: 1\n",
            "[INFO 24-04-05 16:40:21.2828 UTC kernel.cc:392] Number of examples: 357\n",
            "[INFO 24-04-05 16:40:21.2831 UTC kernel.cc:792] Training dataset:\n",
            "Number of records: 357\n",
            "Number of columns: 6\n",
            "\n",
            "Number of columns by type:\n",
            "\tCATEGORICAL: 3 (50%)\n",
            "\tNUMERICAL: 3 (50%)\n",
            "\n",
            "Columns:\n",
            "\n",
            "CATEGORICAL: 3 (50%)\n",
            "\t0: \"Attendance\" CATEGORICAL has-dict vocab-size:4 zero-ood-items most-frequent:\"High\" 257 (71.9888%)\n",
            "\t1: \"Gender\" CATEGORICAL has-dict vocab-size:3 zero-ood-items most-frequent:\"Female\" 214 (59.944%)\n",
            "\t5: \"__LABEL\" CATEGORICAL integerized vocab-size:9 no-ood-item\n",
            "\n",
            "NUMERICAL: 3 (50%)\n",
            "\t2: \"Lab-Test1(30)\" NUMERICAL mean:9.63585 min:-3.5 max:25.5 sd:5.54695\n",
            "\t3: \"Lab-Test2(24)\" NUMERICAL mean:23.2885 min:0 max:24 sd:2.6533\n",
            "\t4: \"Midsem_Test_(90)\" NUMERICAL mean:40.9678 min:-2 max:76 sd:15.3697\n",
            "\n",
            "Terminology:\n",
            "\tnas: Number of non-available (i.e. missing) values.\n",
            "\tood: Out of dictionary.\n",
            "\tmanually-defined: Attribute whose type is manually defined by the user, i.e., the type was not automatically inferred.\n",
            "\ttokenized: The attribute value is obtained through tokenization.\n",
            "\thas-dict: The attribute is attached to a string dictionary e.g. a categorical attribute stored as a string.\n",
            "\tvocab-size: Number of unique values.\n",
            "\n",
            "[INFO 24-04-05 16:40:21.2832 UTC kernel.cc:808] Configure learner\n",
            "[INFO 24-04-05 16:40:21.2835 UTC kernel.cc:822] Training config:\n",
            "learner: \"RANDOM_FOREST\"\n",
            "features: \"^Attendance$\"\n",
            "features: \"^Gender$\"\n",
            "features: \"^Lab\\\\-Test1\\\\(30\\\\)$\"\n",
            "features: \"^Lab\\\\-Test2\\\\(24\\\\)$\"\n",
            "features: \"^Midsem_Test_\\\\(90\\\\)$\"\n",
            "label: \"^__LABEL$\"\n",
            "task: CLASSIFICATION\n",
            "random_seed: 123456\n",
            "metadata {\n",
            "  framework: \"TF Keras\"\n",
            "}\n",
            "pure_serving_model: false\n",
            "[yggdrasil_decision_forests.model.random_forest.proto.random_forest_config] {\n",
            "  num_trees: 30\n",
            "  decision_tree {\n",
            "    max_depth: 16\n",
            "    min_examples: 5\n",
            "    in_split_min_examples_check: true\n",
            "    keep_non_leaf_label_distribution: true\n",
            "    num_candidate_attributes: 0\n",
            "    missing_value_policy: GLOBAL_IMPUTATION\n",
            "    allow_na_conditions: false\n",
            "    categorical_set_greedy_forward {\n",
            "      sampling: 0.1\n",
            "      max_num_items: -1\n",
            "      min_item_frequency: 1\n",
            "    }\n",
            "    growing_strategy_local {\n",
            "    }\n",
            "    categorical {\n",
            "      cart {\n",
            "      }\n",
            "    }\n",
            "    axis_aligned_split {\n",
            "    }\n",
            "    internal {\n",
            "      sorting_strategy: PRESORTED\n",
            "    }\n",
            "    uplift {\n",
            "      min_examples_in_treatment: 5\n",
            "      split_score: KULLBACK_LEIBLER\n",
            "    }\n",
            "  }\n",
            "  winner_take_all_inference: true\n",
            "  compute_oob_performances: true\n",
            "  compute_oob_variable_importances: false\n",
            "  num_oob_variable_importances_permutations: 1\n",
            "  bootstrap_training_dataset: true\n",
            "  bootstrap_size_ratio: 1\n",
            "  adapt_bootstrap_size_ratio_for_maximum_training_duration: false\n",
            "  sampling_with_replacement: true\n",
            "}\n",
            "\n",
            "[INFO 24-04-05 16:40:21.2837 UTC kernel.cc:825] Deployment config:\n",
            "cache_path: \"/tmp/tmpvdl1qym8/working_cache\"\n",
            "num_threads: 2\n",
            "try_resume_training: true\n",
            "\n",
            "[INFO 24-04-05 16:40:21.2840 UTC kernel.cc:887] Train model\n",
            "[INFO 24-04-05 16:40:21.2843 UTC random_forest.cc:416] Training random forest on 357 example(s) and 5 feature(s).\n",
            "[INFO 24-04-05 16:40:21.2862 UTC random_forest.cc:802] Training of tree  1/30 (tree index:0) done accuracy:0.784173 logloss:7.77921\n",
            "[INFO 24-04-05 16:40:21.2990 UTC random_forest.cc:802] Training of tree  11/30 (tree index:11) done accuracy:0.80618 logloss:2.68077\n",
            "[INFO 24-04-05 16:40:21.3108 UTC random_forest.cc:802] Training of tree  21/30 (tree index:20) done accuracy:0.831933 logloss:1.2474\n",
            "[INFO 24-04-05 16:40:21.3215 UTC random_forest.cc:802] Training of tree  30/30 (tree index:29) done accuracy:0.831933 logloss:0.843295\n",
            "[INFO 24-04-05 16:40:21.3216 UTC random_forest.cc:882] Final OOB metrics: accuracy:0.831933 logloss:0.843295\n",
            "[INFO 24-04-05 16:40:21.3223 UTC kernel.cc:919] Export model in log directory: /tmp/tmpvdl1qym8 with prefix 0772e6f2c7884c80\n",
            "[INFO 24-04-05 16:40:21.3291 UTC kernel.cc:937] Save model in resources\n",
            "[INFO 24-04-05 16:40:21.3320 UTC abstract_model.cc:881] Model self evaluation:\n",
            "Number of predictions (without weights): 357\n",
            "Number of predictions (with weights): 357\n",
            "Task: CLASSIFICATION\n",
            "Label: __LABEL\n",
            "\n",
            "Accuracy: 0.831933  CI95[W][0.795949 0.863743]\n",
            "LogLoss: : 0.843295\n",
            "ErrorRate: : 0.168067\n",
            "\n",
            "Default Accuracy: : 0.271709\n",
            "Default LogLoss: : 1.87062\n",
            "Default ErrorRate: : 0.728291\n",
            "\n",
            "Confusion Table:\n",
            "truth\\prediction\n",
            "    1   2   3   4   5   6   7  8\n",
            "1  21   0   0   0   0   2   0  0\n",
            "2   0  90   0   0   3   0   4  0\n",
            "3   0   0  52   1   0   0   9  0\n",
            "4   0   0   5  17   0   0   0  0\n",
            "5   0   4   0   0  56   5   0  0\n",
            "6   3   0   0   0   6  19   0  0\n",
            "7   0  10   7   0   0   0  37  0\n",
            "8   0   0   0   1   0   0   0  5\n",
            "Total: 357\n",
            "\n",
            "\n",
            "[INFO 24-04-05 16:40:21.3507 UTC kernel.cc:1233] Loading model from path /tmp/tmpvdl1qym8/model/ with prefix 0772e6f2c7884c80\n",
            "[INFO 24-04-05 16:40:21.3587 UTC decision_forest.cc:734] Model loaded with 30 root(s), 1916 node(s), and 5 input feature(s).\n",
            "[INFO 24-04-05 16:40:21.3587 UTC abstract_model.cc:1344] Engine \"RandomForestGeneric\" built\n",
            "[INFO 24-04-05 16:40:21.3587 UTC kernel.cc:1061] Use fast generic engine\n"
          ]
        },
        {
          "output_type": "stream",
          "name": "stdout",
          "text": [
            "Model trained in 0:00:00.091620\n",
            "Compiling model...\n",
            "Model compiled.\n",
            "Reading training dataset...\n",
            "Training tensor examples:\n",
            "Features: {'Lab-Test1(30)': <tf.Tensor 'data:0' shape=(None,) dtype=float64>, 'Lab-Test2(24)': <tf.Tensor 'data_1:0' shape=(None,) dtype=int64>, 'Midsem_Test_(90)': <tf.Tensor 'data_2:0' shape=(None,) dtype=float64>, 'Gender': <tf.Tensor 'data_3:0' shape=(None,) dtype=string>, 'Attendance': <tf.Tensor 'data_4:0' shape=(None,) dtype=string>}\n",
            "Label: Tensor(\"data_5:0\", shape=(None,), dtype=int64)\n",
            "Weights: None\n",
            "Normalized tensor features:\n",
            " {'Lab-Test1(30)': SemanticTensor(semantic=<Semantic.NUMERICAL: 1>, tensor=<tf.Tensor 'Cast:0' shape=(None,) dtype=float32>), 'Lab-Test2(24)': SemanticTensor(semantic=<Semantic.NUMERICAL: 1>, tensor=<tf.Tensor 'Cast_1:0' shape=(None,) dtype=float32>), 'Midsem_Test_(90)': SemanticTensor(semantic=<Semantic.NUMERICAL: 1>, tensor=<tf.Tensor 'Cast_2:0' shape=(None,) dtype=float32>), 'Gender': SemanticTensor(semantic=<Semantic.CATEGORICAL: 2>, tensor=<tf.Tensor 'data_3:0' shape=(None,) dtype=string>), 'Attendance': SemanticTensor(semantic=<Semantic.CATEGORICAL: 2>, tensor=<tf.Tensor 'data_4:0' shape=(None,) dtype=string>)}\n",
            "Training dataset read in 0:00:00.252945. Found 357 examples.\n",
            "Training model...\n"
          ]
        },
        {
          "output_type": "stream",
          "name": "stderr",
          "text": [
            "[INFO 24-04-05 16:40:21.8228 UTC kernel.cc:771] Start Yggdrasil model training\n",
            "[INFO 24-04-05 16:40:21.8229 UTC kernel.cc:772] Collect training examples\n",
            "[INFO 24-04-05 16:40:21.8229 UTC kernel.cc:785] Dataspec guide:\n",
            "column_guides {\n",
            "  column_name_pattern: \"^__LABEL$\"\n",
            "  type: CATEGORICAL\n",
            "  categorial {\n",
            "    min_vocab_frequency: 0\n",
            "    max_vocab_count: -1\n",
            "  }\n",
            "}\n",
            "default_column_guide {\n",
            "  categorial {\n",
            "    max_vocab_count: 2000\n",
            "  }\n",
            "  discretized_numerical {\n",
            "    maximum_num_bins: 255\n",
            "  }\n",
            "}\n",
            "ignore_columns_without_guides: false\n",
            "detect_numerical_as_discretized_numerical: false\n",
            "\n",
            "[INFO 24-04-05 16:40:21.8230 UTC kernel.cc:391] Number of batches: 1\n",
            "[INFO 24-04-05 16:40:21.8230 UTC kernel.cc:392] Number of examples: 357\n",
            "[INFO 24-04-05 16:40:21.8232 UTC kernel.cc:792] Training dataset:\n",
            "Number of records: 357\n",
            "Number of columns: 6\n",
            "\n",
            "Number of columns by type:\n",
            "\tCATEGORICAL: 3 (50%)\n",
            "\tNUMERICAL: 3 (50%)\n",
            "\n",
            "Columns:\n",
            "\n",
            "CATEGORICAL: 3 (50%)\n",
            "\t0: \"Attendance\" CATEGORICAL has-dict vocab-size:4 zero-ood-items most-frequent:\"High\" 257 (71.9888%)\n",
            "\t1: \"Gender\" CATEGORICAL has-dict vocab-size:3 zero-ood-items most-frequent:\"Female\" 214 (59.944%)\n",
            "\t5: \"__LABEL\" CATEGORICAL integerized vocab-size:9 no-ood-item\n",
            "\n",
            "NUMERICAL: 3 (50%)\n",
            "\t2: \"Lab-Test1(30)\" NUMERICAL mean:9.63585 min:-3.5 max:25.5 sd:5.54695\n",
            "\t3: \"Lab-Test2(24)\" NUMERICAL mean:23.2885 min:0 max:24 sd:2.6533\n",
            "\t4: \"Midsem_Test_(90)\" NUMERICAL mean:40.9678 min:-2 max:76 sd:15.3697\n",
            "\n",
            "Terminology:\n",
            "\tnas: Number of non-available (i.e. missing) values.\n",
            "\tood: Out of dictionary.\n",
            "\tmanually-defined: Attribute whose type is manually defined by the user, i.e., the type was not automatically inferred.\n",
            "\ttokenized: The attribute value is obtained through tokenization.\n",
            "\thas-dict: The attribute is attached to a string dictionary e.g. a categorical attribute stored as a string.\n",
            "\tvocab-size: Number of unique values.\n",
            "\n",
            "[INFO 24-04-05 16:40:21.8232 UTC kernel.cc:808] Configure learner\n",
            "[WARNING 24-04-05 16:40:21.8236 UTC gradient_boosted_trees.cc:1840] \"goss_alpha\" set but \"sampling_method\" not equal to \"GOSS\".\n",
            "[WARNING 24-04-05 16:40:21.8236 UTC gradient_boosted_trees.cc:1851] \"goss_beta\" set but \"sampling_method\" not equal to \"GOSS\".\n",
            "[WARNING 24-04-05 16:40:21.8236 UTC gradient_boosted_trees.cc:1865] \"selective_gradient_boosting_ratio\" set but \"sampling_method\" not equal to \"SELGB\".\n",
            "[INFO 24-04-05 16:40:21.8237 UTC kernel.cc:822] Training config:\n",
            "learner: \"GRADIENT_BOOSTED_TREES\"\n",
            "features: \"^Attendance$\"\n",
            "features: \"^Gender$\"\n",
            "features: \"^Lab\\\\-Test1\\\\(30\\\\)$\"\n",
            "features: \"^Lab\\\\-Test2\\\\(24\\\\)$\"\n",
            "features: \"^Midsem_Test_\\\\(90\\\\)$\"\n",
            "label: \"^__LABEL$\"\n",
            "task: CLASSIFICATION\n",
            "random_seed: 123456\n",
            "metadata {\n",
            "  framework: \"TF Keras\"\n",
            "}\n",
            "pure_serving_model: false\n",
            "[yggdrasil_decision_forests.model.gradient_boosted_trees.proto.gradient_boosted_trees_config] {\n",
            "  num_trees: 30\n",
            "  decision_tree {\n",
            "    max_depth: 16\n",
            "    min_examples: 5\n",
            "    in_split_min_examples_check: true\n",
            "    keep_non_leaf_label_distribution: true\n",
            "    num_candidate_attributes: -1\n",
            "    missing_value_policy: GLOBAL_IMPUTATION\n",
            "    allow_na_conditions: false\n",
            "    categorical_set_greedy_forward {\n",
            "      sampling: 0.1\n",
            "      max_num_items: -1\n",
            "      min_item_frequency: 1\n",
            "    }\n",
            "    growing_strategy_local {\n",
            "    }\n",
            "    categorical {\n",
            "      cart {\n",
            "      }\n",
            "    }\n",
            "    axis_aligned_split {\n",
            "    }\n",
            "    internal {\n",
            "      sorting_strategy: PRESORTED\n",
            "    }\n",
            "    uplift {\n",
            "      min_examples_in_treatment: 5\n",
            "      split_score: KULLBACK_LEIBLER\n",
            "    }\n",
            "  }\n",
            "  shrinkage: 0.1\n",
            "  loss: DEFAULT\n",
            "  validation_set_ratio: 0.1\n",
            "  validation_interval_in_trees: 1\n",
            "  early_stopping: VALIDATION_LOSS_INCREASE\n",
            "  early_stopping_num_trees_look_ahead: 30\n",
            "  l2_regularization: 0\n",
            "  lambda_loss: 1\n",
            "  mart {\n",
            "  }\n",
            "  adapt_subsample_for_maximum_training_duration: false\n",
            "  l1_regularization: 0\n",
            "  use_hessian_gain: false\n",
            "  l2_regularization_categorical: 1\n",
            "  stochastic_gradient_boosting {\n",
            "    ratio: 1\n",
            "  }\n",
            "  apply_link_function: true\n",
            "  compute_permutation_variable_importance: false\n",
            "  binary_focal_loss_options {\n",
            "    misprediction_exponent: 2\n",
            "    positive_sample_coefficient: 0.5\n",
            "  }\n",
            "  early_stopping_initial_iteration: 10\n",
            "}\n",
            "\n",
            "[INFO 24-04-05 16:40:21.8239 UTC kernel.cc:825] Deployment config:\n",
            "cache_path: \"/tmp/tmpi0sk5qxb/working_cache\"\n",
            "num_threads: 2\n",
            "try_resume_training: true\n",
            "\n",
            "[INFO 24-04-05 16:40:21.8241 UTC kernel.cc:887] Train model\n",
            "[INFO 24-04-05 16:40:21.8242 UTC gradient_boosted_trees.cc:544] Default loss set to MULTINOMIAL_LOG_LIKELIHOOD\n",
            "[WARNING 24-04-05 16:40:21.8243 UTC gradient_boosted_trees.cc:576] The model configuration specifies 30 trees but computation of the validation loss will only start at iteration 10 with 8 trees per iteration. No validation loss will be computed, early stopping is not used.\n",
            "[INFO 24-04-05 16:40:21.8243 UTC gradient_boosted_trees.cc:1171] Training gradient boosted tree on 357 example(s) and 5 feature(s).\n",
            "[INFO 24-04-05 16:40:21.8247 UTC gradient_boosted_trees.cc:1214] 322 examples used for training and 35 examples used for validation\n",
            "[INFO 24-04-05 16:40:21.8414 UTC gradient_boosted_trees.cc:1590] \tnum-trees:1 train-loss:1.469640 train-accuracy:0.916149 valid-loss:1.577996 valid-accuracy:0.771429\n",
            "[INFO 24-04-05 16:40:21.8915 UTC gradient_boosted_trees.cc:1592] \tnum-trees:2 train-loss:1.160546 train-accuracy:0.940994 valid-loss:1.317581 valid-accuracy:0.800000\n",
            "[INFO 24-04-05 16:40:23.1929 UTC gradient_boosted_trees.cc:1590] \tnum-trees:30 train-loss:0.016874 train-accuracy:1.000000 valid-loss:0.390630 valid-accuracy:0.857143\n",
            "[INFO 24-04-05 16:40:23.1929 UTC gradient_boosted_trees.cc:1629] Create final snapshot of the model at iteration 30\n",
            "[INFO 24-04-05 16:40:23.2185 UTC gradient_boosted_trees.cc:270] Truncates the model to 240 tree(s) i.e. 30  iteration(s).\n",
            "[INFO 24-04-05 16:40:23.2185 UTC gradient_boosted_trees.cc:333] Final model num-trees:30 valid-loss:0.390630 valid-accuracy:0.857143\n",
            "[INFO 24-04-05 16:40:23.2305 UTC kernel.cc:919] Export model in log directory: /tmp/tmpi0sk5qxb with prefix 12328e5b519142c4\n",
            "[INFO 24-04-05 16:40:23.2592 UTC kernel.cc:937] Save model in resources\n",
            "[INFO 24-04-05 16:40:23.2623 UTC abstract_model.cc:881] Model self evaluation:\n",
            "Task: CLASSIFICATION\n",
            "Label: __LABEL\n",
            "Loss (MULTINOMIAL_LOG_LIKELIHOOD): 0.39063\n",
            "\n",
            "Accuracy: 0.857143  CI95[W][0 1]\n",
            "ErrorRate: : 0.142857\n",
            "\n",
            "\n",
            "Confusion Table:\n",
            "truth\\prediction\n",
            "   1  2  3  4  5  6  7  8\n",
            "1  3  0  0  0  0  0  0  0\n",
            "2  0  4  0  0  0  0  1  0\n",
            "3  0  0  7  0  0  0  1  0\n",
            "4  0  0  1  1  0  0  0  0\n",
            "5  0  1  0  0  9  0  0  0\n",
            "6  0  0  0  0  0  2  0  0\n",
            "7  0  1  0  0  0  0  4  0\n",
            "8  0  0  0  0  0  0  0  0\n",
            "Total: 35\n",
            "\n",
            "\n",
            "[INFO 24-04-05 16:40:23.2863 UTC kernel.cc:1233] Loading model from path /tmp/tmpi0sk5qxb/model/ with prefix 12328e5b519142c4\n",
            "[INFO 24-04-05 16:40:23.3335 UTC decision_forest.cc:734] Model loaded with 240 root(s), 23310 node(s), and 5 input feature(s).\n",
            "[INFO 24-04-05 16:40:23.3335 UTC kernel.cc:1061] Use fast generic engine\n"
          ]
        },
        {
          "output_type": "stream",
          "name": "stdout",
          "text": [
            "Model trained in 0:00:01.533706\n",
            "Compiling model...\n",
            "Model compiled.\n"
          ]
        },
        {
          "output_type": "execute_result",
          "data": {
            "text/plain": [
              "<tf_keras.src.callbacks.History at 0x7f791ae98fa0>"
            ]
          },
          "metadata": {},
          "execution_count": 43
        }
      ],
      "source": [
        "from tensorflow_decision_forests.keras import GradientBoostedTreesModel\n",
        "\n",
        "# Specify the Random Forest model.\n",
        "model_rf = tfdf.keras.RandomForestModel(verbose=2, categorical_algorithm=\"CART\", num_trees=30, max_depth=16)\n",
        "\n",
        "# Specify the Gradient Boosted Decision Trees model.\n",
        "model_gbdt = GradientBoostedTreesModel(verbose=2, categorical_algorithm=\"CART\", use_hessian_gain=False, num_trees=30, max_depth=16)\n",
        "\n",
        "# Train the Random Forest model.\n",
        "model_rf.fit(train_ds)\n",
        "\n",
        "# Train the Gradient Boosted Decision Trees model.\n",
        "model_gbdt.fit(train_ds)\n"
      ]
    },
    {
      "cell_type": "code",
      "execution_count": 48,
      "metadata": {
        "colab": {
          "base_uri": "https://localhost:8080/"
        },
        "id": "U8ctrPpKOqwS",
        "outputId": "85436243-c172-4401-8460-8a59858dfb25"
      },
      "outputs": [
        {
          "output_type": "stream",
          "name": "stdout",
          "text": [
            "1/1 [==============================] - 5s 5s/step - loss: 0.0000e+00 - accuracy: 0.7902\n",
            "\n",
            " loss: 0.00000000\n",
            " accuracy: 0.79020977\n",
            "1/1 [==============================] - 0s 491ms/step - loss: 0.0000e+00 - accuracy: 0.8531\n",
            "\n",
            " loss: 0.00000000\n",
            " accuracy: 0.85314685\n"
          ]
        }
      ],
      "source": [
        "model_rf.compile(metrics=[\"accuracy\"])\n",
        "evaluation = model_rf.evaluate(test_ds, return_dict=True)\n",
        "accuracy_value = evaluation['accuracy']\n",
        "arr_acc.insert(1, accuracy_value)\n",
        "\n",
        "print()\n",
        "for name, value in evaluation.items():\n",
        "    print(f\" {name}: {value:.8f}\")\n",
        "\n",
        "model_gbdt.compile(metrics=[\"accuracy\"])\n",
        "evaluation = model_gbdt.evaluate(test_ds, return_dict=True)\n",
        "accuracy_value = evaluation['accuracy']\n",
        "arr_acc.insert(2, accuracy_value)\n",
        "print()\n",
        "for name, value in evaluation.items():\n",
        "    print(f\" {name}: {value:.8f}\")\n"
      ]
    },
    {
      "cell_type": "code",
      "source": [
        "print(arr_acc)"
      ],
      "metadata": {
        "colab": {
          "base_uri": "https://localhost:8080/"
        },
        "id": "C8AZmFc0EXqa",
        "outputId": "45cbe3d1-c41b-4923-a541-2674271e95bc"
      },
      "execution_count": 49,
      "outputs": [
        {
          "output_type": "stream",
          "name": "stdout",
          "text": [
            "[0.82, 0.7902097702026367, 0.8531468510627747]\n"
          ]
        }
      ]
    },
    {
      "cell_type": "markdown",
      "metadata": {
        "id": "L9m9635HTYLF"
      },
      "source": [
        "# **Applying the Gradient Descent and Random Forest on IRIS Dataset**"
      ]
    },
    {
      "cell_type": "code",
      "execution_count": 109,
      "metadata": {
        "colab": {
          "base_uri": "https://localhost:8080/"
        },
        "id": "xxHPavxdRhyP",
        "outputId": "f925b5d3-371c-498a-d552-44cc4a117110"
      },
      "outputs": [
        {
          "output_type": "stream",
          "name": "stdout",
          "text": [
            "     Sepal length  Sepal width  Petal length  Petal width         Species\n",
            "0             5.1          3.5           1.4          0.2     Iris-setosa\n",
            "1             4.9          3.0           1.4          0.2     Iris-setosa\n",
            "2             4.7          3.2           1.3          0.2     Iris-setosa\n",
            "3             4.6          3.1           1.5          0.2     Iris-setosa\n",
            "4             5.0          3.6           1.4          0.2     Iris-setosa\n",
            "..            ...          ...           ...          ...             ...\n",
            "145           6.7          3.0           5.2          2.3  Iris-virginica\n",
            "146           6.3          2.5           5.0          1.9  Iris-virginica\n",
            "147           6.5          3.0           5.2          2.0  Iris-virginica\n",
            "148           6.2          3.4           5.4          2.3  Iris-virginica\n",
            "149           5.9          3.0           5.1          1.8  Iris-virginica\n",
            "\n",
            "[150 rows x 5 columns]\n"
          ]
        }
      ],
      "source": [
        "import os\n",
        "os.environ['TF_USE_LEGACY_KERAS']='1'\n",
        "import pandas as pd\n",
        "import numpy as np\n",
        "import tensorflow as tf\n",
        "import tensorflow_decision_forests as tfdf\n",
        "import math\n",
        "import tf_keras\n",
        "\n",
        "# Load the provided excel file \"Data-RF.xlsx\" into a Pandas dataframe\n",
        "data = pd.read_csv(\"iris - Copy.csv\")\n",
        "\n",
        "print(data)\n",
        "# print(data[label])\n"
      ]
    },
    {
      "cell_type": "code",
      "execution_count": 110,
      "metadata": {
        "colab": {
          "base_uri": "https://localhost:8080/"
        },
        "id": "8DM4H-LBSNan",
        "outputId": "b1f70273-5db6-4ca1-9396-341e6d422e6a"
      },
      "outputs": [
        {
          "output_type": "stream",
          "name": "stdout",
          "text": [
            "117 examples in training, 33 examples for testing.\n",
            "Warning: Some of the feature names have been changed automatically to be compatible with SavedModels because fix_feature_names=True.\n"
          ]
        },
        {
          "output_type": "stream",
          "name": "stderr",
          "text": [
            "WARNING:absl:Some of the feature names have been changed automatically to be compatible with SavedModels because fix_feature_names=True.\n"
          ]
        },
        {
          "output_type": "stream",
          "name": "stdout",
          "text": [
            "Warning: Some of the feature names have been changed automatically to be compatible with SavedModels because fix_feature_names=True.\n"
          ]
        },
        {
          "output_type": "stream",
          "name": "stderr",
          "text": [
            "WARNING:absl:Some of the feature names have been changed automatically to be compatible with SavedModels because fix_feature_names=True.\n"
          ]
        },
        {
          "output_type": "stream",
          "name": "stdout",
          "text": [
            "Use 2 thread(s) for training\n",
            "Use /tmp/tmp4efq741a as temporary training directory\n",
            "Use 2 thread(s) for training\n",
            "Use /tmp/tmpg5ve12xo as temporary training directory\n",
            "Reading training dataset...\n",
            "Training tensor examples:\n",
            "Features: {'Sepal_length': <tf.Tensor 'data:0' shape=(None,) dtype=float64>, 'Sepal_width': <tf.Tensor 'data_1:0' shape=(None,) dtype=float64>, 'Petal_length': <tf.Tensor 'data_2:0' shape=(None,) dtype=float64>, 'Petal_width': <tf.Tensor 'data_3:0' shape=(None,) dtype=float64>}\n",
            "Label: Tensor(\"data_4:0\", shape=(None,), dtype=int64)\n",
            "Weights: None\n",
            "Normalized tensor features:\n",
            " {'Sepal_length': SemanticTensor(semantic=<Semantic.NUMERICAL: 1>, tensor=<tf.Tensor 'Cast:0' shape=(None,) dtype=float32>), 'Sepal_width': SemanticTensor(semantic=<Semantic.NUMERICAL: 1>, tensor=<tf.Tensor 'Cast_1:0' shape=(None,) dtype=float32>), 'Petal_length': SemanticTensor(semantic=<Semantic.NUMERICAL: 1>, tensor=<tf.Tensor 'Cast_2:0' shape=(None,) dtype=float32>), 'Petal_width': SemanticTensor(semantic=<Semantic.NUMERICAL: 1>, tensor=<tf.Tensor 'Cast_3:0' shape=(None,) dtype=float32>)}\n",
            "Training dataset read in 0:00:00.216878. Found 117 examples.\n",
            "Training model...\n"
          ]
        },
        {
          "output_type": "stream",
          "name": "stderr",
          "text": [
            "[INFO 24-04-05 17:06:48.8349 UTC kernel.cc:771] Start Yggdrasil model training\n",
            "[INFO 24-04-05 17:06:48.8349 UTC kernel.cc:772] Collect training examples\n",
            "[INFO 24-04-05 17:06:48.8350 UTC kernel.cc:785] Dataspec guide:\n",
            "column_guides {\n",
            "  column_name_pattern: \"^__LABEL$\"\n",
            "  type: CATEGORICAL\n",
            "  categorial {\n",
            "    min_vocab_frequency: 0\n",
            "    max_vocab_count: -1\n",
            "  }\n",
            "}\n",
            "default_column_guide {\n",
            "  categorial {\n",
            "    max_vocab_count: 2000\n",
            "  }\n",
            "  discretized_numerical {\n",
            "    maximum_num_bins: 255\n",
            "  }\n",
            "}\n",
            "ignore_columns_without_guides: false\n",
            "detect_numerical_as_discretized_numerical: false\n",
            "\n",
            "[INFO 24-04-05 17:06:48.8351 UTC kernel.cc:391] Number of batches: 1\n",
            "[INFO 24-04-05 17:06:48.8351 UTC kernel.cc:392] Number of examples: 117\n",
            "[INFO 24-04-05 17:06:48.8351 UTC kernel.cc:792] Training dataset:\n",
            "Number of records: 117\n",
            "Number of columns: 5\n",
            "\n",
            "Number of columns by type:\n",
            "\tNUMERICAL: 4 (80%)\n",
            "\tCATEGORICAL: 1 (20%)\n",
            "\n",
            "Columns:\n",
            "\n",
            "NUMERICAL: 4 (80%)\n",
            "\t0: \"Petal_length\" NUMERICAL mean:3.76838 min:1 max:6.9 sd:1.7908\n",
            "\t1: \"Petal_width\" NUMERICAL mean:1.20513 min:0.1 max:2.5 sd:0.77093\n",
            "\t2: \"Sepal_length\" NUMERICAL mean:5.8359 min:4.3 max:7.7 sd:0.816021\n",
            "\t3: \"Sepal_width\" NUMERICAL mean:3.06581 min:2.2 max:4.4 sd:0.421467\n",
            "\n",
            "CATEGORICAL: 1 (20%)\n",
            "\t4: \"__LABEL\" CATEGORICAL integerized vocab-size:4 no-ood-item\n",
            "\n",
            "Terminology:\n",
            "\tnas: Number of non-available (i.e. missing) values.\n",
            "\tood: Out of dictionary.\n",
            "\tmanually-defined: Attribute whose type is manually defined by the user, i.e., the type was not automatically inferred.\n",
            "\ttokenized: The attribute value is obtained through tokenization.\n",
            "\thas-dict: The attribute is attached to a string dictionary e.g. a categorical attribute stored as a string.\n",
            "\tvocab-size: Number of unique values.\n",
            "\n",
            "[INFO 24-04-05 17:06:48.8352 UTC kernel.cc:808] Configure learner\n",
            "[INFO 24-04-05 17:06:48.8355 UTC kernel.cc:822] Training config:\n",
            "learner: \"RANDOM_FOREST\"\n",
            "features: \"^Petal_length$\"\n",
            "features: \"^Petal_width$\"\n",
            "features: \"^Sepal_length$\"\n",
            "features: \"^Sepal_width$\"\n",
            "label: \"^__LABEL$\"\n",
            "task: CLASSIFICATION\n",
            "random_seed: 123456\n",
            "metadata {\n",
            "  framework: \"TF Keras\"\n",
            "}\n",
            "pure_serving_model: false\n",
            "[yggdrasil_decision_forests.model.random_forest.proto.random_forest_config] {\n",
            "  num_trees: 30\n",
            "  decision_tree {\n",
            "    max_depth: 16\n",
            "    min_examples: 5\n",
            "    in_split_min_examples_check: true\n",
            "    keep_non_leaf_label_distribution: true\n",
            "    num_candidate_attributes: 0\n",
            "    missing_value_policy: GLOBAL_IMPUTATION\n",
            "    allow_na_conditions: false\n",
            "    categorical_set_greedy_forward {\n",
            "      sampling: 0.1\n",
            "      max_num_items: -1\n",
            "      min_item_frequency: 1\n",
            "    }\n",
            "    growing_strategy_local {\n",
            "    }\n",
            "    categorical {\n",
            "      cart {\n",
            "      }\n",
            "    }\n",
            "    axis_aligned_split {\n",
            "    }\n",
            "    internal {\n",
            "      sorting_strategy: PRESORTED\n",
            "    }\n",
            "    uplift {\n",
            "      min_examples_in_treatment: 5\n",
            "      split_score: KULLBACK_LEIBLER\n",
            "    }\n",
            "  }\n",
            "  winner_take_all_inference: true\n",
            "  compute_oob_performances: true\n",
            "  compute_oob_variable_importances: false\n",
            "  num_oob_variable_importances_permutations: 1\n",
            "  bootstrap_training_dataset: true\n",
            "  bootstrap_size_ratio: 1\n",
            "  adapt_bootstrap_size_ratio_for_maximum_training_duration: false\n",
            "  sampling_with_replacement: true\n",
            "}\n",
            "\n",
            "[INFO 24-04-05 17:06:48.8356 UTC kernel.cc:825] Deployment config:\n",
            "cache_path: \"/tmp/tmp4efq741a/working_cache\"\n",
            "num_threads: 2\n",
            "try_resume_training: true\n",
            "\n",
            "[INFO 24-04-05 17:06:48.8376 UTC kernel.cc:887] Train model\n",
            "[INFO 24-04-05 17:06:48.8378 UTC random_forest.cc:416] Training random forest on 117 example(s) and 4 feature(s).\n",
            "[INFO 24-04-05 17:06:48.8385 UTC random_forest.cc:802] Training of tree  1/30 (tree index:0) done accuracy:0.928571 logloss:2.57455\n",
            "[INFO 24-04-05 17:06:48.8396 UTC random_forest.cc:802] Training of tree  11/30 (tree index:10) done accuracy:0.931035 logloss:1.01391\n",
            "[INFO 24-04-05 17:06:48.8406 UTC random_forest.cc:802] Training of tree  21/30 (tree index:20) done accuracy:0.940171 logloss:0.695341\n",
            "[INFO 24-04-05 17:06:48.8445 UTC random_forest.cc:802] Training of tree  30/30 (tree index:24) done accuracy:0.931624 logloss:0.410287\n",
            "[INFO 24-04-05 17:06:48.8454 UTC random_forest.cc:882] Final OOB metrics: accuracy:0.931624 logloss:0.410287\n",
            "[INFO 24-04-05 17:06:48.8456 UTC kernel.cc:919] Export model in log directory: /tmp/tmp4efq741a with prefix 08a0ca81ee7f43f4\n",
            "[INFO 24-04-05 17:06:48.8499 UTC kernel.cc:937] Save model in resources\n",
            "[INFO 24-04-05 17:06:48.8522 UTC abstract_model.cc:881] Model self evaluation:\n",
            "Number of predictions (without weights): 117\n",
            "Number of predictions (with weights): 117\n",
            "Task: CLASSIFICATION\n",
            "Label: __LABEL\n",
            "\n",
            "Accuracy: 0.931624  CI95[W][0.88001 0.965525]\n",
            "LogLoss: : 0.410287\n",
            "ErrorRate: : 0.0683761\n",
            "\n",
            "Default Accuracy: : 0.34188\n",
            "Default LogLoss: : 1.09795\n",
            "Default ErrorRate: : 0.65812\n",
            "\n",
            "Confusion Table:\n",
            "truth\\prediction\n",
            "    1   2   3\n",
            "1  40   0   0\n",
            "2   0  33   4\n",
            "3   0   4  36\n",
            "Total: 117\n",
            "\n",
            "\n",
            "[INFO 24-04-05 17:06:48.8640 UTC kernel.cc:1233] Loading model from path /tmp/tmp4efq741a/model/ with prefix 08a0ca81ee7f43f4\n",
            "[INFO 24-04-05 17:06:48.8653 UTC decision_forest.cc:734] Model loaded with 30 root(s), 274 node(s), and 4 input feature(s).\n",
            "[INFO 24-04-05 17:06:48.8653 UTC abstract_model.cc:1344] Engine \"RandomForestGeneric\" built\n",
            "[INFO 24-04-05 17:06:48.8654 UTC kernel.cc:1061] Use fast generic engine\n"
          ]
        },
        {
          "output_type": "stream",
          "name": "stdout",
          "text": [
            "Model trained in 0:00:00.042073\n",
            "Compiling model...\n",
            "Model compiled.\n",
            "Reading training dataset...\n",
            "Training tensor examples:\n",
            "Features: {'Sepal_length': <tf.Tensor 'data:0' shape=(None,) dtype=float64>, 'Sepal_width': <tf.Tensor 'data_1:0' shape=(None,) dtype=float64>, 'Petal_length': <tf.Tensor 'data_2:0' shape=(None,) dtype=float64>, 'Petal_width': <tf.Tensor 'data_3:0' shape=(None,) dtype=float64>}\n",
            "Label: Tensor(\"data_4:0\", shape=(None,), dtype=int64)\n",
            "Weights: None\n",
            "Normalized tensor features:\n",
            " {'Sepal_length': SemanticTensor(semantic=<Semantic.NUMERICAL: 1>, tensor=<tf.Tensor 'Cast:0' shape=(None,) dtype=float32>), 'Sepal_width': SemanticTensor(semantic=<Semantic.NUMERICAL: 1>, tensor=<tf.Tensor 'Cast_1:0' shape=(None,) dtype=float32>), 'Petal_length': SemanticTensor(semantic=<Semantic.NUMERICAL: 1>, tensor=<tf.Tensor 'Cast_2:0' shape=(None,) dtype=float32>), 'Petal_width': SemanticTensor(semantic=<Semantic.NUMERICAL: 1>, tensor=<tf.Tensor 'Cast_3:0' shape=(None,) dtype=float32>)}\n",
            "Training dataset read in 0:00:00.235668. Found 117 examples.\n",
            "Training model...\n"
          ]
        },
        {
          "output_type": "stream",
          "name": "stderr",
          "text": [
            "[INFO 24-04-05 17:06:49.2786 UTC kernel.cc:771] Start Yggdrasil model training\n",
            "[INFO 24-04-05 17:06:49.2787 UTC kernel.cc:772] Collect training examples\n",
            "[INFO 24-04-05 17:06:49.2787 UTC kernel.cc:785] Dataspec guide:\n",
            "column_guides {\n",
            "  column_name_pattern: \"^__LABEL$\"\n",
            "  type: CATEGORICAL\n",
            "  categorial {\n",
            "    min_vocab_frequency: 0\n",
            "    max_vocab_count: -1\n",
            "  }\n",
            "}\n",
            "default_column_guide {\n",
            "  categorial {\n",
            "    max_vocab_count: 2000\n",
            "  }\n",
            "  discretized_numerical {\n",
            "    maximum_num_bins: 255\n",
            "  }\n",
            "}\n",
            "ignore_columns_without_guides: false\n",
            "detect_numerical_as_discretized_numerical: false\n",
            "\n",
            "[INFO 24-04-05 17:06:49.2788 UTC kernel.cc:391] Number of batches: 1\n",
            "[INFO 24-04-05 17:06:49.2788 UTC kernel.cc:392] Number of examples: 117\n",
            "[INFO 24-04-05 17:06:49.2789 UTC kernel.cc:792] Training dataset:\n",
            "Number of records: 117\n",
            "Number of columns: 5\n",
            "\n",
            "Number of columns by type:\n",
            "\tNUMERICAL: 4 (80%)\n",
            "\tCATEGORICAL: 1 (20%)\n",
            "\n",
            "Columns:\n",
            "\n",
            "NUMERICAL: 4 (80%)\n",
            "\t0: \"Petal_length\" NUMERICAL mean:3.76838 min:1 max:6.9 sd:1.7908\n",
            "\t1: \"Petal_width\" NUMERICAL mean:1.20513 min:0.1 max:2.5 sd:0.77093\n",
            "\t2: \"Sepal_length\" NUMERICAL mean:5.8359 min:4.3 max:7.7 sd:0.816021\n",
            "\t3: \"Sepal_width\" NUMERICAL mean:3.06581 min:2.2 max:4.4 sd:0.421467\n",
            "\n",
            "CATEGORICAL: 1 (20%)\n",
            "\t4: \"__LABEL\" CATEGORICAL integerized vocab-size:4 no-ood-item\n",
            "\n",
            "Terminology:\n",
            "\tnas: Number of non-available (i.e. missing) values.\n",
            "\tood: Out of dictionary.\n",
            "\tmanually-defined: Attribute whose type is manually defined by the user, i.e., the type was not automatically inferred.\n",
            "\ttokenized: The attribute value is obtained through tokenization.\n",
            "\thas-dict: The attribute is attached to a string dictionary e.g. a categorical attribute stored as a string.\n",
            "\tvocab-size: Number of unique values.\n",
            "\n",
            "[INFO 24-04-05 17:06:49.2789 UTC kernel.cc:808] Configure learner\n",
            "[WARNING 24-04-05 17:06:49.2792 UTC gradient_boosted_trees.cc:1840] \"goss_alpha\" set but \"sampling_method\" not equal to \"GOSS\".\n",
            "[WARNING 24-04-05 17:06:49.2792 UTC gradient_boosted_trees.cc:1851] \"goss_beta\" set but \"sampling_method\" not equal to \"GOSS\".\n",
            "[WARNING 24-04-05 17:06:49.2793 UTC gradient_boosted_trees.cc:1865] \"selective_gradient_boosting_ratio\" set but \"sampling_method\" not equal to \"SELGB\".\n",
            "[INFO 24-04-05 17:06:49.2793 UTC kernel.cc:822] Training config:\n",
            "learner: \"GRADIENT_BOOSTED_TREES\"\n",
            "features: \"^Petal_length$\"\n",
            "features: \"^Petal_width$\"\n",
            "features: \"^Sepal_length$\"\n",
            "features: \"^Sepal_width$\"\n",
            "label: \"^__LABEL$\"\n",
            "task: CLASSIFICATION\n",
            "random_seed: 123456\n",
            "metadata {\n",
            "  framework: \"TF Keras\"\n",
            "}\n",
            "pure_serving_model: false\n",
            "[yggdrasil_decision_forests.model.gradient_boosted_trees.proto.gradient_boosted_trees_config] {\n",
            "  num_trees: 30\n",
            "  decision_tree {\n",
            "    max_depth: 16\n",
            "    min_examples: 5\n",
            "    in_split_min_examples_check: true\n",
            "    keep_non_leaf_label_distribution: true\n",
            "    num_candidate_attributes: -1\n",
            "    missing_value_policy: GLOBAL_IMPUTATION\n",
            "    allow_na_conditions: false\n",
            "    categorical_set_greedy_forward {\n",
            "      sampling: 0.1\n",
            "      max_num_items: -1\n",
            "      min_item_frequency: 1\n",
            "    }\n",
            "    growing_strategy_local {\n",
            "    }\n",
            "    categorical {\n",
            "      cart {\n",
            "      }\n",
            "    }\n",
            "    axis_aligned_split {\n",
            "    }\n",
            "    internal {\n",
            "      sorting_strategy: PRESORTED\n",
            "    }\n",
            "    uplift {\n",
            "      min_examples_in_treatment: 5\n",
            "      split_score: KULLBACK_LEIBLER\n",
            "    }\n",
            "  }\n",
            "  shrinkage: 0.1\n",
            "  loss: DEFAULT\n",
            "  validation_set_ratio: 0.1\n",
            "  validation_interval_in_trees: 1\n",
            "  early_stopping: VALIDATION_LOSS_INCREASE\n",
            "  early_stopping_num_trees_look_ahead: 30\n",
            "  l2_regularization: 0\n",
            "  lambda_loss: 1\n",
            "  mart {\n",
            "  }\n",
            "  adapt_subsample_for_maximum_training_duration: false\n",
            "  l1_regularization: 0\n",
            "  use_hessian_gain: false\n",
            "  l2_regularization_categorical: 1\n",
            "  stochastic_gradient_boosting {\n",
            "    ratio: 1\n",
            "  }\n",
            "  apply_link_function: true\n",
            "  compute_permutation_variable_importance: false\n",
            "  binary_focal_loss_options {\n",
            "    misprediction_exponent: 2\n",
            "    positive_sample_coefficient: 0.5\n",
            "  }\n",
            "  early_stopping_initial_iteration: 10\n",
            "}\n",
            "\n",
            "[INFO 24-04-05 17:06:49.2795 UTC kernel.cc:825] Deployment config:\n",
            "cache_path: \"/tmp/tmpg5ve12xo/working_cache\"\n",
            "num_threads: 2\n",
            "try_resume_training: true\n",
            "\n",
            "[INFO 24-04-05 17:06:49.2797 UTC kernel.cc:887] Train model\n",
            "[INFO 24-04-05 17:06:49.2798 UTC gradient_boosted_trees.cc:544] Default loss set to MULTINOMIAL_LOG_LIKELIHOOD\n",
            "[INFO 24-04-05 17:06:49.2798 UTC gradient_boosted_trees.cc:1171] Training gradient boosted tree on 117 example(s) and 4 feature(s).\n",
            "[INFO 24-04-05 17:06:49.2799 UTC gradient_boosted_trees.cc:1214] 106 examples used for training and 11 examples used for validation\n",
            "[INFO 24-04-05 17:06:49.2822 UTC gradient_boosted_trees.cc:1590] \tnum-trees:1 train-loss:0.839952 train-accuracy:0.962264 valid-loss:0.867738 valid-accuracy:0.909091\n",
            "[INFO 24-04-05 17:06:49.2877 UTC gradient_boosted_trees.cc:1592] \tnum-trees:2 train-loss:0.662154 train-accuracy:0.962264 valid-loss:0.714071 valid-accuracy:0.909091\n",
            "[INFO 24-04-05 17:06:49.3722 UTC early_stopping.cc:53] Early stop of the training because the validation loss does not decrease anymore. Best valid-loss: 0.359282\n",
            "[INFO 24-04-05 17:06:49.3722 UTC gradient_boosted_trees.cc:1629] Create final snapshot of the model at iteration 20\n",
            "[INFO 24-04-05 17:06:49.3755 UTC gradient_boosted_trees.cc:270] Truncates the model to 33 tree(s) i.e. 11  iteration(s).\n",
            "[WARNING 24-04-05 17:06:49.3758 UTC gradient_boosted_trees.cc:291] The best validation loss was obtained during iteration 10. This is the first step during which a validation loss was computed, hence the validation loss might still have been unstable and not optimal. Following are examples of hyper-parameter changes that might help with the situation. Try them in order: (1) Decrease the 'shrinkage rate' parameter (default value of 0.1). For example divide its value by 2. (2) Decrease the 'num_candidate_attributes_ratio' hyper-parameter (default value of 1) by 80%. (3) Increase the early_stopping_num_trees_look_ahead parameter (e.g., try multiplying it by a factor of 2). (4) Use a more expensive but stable version of early stopping with 'early_stopping=MIN_LOSS_FINAL'. (4) Disable early stopping completely with 'early_stopping=NONE'.\n",
            "[INFO 24-04-05 17:06:49.3758 UTC gradient_boosted_trees.cc:333] Final model num-trees:11 valid-loss:0.359282 valid-accuracy:0.909091\n",
            "[INFO 24-04-05 17:06:49.3766 UTC kernel.cc:919] Export model in log directory: /tmp/tmpg5ve12xo with prefix ec9e33b563d745dd\n",
            "[INFO 24-04-05 17:06:49.3803 UTC kernel.cc:937] Save model in resources\n",
            "[INFO 24-04-05 17:06:49.3825 UTC abstract_model.cc:881] Model self evaluation:\n",
            "Task: CLASSIFICATION\n",
            "Label: __LABEL\n",
            "Loss (MULTINOMIAL_LOG_LIKELIHOOD): 0.359282\n",
            "\n",
            "Accuracy: 0.909091  CI95[W][0 1]\n",
            "ErrorRate: : 0.0909091\n",
            "\n",
            "\n",
            "Confusion Table:\n",
            "truth\\prediction\n",
            "   1  2  3\n",
            "1  2  0  0\n",
            "2  0  3  1\n",
            "3  0  0  5\n",
            "Total: 11\n",
            "\n",
            "\n",
            "[INFO 24-04-05 17:06:49.3965 UTC kernel.cc:1233] Loading model from path /tmp/tmpg5ve12xo/model/ with prefix ec9e33b563d745dd\n",
            "[INFO 24-04-05 17:06:49.4034 UTC decision_forest.cc:734] Model loaded with 33 root(s), 793 node(s), and 4 input feature(s).\n",
            "[INFO 24-04-05 17:06:49.4034 UTC kernel.cc:1061] Use fast generic engine\n"
          ]
        },
        {
          "output_type": "stream",
          "name": "stdout",
          "text": [
            "Model trained in 0:00:00.136228\n",
            "Compiling model...\n",
            "Model compiled.\n"
          ]
        },
        {
          "output_type": "execute_result",
          "data": {
            "text/plain": [
              "<tf_keras.src.callbacks.History at 0x7f790d1fe890>"
            ]
          },
          "metadata": {},
          "execution_count": 110
        }
      ],
      "source": [
        "# # Map the categorical values in the 'Grade' column to numerical values using label encoding\n",
        "grade_mapping = {'Iris-setosa': 0, 'Iris-versicolor': 1, 'Iris-virginica': 2}\n",
        "data['Species'] = data['Species'].map(grade_mapping)\n",
        "\n",
        "import numpy as np\n",
        "\n",
        "def split_dataset(dataset, test_ratio=0.3):\n",
        "    \"\"\"\n",
        "    Splits a pandas DataFrame in two.\n",
        "    \"\"\"\n",
        "    test_indices = np.random.rand(len(dataset)) < test_ratio\n",
        "    return dataset[~test_indices], dataset[test_indices]\n",
        "\n",
        "train_ds_pd, test_ds_pd = split_dataset(data)\n",
        "print(\"{} examples in training, {} examples for testing.\".format(\n",
        "    len(train_ds_pd), len(test_ds_pd)))\n",
        "\n",
        "from tensorflow_decision_forests.keras import pd_dataframe_to_tf_dataset\n",
        "\n",
        "# # Specify the model.\n",
        "\n",
        "train_ds = pd_dataframe_to_tf_dataset(train_ds_pd,label=\"Species\")\n",
        "test_ds = pd_dataframe_to_tf_dataset(test_ds_pd,label=\"Species\")\n",
        "\n",
        "from tensorflow_decision_forests.keras import GradientBoostedTreesModel\n",
        "\n",
        "# Specify the Random Forest model.\n",
        "model_rf = tfdf.keras.RandomForestModel(verbose=2, categorical_algorithm=\"CART\", num_trees=30, max_depth=16)\n",
        "\n",
        "# Specify the Gradient Boosted Decision Trees model.\n",
        "model_gbdt = GradientBoostedTreesModel(verbose=2, categorical_algorithm=\"CART\", use_hessian_gain=False, num_trees=30, max_depth=16)\n",
        "\n",
        "# Train the Random Forest model.\n",
        "model_rf.fit(train_ds)\n",
        "\n",
        "# Train the Gradient Boosted Decision Trees model.\n",
        "model_gbdt.fit(train_ds)\n"
      ]
    },
    {
      "cell_type": "code",
      "source": [
        "model_rf.compile(metrics=[\"accuracy\"])\n",
        "evaluation = model_rf.evaluate(test_ds, return_dict=True)\n",
        "accuracy_value = evaluation['accuracy']\n",
        "arr_acc2.insert(1, accuracy_value)\n",
        "print()\n",
        "for name, value in evaluation.items():\n",
        "    print(f\" {name}: {value:.8f}\")\n",
        "\n",
        "\n",
        "model_gbdt.compile(metrics=[\"accuracy\"])\n",
        "evaluation = model_gbdt.evaluate(test_ds, return_dict=True)\n",
        "accuracy_value = evaluation['accuracy']\n",
        "arr_acc2.insert(2, accuracy_value)\n",
        "print()\n",
        "for name, value in evaluation.items():\n",
        "    print(f\" {name}: {value:.8f}\")"
      ],
      "metadata": {
        "colab": {
          "base_uri": "https://localhost:8080/"
        },
        "id": "3lf3pw08KTK0",
        "outputId": "096be762-fef8-4ceb-babf-ac60929b7e39"
      },
      "execution_count": 114,
      "outputs": [
        {
          "output_type": "stream",
          "name": "stdout",
          "text": [
            "1/1 [==============================] - 0s 266ms/step - loss: 0.0000e+00 - accuracy: 0.9394\n",
            "\n",
            " loss: 0.00000000\n",
            " accuracy: 0.93939394\n",
            "1/1 [==============================] - 0s 255ms/step - loss: 0.0000e+00 - accuracy: 1.0000\n",
            "\n",
            " loss: 0.00000000\n",
            " accuracy: 1.00000000\n"
          ]
        }
      ]
    },
    {
      "cell_type": "code",
      "source": [
        "print(arr_acc2)"
      ],
      "metadata": {
        "colab": {
          "base_uri": "https://localhost:8080/"
        },
        "id": "wf6Kysq7Lqk9",
        "outputId": "24d9b6f3-04e7-425d-9bb0-fd259bdde31f"
      },
      "execution_count": 115,
      "outputs": [
        {
          "output_type": "stream",
          "name": "stdout",
          "text": [
            "[0.9666666666666667, 0.939393937587738, 1.0]\n"
          ]
        }
      ]
    },
    {
      "cell_type": "markdown",
      "metadata": {
        "id": "teZFkSyXWdM-"
      },
      "source": [
        "# **Comparision of Naive Bayes with Gradient Descent and Random Forest**"
      ]
    },
    {
      "cell_type": "code",
      "execution_count": 84,
      "metadata": {
        "id": "mdnSvDD3XH54",
        "colab": {
          "base_uri": "https://localhost:8080/",
          "height": 564
        },
        "outputId": "aa4021e0-a559-48eb-e0ba-bb8c7d54a483"
      },
      "outputs": [
        {
          "output_type": "display_data",
          "data": {
            "text/plain": [
              "<Figure size 800x600 with 1 Axes>"
            ],
            "image/png": "[encoded data removed]"
          },
          "metadata": {}
        }
      ],
      "source": [
        "import matplotlib.pyplot as plt\n",
        "# Labels for the models\n",
        "models = ['Naive Bayes', 'Random Forest', 'Gradient Boosted Decision Trees']\n",
        "\n",
        "# Plotting the bar graph\n",
        "plt.figure(figsize=(8, 6))\n",
        "plt.bar(models, arr_acc, color=['blue', 'green', 'orange'])\n",
        "plt.xlabel('Models')\n",
        "plt.ylabel('Accuracy')\n",
        "plt.title('Accuracy of Different Models')\n",
        "plt.ylim(0, 1)  # Limiting y-axis from 0 to 1 (as accuracy is between 0 and 1)\n",
        "plt.show()"
      ]
    },
    {
      "cell_type": "code",
      "source": [
        "import matplotlib.pyplot as plt\n",
        "# Labels for the models\n",
        "models = ['Naive Bayes', 'Random Forest', 'Gradient Boosted Decision Trees']\n",
        "\n",
        "# Plotting the bar graph\n",
        "plt.figure(figsize=(8, 6))\n",
        "plt.bar(models, arr_acc2, color=['blue', 'green', 'orange'])\n",
        "plt.xlabel('Models')\n",
        "plt.ylabel('Accuracy')\n",
        "plt.title('Accuracy of Different Models')\n",
        "plt.ylim(0, 1)  # Limiting y-axis from 0 to 1 (as accuracy is between 0 and 1)\n",
        "plt.show()"
      ],
      "metadata": {
        "colab": {
          "base_uri": "https://localhost:8080/",
          "height": 564
        },
        "id": "Zv_WQdyzLj-j",
        "outputId": "001fc7ae-e93a-4bb2-916b-08889d05d0cc"
      },
      "execution_count": 116,
      "outputs": [
        {
          "output_type": "display_data",
          "data": {
            "text/plain": [
              "<Figure size 800x600 with 1 Axes>"
            ],
            "image/png": "[encoded data removed]"
          },
          "metadata": {}
        }
      ]
    },
    {
      "cell_type": "markdown",
      "metadata": {
        "id": "bWuGgiEoXJFk"
      },
      "source": [
        "# **Reasoning**"
      ]
    },
    {
      "cell_type": "markdown",
      "source": [
        "**1) Grades Data**\n",
        "\n",
        "\n",
        "*Naive Bayes (NB):*\n",
        "\n",
        "Accuracy: 0.82 (82%)\n",
        "\n",
        "Reasons for Performance:\n",
        "Naive Bayes is known for its simplicity and efficiency, particularly when the features are assumed to be independent.\n",
        "In this case, the correlation matrix indicates less correlation between features, supporting the assumption of feature independence made by Naive Bayes.\n",
        "The Naive Bayes classifier performs reasonably well, achieving an accuracy of 82%. However, it might struggle if there are dependencies between features that are not adequately captured by the correlation matrix.\n",
        "\n",
        "\n",
        "*Random Forest (RF):*\n",
        "\n",
        "Accuracy: 0.7902 (approximately 79.02%)\n",
        "\n",
        "Reasons for Performance:\n",
        "Random Forest is an ensemble learning method that builds multiple decision trees and aggregates their predictions.\n",
        "While Random Forest can handle complex relationships between features, it might not perform optimally in this case due to the relatively low correlation between features.\n",
        "The lower accuracy compared to Naive Bayes suggests that the independence assumption of Naive Bayes might be more appropriate for this dataset.\n",
        "\n",
        "\n",
        "*Gradient Boosted Decision Trees (GBDT):*\n",
        "\n",
        "Accuracy: 0.8531 (approximately 85.31%)\n",
        "\n",
        "Reasons for Performance:\n",
        "Gradient Boosted Decision Trees is another ensemble learning method that builds decision trees sequentially.\n",
        "Despite the relatively low correlation between features, GBDT still performs better than Random Forest, indicating its ability to capture complex patterns and dependencies in the data.\n"
      ],
      "metadata": {
        "id": "eqLju3muSJjJ"
      }
    },
    {
      "cell_type": "markdown",
      "source": [
        "**2) Flowers Data**\n",
        "\n",
        "*Naive Bayes (NB):*\n",
        "\n",
        "Accuracy: 0.9667 (approximately 96.67%)\n",
        "\n",
        "Reasons for Performance:\n",
        "Naive Bayes is known for its simplicity and efficiency, often performing well on relatively clean and well-behaved datasets.\n",
        "It assumes independence between features, making it robust to irrelevant features and noise in the data.\n",
        "In the context of the iris dataset, which is a relatively small and clean dataset with well-separated classes, Naive Bayes can effectively model the underlying distribution and achieve high accuracy.\n",
        "\n",
        "\n",
        "*Random Forest (RF):*\n",
        "\n",
        "Accuracy: 0.9394 (approximately 93.94%)\n",
        "\n",
        "Reasons for Performance:\n",
        "Random Forest is an ensemble learning method based on decision trees, known for its ability to handle complex relationships and noisy data.\n",
        "It builds multiple decision trees and aggregates their predictions, reducing overfitting and improving generalization.\n",
        "Despite its robustness, Random Forest might still struggle to capture subtle patterns in the data compared to more complex models like GBDT.\n",
        "\n",
        "\n",
        "*Gradient Boosted Decision Trees (GBDT):*\n",
        "\n",
        "Accuracy: 1.0 (100%)\n",
        "\n",
        "Reasons for Performance:\n",
        "GBDT is another ensemble learning method that builds decision trees sequentially, focusing on the mistakes made by previous trees.\n",
        "It tends to perform exceptionally well on various datasets due to its ability to capture complex patterns and dependencies in the data.\n",
        "GBDT can adapt to the dataset by continuously improving its predictions through boosting, leading to highly accurate models.\n",
        "However, achieving perfect accuracy (100%) on a dataset might indicate potential issues such as overfitting, data leakage, or an extremely well-separated dataset."
      ],
      "metadata": {
        "id": "0qiYdt-6TKGj"
      }
    }
  ],
  "metadata": {
    "colab": {
      "provenance": []
    },
    "kernelspec": {
      "display_name": "Python 3",
      "name": "python3"
    },
    "language_info": {
      "name": "python"
    }
  },
  "nbformat": 4,
  "nbformat_minor": 0
}