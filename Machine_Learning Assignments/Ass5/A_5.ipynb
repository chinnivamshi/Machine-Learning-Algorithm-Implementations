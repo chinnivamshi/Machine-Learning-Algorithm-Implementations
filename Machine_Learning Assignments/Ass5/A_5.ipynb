{
  "cells": [
    {
      "cell_type": "markdown",
      "metadata": {},
      "source": [
        "# **ML Assignment-5**"
      ]
    },
    {
      "cell_type": "markdown",
      "metadata": {},
      "source": [
        "\n",
        "Chinni Vamshi Krushna 2021A7PS2084H\n",
        "\n",
        "Atharva Chikhale 2021A7PS2752H\n",
        "\n",
        "Rishabh Mittal 2021A7PS2620H"
      ]
    },
    {
      "cell_type": "code",
      "execution_count": 1,
      "metadata": {
        "id": "FAk8Q2bLIYWY"
      },
      "outputs": [],
      "source": [
        "# !pip show torch\n",
        "# !pip install torch"
      ]
    },
    {
      "cell_type": "code",
      "execution_count": 2,
      "metadata": {
        "id": "d7aJXnsUQT2D"
      },
      "outputs": [],
      "source": [
        "import os\n",
        "import pandas as pd\n",
        "import numpy as np\n",
        "import torch\n",
        "import torch.nn as nn\n",
        "from sklearn.preprocessing import StandardScaler\n"
      ]
    },
    {
      "cell_type": "code",
      "execution_count": 3,
      "metadata": {
        "id": "LZi8ePoYHi96"
      },
      "outputs": [],
      "source": [
        "df= pd.read_csv(\"/content/abalone.data.csv\")"
      ]
    },
    {
      "cell_type": "code",
      "execution_count": 4,
      "metadata": {
        "colab": {
          "base_uri": "https://localhost:8080/"
        },
        "id": "AAVR4ikdJrcU",
        "outputId": "597802ea-ea00-4bc2-c104-20b11c75747d"
      },
      "outputs": [
        {
          "name": "stdout",
          "output_type": "stream",
          "text": [
            "     Length  Diameter    Height  Whole_weight  Shucked_weight  Viscera_weight  \\\n",
            "0 -0.574558 -0.432149 -1.064424     -0.641898       -0.607685       -0.726212   \n",
            "1 -1.448986 -1.439929 -1.183978     -1.230277       -1.170910       -1.205221   \n",
            "2  0.050033  0.122130 -0.107991     -0.309469       -0.463500       -0.356690   \n",
            "3 -0.699476 -0.432149 -0.347099     -0.637819       -0.648238       -0.607600   \n",
            "4 -1.615544 -1.540707 -1.423087     -1.272086       -1.215968       -1.287337   \n",
            "\n",
            "   Shell_weight  Rings  Sex_F  Sex_I  Sex_M  \n",
            "0     -0.638217     15  False  False   True  \n",
            "1     -1.212987      7  False  False   True  \n",
            "2     -0.207139      9   True  False  False  \n",
            "3     -0.602294     10  False  False   True  \n",
            "4     -1.320757      7  False   True  False  \n"
          ]
        }
      ],
      "source": [
        "#Encoding column of Gender\n",
        "data = pd.get_dummies(df, columns=['Sex'])\n",
        "\n",
        "# Standardize the continuous features\n",
        "continuous_features = ['Length', 'Diameter', 'Height', 'Whole_weight', 'Shucked_weight', 'Viscera_weight', 'Shell_weight']\n",
        "scaler = StandardScaler()\n",
        "data[continuous_features] = scaler.fit_transform(data[continuous_features])\n",
        "\n",
        "# Display the preprocessed data\n",
        "print(data.head())"
      ]
    },
    {
      "cell_type": "code",
      "execution_count": 5,
      "metadata": {
        "id": "Tny3rjEsKBCv"
      },
      "outputs": [],
      "source": [
        "from sklearn.model_selection import train_test_split\n",
        "\n",
        "X = data.drop(columns=['Rings'])\n",
        "y = data['Rings']\n",
        "\n",
        "X_train, X_test, y_train, y_test = train_test_split(X, y, test_size=0.2, random_state=42)\n",
        "\n",
        "X_train = X_train.apply(pd.to_numeric, errors='coerce')\n",
        "X_test = X_test.apply(pd.to_numeric, errors='coerce')\n",
        "\n",
        "X_train.dropna(inplace=True)\n",
        "X_test.dropna(inplace=True)\n",
        "#BOOL to INT\n",
        "X_train[['Sex_F', 'Sex_I', 'Sex_M']] = X_train[['Sex_F', 'Sex_I', 'Sex_M']].astype(int)\n",
        "X_test[['Sex_F', 'Sex_I', 'Sex_M']] = X_test[['Sex_F', 'Sex_I', 'Sex_M']].astype(int)\n",
        "\n",
        "# Convert into PyTorch tensors\n",
        "X_train_tensor = torch.tensor(X_train.values, dtype=torch.float32)\n",
        "X_test_tensor = torch.tensor(X_test.values, dtype=torch.float32)\n",
        "y_train_tensor = torch.tensor(y_train.values, dtype=torch.float32).view(-1, 1)\n",
        "y_test_tensor = torch.tensor(y_test.values, dtype=torch.float32).view(-1, 1)\n"
      ]
    },
    {
      "cell_type": "code",
      "execution_count": 6,
      "metadata": {
        "id": "mDgoMx7FOYYe"
      },
      "outputs": [],
      "source": [
        "import torch.nn as nn\n",
        "\n",
        "class AbaloneModel(nn.Module):\n",
        "    def __init__(self, hidden_nodes1=64, hidden_nodes2=32):\n",
        "        super(AbaloneModel, self).__init__()\n",
        "        self.fc1 = nn.Linear(10, hidden_nodes1)  # Input layer: 10 nodes\n",
        "        self.fc2 = nn.Linear(hidden_nodes1, hidden_nodes2)  # First hidden layer\n",
        "        self.fc3 = nn.Linear(hidden_nodes2, 1)    # Output layer: 1 node for regression\n",
        "        self.hidden_nodes1 = hidden_nodes1\n",
        "        self.hidden_nodes2 = hidden_nodes2\n",
        "\n",
        "    def forward(self, x):\n",
        "        x = nn.functional.relu(self.fc1(x))  # ReLU activation for the first layer\n",
        "        x = nn.functional.relu(self.fc2(x))  # ReLU activation for the second layer\n",
        "        x = self.fc3(x)  # Output layer\n",
        "        return x\n"
      ]
    },
    {
      "cell_type": "code",
      "execution_count": 8,
      "metadata": {
        "colab": {
          "base_uri": "https://localhost:8080/"
        },
        "id": "gMSVaVVNqtLC",
        "outputId": "7d3ec79e-8ed6-4c8e-9444-901d3f80146d"
      },
      "outputs": [
        {
          "name": "stdout",
          "output_type": "stream",
          "text": [
            "Test loss for 100 epochs with 0.01 lr: 4.473552703857422\n"
          ]
        }
      ],
      "source": [
        "import torch.optim as optim\n",
        "\n",
        "\n",
        "def train_model(model, criterion, optimizer, X_train_tensor, y_train_tensor, epochs=100, batch_size=32):\n",
        "    num_batches = len(X_train_tensor) // batch_size\n",
        "\n",
        "    for epoch in range(epochs):\n",
        "        indices = torch.randperm(len(X_train_tensor))\n",
        "        X_train_tensor_shuffled = X_train_tensor[indices]\n",
        "        y_train_tensor_shuffled = y_train_tensor[indices]\n",
        "\n",
        "        for i in range(0, len(X_train_tensor), batch_size):\n",
        "            # Getbatch\n",
        "            X_batch = X_train_tensor_shuffled[i:i+batch_size]\n",
        "            y_batch = y_train_tensor_shuffled[i:i+batch_size]\n",
        "\n",
        "            # Forward pass\n",
        "            outputs = model(X_batch)\n",
        "            loss = criterion(outputs, y_batch)\n",
        "\n",
        "            # Backward pass and optimization\n",
        "            optimizer.zero_grad()\n",
        "            loss.backward()\n",
        "            optimizer.step()\n",
        "\n",
        "        # Print loss after each epoch\n",
        "        # if (epoch+1) % 10 == 0:\n",
        "        #     print(f'Epoch [{epoch+1}/{epochs}], Loss: {loss.item():.4f}')\n",
        "\n",
        "\n",
        "def evaluate(model, X_test_tensor, y_test_tensor):\n",
        "    model.eval()\n",
        "    with torch.no_grad():\n",
        "        outputs = model(X_test_tensor)\n",
        "        mse = nn.MSELoss()\n",
        "        loss = mse(outputs, y_test_tensor)\n",
        "        # print(f'Test Loss: {loss.item():.4f}')\n",
        "        return loss.item()\n",
        "\n",
        "# Define the model\n",
        "model = AbaloneModel()\n",
        "\n",
        "criterion = nn.MSELoss()\n",
        "optimizer = optim.SGD(model.parameters(), lr=0.01)\n",
        "\n",
        "# Train the model\n",
        "train_model(model, criterion, optimizer, X_train_tensor, y_train_tensor)\n",
        "\n",
        "# Evaluate the model\n",
        "mse = evaluate(model, X_test_tensor, y_test_tensor)\n",
        "print(f\"Test loss for 100 epochs with 0.01 lr: {mse}\")\n"
      ]
    },
    {
      "cell_type": "code",
      "execution_count": 9,
      "metadata": {
        "id": "epZQzGxshYA_"
      },
      "outputs": [],
      "source": [
        "import torch.optim as optim\n",
        "import pandas as pd\n",
        "#Various Hyper-Params\n",
        "learning_rates = [0.001, 0.01, 0.1]\n",
        "batch_sizes = [16, 32, 64]\n",
        "hidden_nodes1 = [32, 64, 128]\n",
        "hidden_nodes2= [32,64,128]\n",
        "hidden_layers = [1, 2, 3]\n",
        "epoch_sizes=[20,40,60,80,100,125]\n",
        "result_lr = []\n",
        "\n",
        "for lr in learning_rates:\n",
        "  for e in epoch_sizes:\n",
        "    for batchs in batch_sizes:\n",
        "      for nodes1 in hidden_nodes1:\n",
        "        for nodes2 in hidden_nodes2:\n",
        "    # Define and train the model\n",
        "          model = AbaloneModel(hidden_nodes1=nodes1,hidden_nodes2= nodes2)\n",
        "          optimizer = optim.SGD(model.parameters(), lr=lr)\n",
        "          train_model(model, criterion, optimizer, X_train_tensor, y_train_tensor, epochs=e, batch_size= batchs)\n",
        "\n",
        "          # Evaluate the model\n",
        "          mse = evaluate(model, X_test_tensor, y_test_tensor)\n",
        "\n",
        "          # Store the results\n",
        "          result_lr.append({\n",
        "                    'Learning Rate': lr,\n",
        "                    'Batch Size': batchs,\n",
        "                    'Hidden Nodes in Layer 1': nodes1,\n",
        "                    'Hidden Nodes in Layer2': nodes2,\n",
        "                    'Epochs': e,\n",
        "                    'MSE': mse\n",
        "          })\n",
        "\n",
        "# Print the results\n",
        "# for result in result_lr:\n",
        "    # print(f\"Learning Rate: {result['Learning Rate']}, MSE: {result['MSE']}\")"
      ]
    },
    {
      "cell_type": "code",
      "execution_count": 11,
      "metadata": {
        "colab": {
          "base_uri": "https://localhost:8080/"
        },
        "id": "fo33zL4B8UPH",
        "outputId": "e17f0ab3-33e3-4436-e82e-01ac21db881b"
      },
      "outputs": [
        {
          "name": "stdout",
          "output_type": "stream",
          "text": [
            "[{'Learning Rate': 0.001, 'Batch Size': 16, 'Hidden Nodes in Layer 1': 32, 'Hidden Nodes in Layer2': 32, 'Epochs': 20, 'MSE': 4.564385890960693}, {'Learning Rate': 0.001, 'Batch Size': 16, 'Hidden Nodes in Layer 1': 32, 'Hidden Nodes in Layer2': 64, 'Epochs': 20, 'MSE': 4.605739116668701}, {'Learning Rate': 0.001, 'Batch Size': 16, 'Hidden Nodes in Layer 1': 32, 'Hidden Nodes in Layer2': 128, 'Epochs': 20, 'MSE': 4.724771022796631}, {'Learning Rate': 0.001, 'Batch Size': 16, 'Hidden Nodes in Layer 1': 64, 'Hidden Nodes in Layer2': 32, 'Epochs': 20, 'MSE': 4.666952610015869}, {'Learning Rate': 0.001, 'Batch Size': 16, 'Hidden Nodes in Layer 1': 64, 'Hidden Nodes in Layer2': 64, 'Epochs': 20, 'MSE': 4.547297954559326}, {'Learning Rate': 0.001, 'Batch Size': 16, 'Hidden Nodes in Layer 1': 64, 'Hidden Nodes in Layer2': 128, 'Epochs': 20, 'MSE': 4.708538055419922}, {'Learning Rate': 0.001, 'Batch Size': 16, 'Hidden Nodes in Layer 1': 128, 'Hidden Nodes in Layer2': 32, 'Epochs': 20, 'MSE': 4.503328800201416}, {'Learning Rate': 0.001, 'Batch Size': 16, 'Hidden Nodes in Layer 1': 128, 'Hidden Nodes in Layer2': 64, 'Epochs': 20, 'MSE': 4.845569610595703}, {'Learning Rate': 0.001, 'Batch Size': 16, 'Hidden Nodes in Layer 1': 128, 'Hidden Nodes in Layer2': 128, 'Epochs': 20, 'MSE': 4.606666564941406}, {'Learning Rate': 0.001, 'Batch Size': 32, 'Hidden Nodes in Layer 1': 32, 'Hidden Nodes in Layer2': 32, 'Epochs': 20, 'MSE': 4.761416435241699}, {'Learning Rate': 0.001, 'Batch Size': 32, 'Hidden Nodes in Layer 1': 32, 'Hidden Nodes in Layer2': 64, 'Epochs': 20, 'MSE': 4.817452907562256}, {'Learning Rate': 0.001, 'Batch Size': 32, 'Hidden Nodes in Layer 1': 32, 'Hidden Nodes in Layer2': 128, 'Epochs': 20, 'MSE': 4.714334964752197}, {'Learning Rate': 0.001, 'Batch Size': 32, 'Hidden Nodes in Layer 1': 64, 'Hidden Nodes in Layer2': 32, 'Epochs': 20, 'MSE': 4.729030609130859}, {'Learning Rate': 0.001, 'Batch Size': 32, 'Hidden Nodes in Layer 1': 64, 'Hidden Nodes in Layer2': 64, 'Epochs': 20, 'MSE': 4.878530025482178}, {'Learning Rate': 0.001, 'Batch Size': 32, 'Hidden Nodes in Layer 1': 64, 'Hidden Nodes in Layer2': 128, 'Epochs': 20, 'MSE': 4.710938453674316}, {'Learning Rate': 0.001, 'Batch Size': 32, 'Hidden Nodes in Layer 1': 128, 'Hidden Nodes in Layer2': 32, 'Epochs': 20, 'MSE': 4.809289932250977}, {'Learning Rate': 0.001, 'Batch Size': 32, 'Hidden Nodes in Layer 1': 128, 'Hidden Nodes in Layer2': 64, 'Epochs': 20, 'MSE': 4.6455912590026855}, {'Learning Rate': 0.001, 'Batch Size': 32, 'Hidden Nodes in Layer 1': 128, 'Hidden Nodes in Layer2': 128, 'Epochs': 20, 'MSE': 4.703711986541748}, {'Learning Rate': 0.001, 'Batch Size': 64, 'Hidden Nodes in Layer 1': 32, 'Hidden Nodes in Layer2': 32, 'Epochs': 20, 'MSE': 5.005339622497559}, {'Learning Rate': 0.001, 'Batch Size': 64, 'Hidden Nodes in Layer 1': 32, 'Hidden Nodes in Layer2': 64, 'Epochs': 20, 'MSE': 5.016040802001953}, {'Learning Rate': 0.001, 'Batch Size': 64, 'Hidden Nodes in Layer 1': 32, 'Hidden Nodes in Layer2': 128, 'Epochs': 20, 'MSE': 4.944937705993652}, {'Learning Rate': 0.001, 'Batch Size': 64, 'Hidden Nodes in Layer 1': 64, 'Hidden Nodes in Layer2': 32, 'Epochs': 20, 'MSE': 4.879878044128418}, {'Learning Rate': 0.001, 'Batch Size': 64, 'Hidden Nodes in Layer 1': 64, 'Hidden Nodes in Layer2': 64, 'Epochs': 20, 'MSE': 4.893942356109619}, {'Learning Rate': 0.001, 'Batch Size': 64, 'Hidden Nodes in Layer 1': 64, 'Hidden Nodes in Layer2': 128, 'Epochs': 20, 'MSE': 4.8111982345581055}, {'Learning Rate': 0.001, 'Batch Size': 64, 'Hidden Nodes in Layer 1': 128, 'Hidden Nodes in Layer2': 32, 'Epochs': 20, 'MSE': 4.896055221557617}, {'Learning Rate': 0.001, 'Batch Size': 64, 'Hidden Nodes in Layer 1': 128, 'Hidden Nodes in Layer2': 64, 'Epochs': 20, 'MSE': 4.930667400360107}, {'Learning Rate': 0.001, 'Batch Size': 64, 'Hidden Nodes in Layer 1': 128, 'Hidden Nodes in Layer2': 128, 'Epochs': 20, 'MSE': 4.959507465362549}, {'Learning Rate': 0.001, 'Batch Size': 16, 'Hidden Nodes in Layer 1': 32, 'Hidden Nodes in Layer2': 32, 'Epochs': 40, 'MSE': 4.4470415115356445}, {'Learning Rate': 0.001, 'Batch Size': 16, 'Hidden Nodes in Layer 1': 32, 'Hidden Nodes in Layer2': 64, 'Epochs': 40, 'MSE': 4.462147235870361}, {'Learning Rate': 0.001, 'Batch Size': 16, 'Hidden Nodes in Layer 1': 32, 'Hidden Nodes in Layer2': 128, 'Epochs': 40, 'MSE': 4.4440507888793945}, {'Learning Rate': 0.001, 'Batch Size': 16, 'Hidden Nodes in Layer 1': 64, 'Hidden Nodes in Layer2': 32, 'Epochs': 40, 'MSE': 4.5244855880737305}, {'Learning Rate': 0.001, 'Batch Size': 16, 'Hidden Nodes in Layer 1': 64, 'Hidden Nodes in Layer2': 64, 'Epochs': 40, 'MSE': 4.454361915588379}, {'Learning Rate': 0.001, 'Batch Size': 16, 'Hidden Nodes in Layer 1': 64, 'Hidden Nodes in Layer2': 128, 'Epochs': 40, 'MSE': 4.537156581878662}, {'Learning Rate': 0.001, 'Batch Size': 16, 'Hidden Nodes in Layer 1': 128, 'Hidden Nodes in Layer2': 32, 'Epochs': 40, 'MSE': 4.495794773101807}, {'Learning Rate': 0.001, 'Batch Size': 16, 'Hidden Nodes in Layer 1': 128, 'Hidden Nodes in Layer2': 64, 'Epochs': 40, 'MSE': 4.542506217956543}, {'Learning Rate': 0.001, 'Batch Size': 16, 'Hidden Nodes in Layer 1': 128, 'Hidden Nodes in Layer2': 128, 'Epochs': 40, 'MSE': 4.751806735992432}, {'Learning Rate': 0.001, 'Batch Size': 32, 'Hidden Nodes in Layer 1': 32, 'Hidden Nodes in Layer2': 32, 'Epochs': 40, 'MSE': 4.562878131866455}, {'Learning Rate': 0.001, 'Batch Size': 32, 'Hidden Nodes in Layer 1': 32, 'Hidden Nodes in Layer2': 64, 'Epochs': 40, 'MSE': 4.4952826499938965}, {'Learning Rate': 0.001, 'Batch Size': 32, 'Hidden Nodes in Layer 1': 32, 'Hidden Nodes in Layer2': 128, 'Epochs': 40, 'MSE': 4.567335605621338}, {'Learning Rate': 0.001, 'Batch Size': 32, 'Hidden Nodes in Layer 1': 64, 'Hidden Nodes in Layer2': 32, 'Epochs': 40, 'MSE': 4.613194465637207}, {'Learning Rate': 0.001, 'Batch Size': 32, 'Hidden Nodes in Layer 1': 64, 'Hidden Nodes in Layer2': 64, 'Epochs': 40, 'MSE': 4.5942230224609375}, {'Learning Rate': 0.001, 'Batch Size': 32, 'Hidden Nodes in Layer 1': 64, 'Hidden Nodes in Layer2': 128, 'Epochs': 40, 'MSE': 4.59466028213501}, {'Learning Rate': 0.001, 'Batch Size': 32, 'Hidden Nodes in Layer 1': 128, 'Hidden Nodes in Layer2': 32, 'Epochs': 40, 'MSE': 4.586307048797607}, {'Learning Rate': 0.001, 'Batch Size': 32, 'Hidden Nodes in Layer 1': 128, 'Hidden Nodes in Layer2': 64, 'Epochs': 40, 'MSE': 4.529521942138672}, {'Learning Rate': 0.001, 'Batch Size': 32, 'Hidden Nodes in Layer 1': 128, 'Hidden Nodes in Layer2': 128, 'Epochs': 40, 'MSE': 4.712682247161865}, {'Learning Rate': 0.001, 'Batch Size': 64, 'Hidden Nodes in Layer 1': 32, 'Hidden Nodes in Layer2': 32, 'Epochs': 40, 'MSE': 4.746790409088135}, {'Learning Rate': 0.001, 'Batch Size': 64, 'Hidden Nodes in Layer 1': 32, 'Hidden Nodes in Layer2': 64, 'Epochs': 40, 'MSE': 4.797581672668457}, {'Learning Rate': 0.001, 'Batch Size': 64, 'Hidden Nodes in Layer 1': 32, 'Hidden Nodes in Layer2': 128, 'Epochs': 40, 'MSE': 4.746455669403076}, {'Learning Rate': 0.001, 'Batch Size': 64, 'Hidden Nodes in Layer 1': 64, 'Hidden Nodes in Layer2': 32, 'Epochs': 40, 'MSE': 4.955945014953613}, {'Learning Rate': 0.001, 'Batch Size': 64, 'Hidden Nodes in Layer 1': 64, 'Hidden Nodes in Layer2': 64, 'Epochs': 40, 'MSE': 4.8528852462768555}, {'Learning Rate': 0.001, 'Batch Size': 64, 'Hidden Nodes in Layer 1': 64, 'Hidden Nodes in Layer2': 128, 'Epochs': 40, 'MSE': 4.6979241371154785}, {'Learning Rate': 0.001, 'Batch Size': 64, 'Hidden Nodes in Layer 1': 128, 'Hidden Nodes in Layer2': 32, 'Epochs': 40, 'MSE': 4.745291709899902}, {'Learning Rate': 0.001, 'Batch Size': 64, 'Hidden Nodes in Layer 1': 128, 'Hidden Nodes in Layer2': 64, 'Epochs': 40, 'MSE': 4.811264514923096}, {'Learning Rate': 0.001, 'Batch Size': 64, 'Hidden Nodes in Layer 1': 128, 'Hidden Nodes in Layer2': 128, 'Epochs': 40, 'MSE': 4.746089458465576}, {'Learning Rate': 0.001, 'Batch Size': 16, 'Hidden Nodes in Layer 1': 32, 'Hidden Nodes in Layer2': 32, 'Epochs': 60, 'MSE': 4.447414398193359}, {'Learning Rate': 0.001, 'Batch Size': 16, 'Hidden Nodes in Layer 1': 32, 'Hidden Nodes in Layer2': 64, 'Epochs': 60, 'MSE': 4.43128776550293}, {'Learning Rate': 0.001, 'Batch Size': 16, 'Hidden Nodes in Layer 1': 32, 'Hidden Nodes in Layer2': 128, 'Epochs': 60, 'MSE': 4.49653959274292}, {'Learning Rate': 0.001, 'Batch Size': 16, 'Hidden Nodes in Layer 1': 64, 'Hidden Nodes in Layer2': 32, 'Epochs': 60, 'MSE': 4.421677112579346}, {'Learning Rate': 0.001, 'Batch Size': 16, 'Hidden Nodes in Layer 1': 64, 'Hidden Nodes in Layer2': 64, 'Epochs': 60, 'MSE': 4.443969249725342}, {'Learning Rate': 0.001, 'Batch Size': 16, 'Hidden Nodes in Layer 1': 64, 'Hidden Nodes in Layer2': 128, 'Epochs': 60, 'MSE': 4.555255889892578}, {'Learning Rate': 0.001, 'Batch Size': 16, 'Hidden Nodes in Layer 1': 128, 'Hidden Nodes in Layer2': 32, 'Epochs': 60, 'MSE': 4.415243148803711}, {'Learning Rate': 0.001, 'Batch Size': 16, 'Hidden Nodes in Layer 1': 128, 'Hidden Nodes in Layer2': 64, 'Epochs': 60, 'MSE': 4.440348148345947}, {'Learning Rate': 0.001, 'Batch Size': 16, 'Hidden Nodes in Layer 1': 128, 'Hidden Nodes in Layer2': 128, 'Epochs': 60, 'MSE': 4.446540355682373}, {'Learning Rate': 0.001, 'Batch Size': 32, 'Hidden Nodes in Layer 1': 32, 'Hidden Nodes in Layer2': 32, 'Epochs': 60, 'MSE': 4.523652076721191}, {'Learning Rate': 0.001, 'Batch Size': 32, 'Hidden Nodes in Layer 1': 32, 'Hidden Nodes in Layer2': 64, 'Epochs': 60, 'MSE': 4.5488409996032715}, {'Learning Rate': 0.001, 'Batch Size': 32, 'Hidden Nodes in Layer 1': 32, 'Hidden Nodes in Layer2': 128, 'Epochs': 60, 'MSE': 4.530162811279297}, {'Learning Rate': 0.001, 'Batch Size': 32, 'Hidden Nodes in Layer 1': 64, 'Hidden Nodes in Layer2': 32, 'Epochs': 60, 'MSE': 4.49885368347168}, {'Learning Rate': 0.001, 'Batch Size': 32, 'Hidden Nodes in Layer 1': 64, 'Hidden Nodes in Layer2': 64, 'Epochs': 60, 'MSE': 4.484520435333252}, {'Learning Rate': 0.001, 'Batch Size': 32, 'Hidden Nodes in Layer 1': 64, 'Hidden Nodes in Layer2': 128, 'Epochs': 60, 'MSE': 4.503411769866943}, {'Learning Rate': 0.001, 'Batch Size': 32, 'Hidden Nodes in Layer 1': 128, 'Hidden Nodes in Layer2': 32, 'Epochs': 60, 'MSE': 4.513079643249512}, {'Learning Rate': 0.001, 'Batch Size': 32, 'Hidden Nodes in Layer 1': 128, 'Hidden Nodes in Layer2': 64, 'Epochs': 60, 'MSE': 4.49655818939209}, {'Learning Rate': 0.001, 'Batch Size': 32, 'Hidden Nodes in Layer 1': 128, 'Hidden Nodes in Layer2': 128, 'Epochs': 60, 'MSE': 4.575312614440918}, {'Learning Rate': 0.001, 'Batch Size': 64, 'Hidden Nodes in Layer 1': 32, 'Hidden Nodes in Layer2': 32, 'Epochs': 60, 'MSE': 4.605279445648193}, {'Learning Rate': 0.001, 'Batch Size': 64, 'Hidden Nodes in Layer 1': 32, 'Hidden Nodes in Layer2': 64, 'Epochs': 60, 'MSE': 4.708768367767334}, {'Learning Rate': 0.001, 'Batch Size': 64, 'Hidden Nodes in Layer 1': 32, 'Hidden Nodes in Layer2': 128, 'Epochs': 60, 'MSE': 4.57390832901001}, {'Learning Rate': 0.001, 'Batch Size': 64, 'Hidden Nodes in Layer 1': 64, 'Hidden Nodes in Layer2': 32, 'Epochs': 60, 'MSE': 4.60110330581665}, {'Learning Rate': 0.001, 'Batch Size': 64, 'Hidden Nodes in Layer 1': 64, 'Hidden Nodes in Layer2': 64, 'Epochs': 60, 'MSE': 4.6509623527526855}, {'Learning Rate': 0.001, 'Batch Size': 64, 'Hidden Nodes in Layer 1': 64, 'Hidden Nodes in Layer2': 128, 'Epochs': 60, 'MSE': 4.669747829437256}, {'Learning Rate': 0.001, 'Batch Size': 64, 'Hidden Nodes in Layer 1': 128, 'Hidden Nodes in Layer2': 32, 'Epochs': 60, 'MSE': 4.691818714141846}, {'Learning Rate': 0.001, 'Batch Size': 64, 'Hidden Nodes in Layer 1': 128, 'Hidden Nodes in Layer2': 64, 'Epochs': 60, 'MSE': 4.625052452087402}, {'Learning Rate': 0.001, 'Batch Size': 64, 'Hidden Nodes in Layer 1': 128, 'Hidden Nodes in Layer2': 128, 'Epochs': 60, 'MSE': 4.611746788024902}, {'Learning Rate': 0.001, 'Batch Size': 16, 'Hidden Nodes in Layer 1': 32, 'Hidden Nodes in Layer2': 32, 'Epochs': 80, 'MSE': 4.394772529602051}, {'Learning Rate': 0.001, 'Batch Size': 16, 'Hidden Nodes in Layer 1': 32, 'Hidden Nodes in Layer2': 64, 'Epochs': 80, 'MSE': 4.389316558837891}, {'Learning Rate': 0.001, 'Batch Size': 16, 'Hidden Nodes in Layer 1': 32, 'Hidden Nodes in Layer2': 128, 'Epochs': 80, 'MSE': 4.6554036140441895}, {'Learning Rate': 0.001, 'Batch Size': 16, 'Hidden Nodes in Layer 1': 64, 'Hidden Nodes in Layer2': 32, 'Epochs': 80, 'MSE': 4.453115940093994}, {'Learning Rate': 0.001, 'Batch Size': 16, 'Hidden Nodes in Layer 1': 64, 'Hidden Nodes in Layer2': 64, 'Epochs': 80, 'MSE': 4.653421401977539}, {'Learning Rate': 0.001, 'Batch Size': 16, 'Hidden Nodes in Layer 1': 64, 'Hidden Nodes in Layer2': 128, 'Epochs': 80, 'MSE': 4.368474006652832}, {'Learning Rate': 0.001, 'Batch Size': 16, 'Hidden Nodes in Layer 1': 128, 'Hidden Nodes in Layer2': 32, 'Epochs': 80, 'MSE': 4.411180019378662}, {'Learning Rate': 0.001, 'Batch Size': 16, 'Hidden Nodes in Layer 1': 128, 'Hidden Nodes in Layer2': 64, 'Epochs': 80, 'MSE': 4.412265300750732}, {'Learning Rate': 0.001, 'Batch Size': 16, 'Hidden Nodes in Layer 1': 128, 'Hidden Nodes in Layer2': 128, 'Epochs': 80, 'MSE': 4.370884895324707}, {'Learning Rate': 0.001, 'Batch Size': 32, 'Hidden Nodes in Layer 1': 32, 'Hidden Nodes in Layer2': 32, 'Epochs': 80, 'MSE': 4.52386999130249}, {'Learning Rate': 0.001, 'Batch Size': 32, 'Hidden Nodes in Layer 1': 32, 'Hidden Nodes in Layer2': 64, 'Epochs': 80, 'MSE': 4.4142656326293945}, {'Learning Rate': 0.001, 'Batch Size': 32, 'Hidden Nodes in Layer 1': 32, 'Hidden Nodes in Layer2': 128, 'Epochs': 80, 'MSE': 4.529879570007324}, {'Learning Rate': 0.001, 'Batch Size': 32, 'Hidden Nodes in Layer 1': 64, 'Hidden Nodes in Layer2': 32, 'Epochs': 80, 'MSE': 4.490662574768066}, {'Learning Rate': 0.001, 'Batch Size': 32, 'Hidden Nodes in Layer 1': 64, 'Hidden Nodes in Layer2': 64, 'Epochs': 80, 'MSE': 4.577925205230713}, {'Learning Rate': 0.001, 'Batch Size': 32, 'Hidden Nodes in Layer 1': 64, 'Hidden Nodes in Layer2': 128, 'Epochs': 80, 'MSE': 4.384113788604736}, {'Learning Rate': 0.001, 'Batch Size': 32, 'Hidden Nodes in Layer 1': 128, 'Hidden Nodes in Layer2': 32, 'Epochs': 80, 'MSE': 4.470185279846191}, {'Learning Rate': 0.001, 'Batch Size': 32, 'Hidden Nodes in Layer 1': 128, 'Hidden Nodes in Layer2': 64, 'Epochs': 80, 'MSE': 4.454658031463623}, {'Learning Rate': 0.001, 'Batch Size': 32, 'Hidden Nodes in Layer 1': 128, 'Hidden Nodes in Layer2': 128, 'Epochs': 80, 'MSE': 4.446269512176514}, {'Learning Rate': 0.001, 'Batch Size': 64, 'Hidden Nodes in Layer 1': 32, 'Hidden Nodes in Layer2': 32, 'Epochs': 80, 'MSE': 4.555958271026611}, {'Learning Rate': 0.001, 'Batch Size': 64, 'Hidden Nodes in Layer 1': 32, 'Hidden Nodes in Layer2': 64, 'Epochs': 80, 'MSE': 4.564509391784668}, {'Learning Rate': 0.001, 'Batch Size': 64, 'Hidden Nodes in Layer 1': 32, 'Hidden Nodes in Layer2': 128, 'Epochs': 80, 'MSE': 4.583687782287598}, {'Learning Rate': 0.001, 'Batch Size': 64, 'Hidden Nodes in Layer 1': 64, 'Hidden Nodes in Layer2': 32, 'Epochs': 80, 'MSE': 4.625939846038818}, {'Learning Rate': 0.001, 'Batch Size': 64, 'Hidden Nodes in Layer 1': 64, 'Hidden Nodes in Layer2': 64, 'Epochs': 80, 'MSE': 4.594041347503662}, {'Learning Rate': 0.001, 'Batch Size': 64, 'Hidden Nodes in Layer 1': 64, 'Hidden Nodes in Layer2': 128, 'Epochs': 80, 'MSE': 4.600161552429199}, {'Learning Rate': 0.001, 'Batch Size': 64, 'Hidden Nodes in Layer 1': 128, 'Hidden Nodes in Layer2': 32, 'Epochs': 80, 'MSE': 4.621009826660156}, {'Learning Rate': 0.001, 'Batch Size': 64, 'Hidden Nodes in Layer 1': 128, 'Hidden Nodes in Layer2': 64, 'Epochs': 80, 'MSE': 4.616053104400635}, {'Learning Rate': 0.001, 'Batch Size': 64, 'Hidden Nodes in Layer 1': 128, 'Hidden Nodes in Layer2': 128, 'Epochs': 80, 'MSE': 4.5678815841674805}, {'Learning Rate': 0.001, 'Batch Size': 16, 'Hidden Nodes in Layer 1': 32, 'Hidden Nodes in Layer2': 32, 'Epochs': 100, 'MSE': 4.379267692565918}, {'Learning Rate': 0.001, 'Batch Size': 16, 'Hidden Nodes in Layer 1': 32, 'Hidden Nodes in Layer2': 64, 'Epochs': 100, 'MSE': 4.365993022918701}, {'Learning Rate': 0.001, 'Batch Size': 16, 'Hidden Nodes in Layer 1': 32, 'Hidden Nodes in Layer2': 128, 'Epochs': 100, 'MSE': 4.427981853485107}, {'Learning Rate': 0.001, 'Batch Size': 16, 'Hidden Nodes in Layer 1': 64, 'Hidden Nodes in Layer2': 32, 'Epochs': 100, 'MSE': 4.485906600952148}, {'Learning Rate': 0.001, 'Batch Size': 16, 'Hidden Nodes in Layer 1': 64, 'Hidden Nodes in Layer2': 64, 'Epochs': 100, 'MSE': 4.39613151550293}, {'Learning Rate': 0.001, 'Batch Size': 16, 'Hidden Nodes in Layer 1': 64, 'Hidden Nodes in Layer2': 128, 'Epochs': 100, 'MSE': 4.419705390930176}, {'Learning Rate': 0.001, 'Batch Size': 16, 'Hidden Nodes in Layer 1': 128, 'Hidden Nodes in Layer2': 32, 'Epochs': 100, 'MSE': 4.411942481994629}, {'Learning Rate': 0.001, 'Batch Size': 16, 'Hidden Nodes in Layer 1': 128, 'Hidden Nodes in Layer2': 64, 'Epochs': 100, 'MSE': 4.614686965942383}, {'Learning Rate': 0.001, 'Batch Size': 16, 'Hidden Nodes in Layer 1': 128, 'Hidden Nodes in Layer2': 128, 'Epochs': 100, 'MSE': 4.417118072509766}, {'Learning Rate': 0.001, 'Batch Size': 32, 'Hidden Nodes in Layer 1': 32, 'Hidden Nodes in Layer2': 32, 'Epochs': 100, 'MSE': 4.466477870941162}, {'Learning Rate': 0.001, 'Batch Size': 32, 'Hidden Nodes in Layer 1': 32, 'Hidden Nodes in Layer2': 64, 'Epochs': 100, 'MSE': 4.400447368621826}, {'Learning Rate': 0.001, 'Batch Size': 32, 'Hidden Nodes in Layer 1': 32, 'Hidden Nodes in Layer2': 128, 'Epochs': 100, 'MSE': 4.443236351013184}, {'Learning Rate': 0.001, 'Batch Size': 32, 'Hidden Nodes in Layer 1': 64, 'Hidden Nodes in Layer2': 32, 'Epochs': 100, 'MSE': 4.597650051116943}, {'Learning Rate': 0.001, 'Batch Size': 32, 'Hidden Nodes in Layer 1': 64, 'Hidden Nodes in Layer2': 64, 'Epochs': 100, 'MSE': 4.5026960372924805}, {'Learning Rate': 0.001, 'Batch Size': 32, 'Hidden Nodes in Layer 1': 64, 'Hidden Nodes in Layer2': 128, 'Epochs': 100, 'MSE': 4.375182628631592}, {'Learning Rate': 0.001, 'Batch Size': 32, 'Hidden Nodes in Layer 1': 128, 'Hidden Nodes in Layer2': 32, 'Epochs': 100, 'MSE': 4.454452991485596}, {'Learning Rate': 0.001, 'Batch Size': 32, 'Hidden Nodes in Layer 1': 128, 'Hidden Nodes in Layer2': 64, 'Epochs': 100, 'MSE': 4.429747581481934}, {'Learning Rate': 0.001, 'Batch Size': 32, 'Hidden Nodes in Layer 1': 128, 'Hidden Nodes in Layer2': 128, 'Epochs': 100, 'MSE': 4.4225969314575195}, {'Learning Rate': 0.001, 'Batch Size': 64, 'Hidden Nodes in Layer 1': 32, 'Hidden Nodes in Layer2': 32, 'Epochs': 100, 'MSE': 4.556482791900635}, {'Learning Rate': 0.001, 'Batch Size': 64, 'Hidden Nodes in Layer 1': 32, 'Hidden Nodes in Layer2': 64, 'Epochs': 100, 'MSE': 4.477789402008057}, {'Learning Rate': 0.001, 'Batch Size': 64, 'Hidden Nodes in Layer 1': 32, 'Hidden Nodes in Layer2': 128, 'Epochs': 100, 'MSE': 4.51662540435791}, {'Learning Rate': 0.001, 'Batch Size': 64, 'Hidden Nodes in Layer 1': 64, 'Hidden Nodes in Layer2': 32, 'Epochs': 100, 'MSE': 4.597958087921143}, {'Learning Rate': 0.001, 'Batch Size': 64, 'Hidden Nodes in Layer 1': 64, 'Hidden Nodes in Layer2': 64, 'Epochs': 100, 'MSE': 4.4908127784729}, {'Learning Rate': 0.001, 'Batch Size': 64, 'Hidden Nodes in Layer 1': 64, 'Hidden Nodes in Layer2': 128, 'Epochs': 100, 'MSE': 4.56532621383667}, {'Learning Rate': 0.001, 'Batch Size': 64, 'Hidden Nodes in Layer 1': 128, 'Hidden Nodes in Layer2': 32, 'Epochs': 100, 'MSE': 4.630673885345459}, {'Learning Rate': 0.001, 'Batch Size': 64, 'Hidden Nodes in Layer 1': 128, 'Hidden Nodes in Layer2': 64, 'Epochs': 100, 'MSE': 4.656070709228516}, {'Learning Rate': 0.001, 'Batch Size': 64, 'Hidden Nodes in Layer 1': 128, 'Hidden Nodes in Layer2': 128, 'Epochs': 100, 'MSE': 4.481926441192627}, {'Learning Rate': 0.001, 'Batch Size': 16, 'Hidden Nodes in Layer 1': 32, 'Hidden Nodes in Layer2': 32, 'Epochs': 125, 'MSE': 4.335519790649414}, {'Learning Rate': 0.001, 'Batch Size': 16, 'Hidden Nodes in Layer 1': 32, 'Hidden Nodes in Layer2': 64, 'Epochs': 125, 'MSE': 4.325491428375244}, {'Learning Rate': 0.001, 'Batch Size': 16, 'Hidden Nodes in Layer 1': 32, 'Hidden Nodes in Layer2': 128, 'Epochs': 125, 'MSE': 4.406660079956055}, {'Learning Rate': 0.001, 'Batch Size': 16, 'Hidden Nodes in Layer 1': 64, 'Hidden Nodes in Layer2': 32, 'Epochs': 125, 'MSE': 4.424592018127441}, {'Learning Rate': 0.001, 'Batch Size': 16, 'Hidden Nodes in Layer 1': 64, 'Hidden Nodes in Layer2': 64, 'Epochs': 125, 'MSE': 4.5172438621521}, {'Learning Rate': 0.001, 'Batch Size': 16, 'Hidden Nodes in Layer 1': 64, 'Hidden Nodes in Layer2': 128, 'Epochs': 125, 'MSE': 4.417874336242676}, {'Learning Rate': 0.001, 'Batch Size': 16, 'Hidden Nodes in Layer 1': 128, 'Hidden Nodes in Layer2': 32, 'Epochs': 125, 'MSE': 4.4612345695495605}, {'Learning Rate': 0.001, 'Batch Size': 16, 'Hidden Nodes in Layer 1': 128, 'Hidden Nodes in Layer2': 64, 'Epochs': 125, 'MSE': 4.4406418800354}, {'Learning Rate': 0.001, 'Batch Size': 16, 'Hidden Nodes in Layer 1': 128, 'Hidden Nodes in Layer2': 128, 'Epochs': 125, 'MSE': 4.396851539611816}, {'Learning Rate': 0.001, 'Batch Size': 32, 'Hidden Nodes in Layer 1': 32, 'Hidden Nodes in Layer2': 32, 'Epochs': 125, 'MSE': 4.420573711395264}, {'Learning Rate': 0.001, 'Batch Size': 32, 'Hidden Nodes in Layer 1': 32, 'Hidden Nodes in Layer2': 64, 'Epochs': 125, 'MSE': 4.376824855804443}, {'Learning Rate': 0.001, 'Batch Size': 32, 'Hidden Nodes in Layer 1': 32, 'Hidden Nodes in Layer2': 128, 'Epochs': 125, 'MSE': 4.431752681732178}, {'Learning Rate': 0.001, 'Batch Size': 32, 'Hidden Nodes in Layer 1': 64, 'Hidden Nodes in Layer2': 32, 'Epochs': 125, 'MSE': 4.377049922943115}, {'Learning Rate': 0.001, 'Batch Size': 32, 'Hidden Nodes in Layer 1': 64, 'Hidden Nodes in Layer2': 64, 'Epochs': 125, 'MSE': 4.42655611038208}, {'Learning Rate': 0.001, 'Batch Size': 32, 'Hidden Nodes in Layer 1': 64, 'Hidden Nodes in Layer2': 128, 'Epochs': 125, 'MSE': 4.351809501647949}, {'Learning Rate': 0.001, 'Batch Size': 32, 'Hidden Nodes in Layer 1': 128, 'Hidden Nodes in Layer2': 32, 'Epochs': 125, 'MSE': 4.4873576164245605}, {'Learning Rate': 0.001, 'Batch Size': 32, 'Hidden Nodes in Layer 1': 128, 'Hidden Nodes in Layer2': 64, 'Epochs': 125, 'MSE': 4.426642894744873}, {'Learning Rate': 0.001, 'Batch Size': 32, 'Hidden Nodes in Layer 1': 128, 'Hidden Nodes in Layer2': 128, 'Epochs': 125, 'MSE': 4.440770626068115}, {'Learning Rate': 0.001, 'Batch Size': 64, 'Hidden Nodes in Layer 1': 32, 'Hidden Nodes in Layer2': 32, 'Epochs': 125, 'MSE': 4.400118350982666}, {'Learning Rate': 0.001, 'Batch Size': 64, 'Hidden Nodes in Layer 1': 32, 'Hidden Nodes in Layer2': 64, 'Epochs': 125, 'MSE': 4.4670796394348145}, {'Learning Rate': 0.001, 'Batch Size': 64, 'Hidden Nodes in Layer 1': 32, 'Hidden Nodes in Layer2': 128, 'Epochs': 125, 'MSE': 4.479184150695801}, {'Learning Rate': 0.001, 'Batch Size': 64, 'Hidden Nodes in Layer 1': 64, 'Hidden Nodes in Layer2': 32, 'Epochs': 125, 'MSE': 4.4979424476623535}, {'Learning Rate': 0.001, 'Batch Size': 64, 'Hidden Nodes in Layer 1': 64, 'Hidden Nodes in Layer2': 64, 'Epochs': 125, 'MSE': 4.461602687835693}, {'Learning Rate': 0.001, 'Batch Size': 64, 'Hidden Nodes in Layer 1': 64, 'Hidden Nodes in Layer2': 128, 'Epochs': 125, 'MSE': 4.545219421386719}, {'Learning Rate': 0.001, 'Batch Size': 64, 'Hidden Nodes in Layer 1': 128, 'Hidden Nodes in Layer2': 32, 'Epochs': 125, 'MSE': 4.494021415710449}, {'Learning Rate': 0.001, 'Batch Size': 64, 'Hidden Nodes in Layer 1': 128, 'Hidden Nodes in Layer2': 64, 'Epochs': 125, 'MSE': 4.5165863037109375}, {'Learning Rate': 0.001, 'Batch Size': 64, 'Hidden Nodes in Layer 1': 128, 'Hidden Nodes in Layer2': 128, 'Epochs': 125, 'MSE': 4.549319267272949}, {'Learning Rate': 0.01, 'Batch Size': 16, 'Hidden Nodes in Layer 1': 32, 'Hidden Nodes in Layer2': 32, 'Epochs': 20, 'MSE': 4.585967063903809}, {'Learning Rate': 0.01, 'Batch Size': 16, 'Hidden Nodes in Layer 1': 32, 'Hidden Nodes in Layer2': 64, 'Epochs': 20, 'MSE': 4.752288818359375}, {'Learning Rate': 0.01, 'Batch Size': 16, 'Hidden Nodes in Layer 1': 32, 'Hidden Nodes in Layer2': 128, 'Epochs': 20, 'MSE': 4.47830057144165}, {'Learning Rate': 0.01, 'Batch Size': 16, 'Hidden Nodes in Layer 1': 64, 'Hidden Nodes in Layer2': 32, 'Epochs': 20, 'MSE': 4.801251411437988}, {'Learning Rate': 0.01, 'Batch Size': 16, 'Hidden Nodes in Layer 1': 64, 'Hidden Nodes in Layer2': 64, 'Epochs': 20, 'MSE': 4.344316482543945}, {'Learning Rate': 0.01, 'Batch Size': 16, 'Hidden Nodes in Layer 1': 64, 'Hidden Nodes in Layer2': 128, 'Epochs': 20, 'MSE': 4.368668079376221}, {'Learning Rate': 0.01, 'Batch Size': 16, 'Hidden Nodes in Layer 1': 128, 'Hidden Nodes in Layer2': 32, 'Epochs': 20, 'MSE': 4.8147969245910645}, {'Learning Rate': 0.01, 'Batch Size': 16, 'Hidden Nodes in Layer 1': 128, 'Hidden Nodes in Layer2': 64, 'Epochs': 20, 'MSE': 4.398125171661377}, {'Learning Rate': 0.01, 'Batch Size': 16, 'Hidden Nodes in Layer 1': 128, 'Hidden Nodes in Layer2': 128, 'Epochs': 20, 'MSE': 5.049282073974609}, {'Learning Rate': 0.01, 'Batch Size': 32, 'Hidden Nodes in Layer 1': 32, 'Hidden Nodes in Layer2': 32, 'Epochs': 20, 'MSE': 4.406245708465576}, {'Learning Rate': 0.01, 'Batch Size': 32, 'Hidden Nodes in Layer 1': 32, 'Hidden Nodes in Layer2': 64, 'Epochs': 20, 'MSE': 4.48075008392334}, {'Learning Rate': 0.01, 'Batch Size': 32, 'Hidden Nodes in Layer 1': 32, 'Hidden Nodes in Layer2': 128, 'Epochs': 20, 'MSE': 4.458658695220947}, {'Learning Rate': 0.01, 'Batch Size': 32, 'Hidden Nodes in Layer 1': 64, 'Hidden Nodes in Layer2': 32, 'Epochs': 20, 'MSE': 4.485644817352295}, {'Learning Rate': 0.01, 'Batch Size': 32, 'Hidden Nodes in Layer 1': 64, 'Hidden Nodes in Layer2': 64, 'Epochs': 20, 'MSE': 5.4508819580078125}, {'Learning Rate': 0.01, 'Batch Size': 32, 'Hidden Nodes in Layer 1': 64, 'Hidden Nodes in Layer2': 128, 'Epochs': 20, 'MSE': 5.325499534606934}, {'Learning Rate': 0.01, 'Batch Size': 32, 'Hidden Nodes in Layer 1': 128, 'Hidden Nodes in Layer2': 32, 'Epochs': 20, 'MSE': 6.267703056335449}, {'Learning Rate': 0.01, 'Batch Size': 32, 'Hidden Nodes in Layer 1': 128, 'Hidden Nodes in Layer2': 64, 'Epochs': 20, 'MSE': 4.701862812042236}, {'Learning Rate': 0.01, 'Batch Size': 32, 'Hidden Nodes in Layer 1': 128, 'Hidden Nodes in Layer2': 128, 'Epochs': 20, 'MSE': 4.798871994018555}, {'Learning Rate': 0.01, 'Batch Size': 64, 'Hidden Nodes in Layer 1': 32, 'Hidden Nodes in Layer2': 32, 'Epochs': 20, 'MSE': 4.812963485717773}, {'Learning Rate': 0.01, 'Batch Size': 64, 'Hidden Nodes in Layer 1': 32, 'Hidden Nodes in Layer2': 64, 'Epochs': 20, 'MSE': 4.5038251876831055}, {'Learning Rate': 0.01, 'Batch Size': 64, 'Hidden Nodes in Layer 1': 32, 'Hidden Nodes in Layer2': 128, 'Epochs': 20, 'MSE': 5.3908820152282715}, {'Learning Rate': 0.01, 'Batch Size': 64, 'Hidden Nodes in Layer 1': 64, 'Hidden Nodes in Layer2': 32, 'Epochs': 20, 'MSE': 6.330777168273926}, {'Learning Rate': 0.01, 'Batch Size': 64, 'Hidden Nodes in Layer 1': 64, 'Hidden Nodes in Layer2': 64, 'Epochs': 20, 'MSE': 5.776058673858643}, {'Learning Rate': 0.01, 'Batch Size': 64, 'Hidden Nodes in Layer 1': 64, 'Hidden Nodes in Layer2': 128, 'Epochs': 20, 'MSE': 4.502037525177002}, {'Learning Rate': 0.01, 'Batch Size': 64, 'Hidden Nodes in Layer 1': 128, 'Hidden Nodes in Layer2': 32, 'Epochs': 20, 'MSE': 5.9142303466796875}, {'Learning Rate': 0.01, 'Batch Size': 64, 'Hidden Nodes in Layer 1': 128, 'Hidden Nodes in Layer2': 64, 'Epochs': 20, 'MSE': 4.665765285491943}, {'Learning Rate': 0.01, 'Batch Size': 64, 'Hidden Nodes in Layer 1': 128, 'Hidden Nodes in Layer2': 128, 'Epochs': 20, 'MSE': 6.095154762268066}, {'Learning Rate': 0.01, 'Batch Size': 16, 'Hidden Nodes in Layer 1': 32, 'Hidden Nodes in Layer2': 32, 'Epochs': 40, 'MSE': 4.481672286987305}, {'Learning Rate': 0.01, 'Batch Size': 16, 'Hidden Nodes in Layer 1': 32, 'Hidden Nodes in Layer2': 64, 'Epochs': 40, 'MSE': 4.509178638458252}, {'Learning Rate': 0.01, 'Batch Size': 16, 'Hidden Nodes in Layer 1': 32, 'Hidden Nodes in Layer2': 128, 'Epochs': 40, 'MSE': 4.467667102813721}, {'Learning Rate': 0.01, 'Batch Size': 16, 'Hidden Nodes in Layer 1': 64, 'Hidden Nodes in Layer2': 32, 'Epochs': 40, 'MSE': 4.472898006439209}, {'Learning Rate': 0.01, 'Batch Size': 16, 'Hidden Nodes in Layer 1': 64, 'Hidden Nodes in Layer2': 64, 'Epochs': 40, 'MSE': 4.343626022338867}, {'Learning Rate': 0.01, 'Batch Size': 16, 'Hidden Nodes in Layer 1': 64, 'Hidden Nodes in Layer2': 128, 'Epochs': 40, 'MSE': 4.5943522453308105}, {'Learning Rate': 0.01, 'Batch Size': 16, 'Hidden Nodes in Layer 1': 128, 'Hidden Nodes in Layer2': 32, 'Epochs': 40, 'MSE': 4.786892414093018}, {'Learning Rate': 0.01, 'Batch Size': 16, 'Hidden Nodes in Layer 1': 128, 'Hidden Nodes in Layer2': 64, 'Epochs': 40, 'MSE': 4.5341339111328125}, {'Learning Rate': 0.01, 'Batch Size': 16, 'Hidden Nodes in Layer 1': 128, 'Hidden Nodes in Layer2': 128, 'Epochs': 40, 'MSE': 4.426957607269287}, {'Learning Rate': 0.01, 'Batch Size': 32, 'Hidden Nodes in Layer 1': 32, 'Hidden Nodes in Layer2': 32, 'Epochs': 40, 'MSE': 4.3850016593933105}, {'Learning Rate': 0.01, 'Batch Size': 32, 'Hidden Nodes in Layer 1': 32, 'Hidden Nodes in Layer2': 64, 'Epochs': 40, 'MSE': 4.352790355682373}, {'Learning Rate': 0.01, 'Batch Size': 32, 'Hidden Nodes in Layer 1': 32, 'Hidden Nodes in Layer2': 128, 'Epochs': 40, 'MSE': 4.513533592224121}, {'Learning Rate': 0.01, 'Batch Size': 32, 'Hidden Nodes in Layer 1': 64, 'Hidden Nodes in Layer2': 32, 'Epochs': 40, 'MSE': 4.940661430358887}, {'Learning Rate': 0.01, 'Batch Size': 32, 'Hidden Nodes in Layer 1': 64, 'Hidden Nodes in Layer2': 64, 'Epochs': 40, 'MSE': 4.4681901931762695}, {'Learning Rate': 0.01, 'Batch Size': 32, 'Hidden Nodes in Layer 1': 64, 'Hidden Nodes in Layer2': 128, 'Epochs': 40, 'MSE': 4.474035263061523}, {'Learning Rate': 0.01, 'Batch Size': 32, 'Hidden Nodes in Layer 1': 128, 'Hidden Nodes in Layer2': 32, 'Epochs': 40, 'MSE': 4.479683876037598}, {'Learning Rate': 0.01, 'Batch Size': 32, 'Hidden Nodes in Layer 1': 128, 'Hidden Nodes in Layer2': 64, 'Epochs': 40, 'MSE': 5.858659744262695}, {'Learning Rate': 0.01, 'Batch Size': 32, 'Hidden Nodes in Layer 1': 128, 'Hidden Nodes in Layer2': 128, 'Epochs': 40, 'MSE': 4.382774353027344}, {'Learning Rate': 0.01, 'Batch Size': 64, 'Hidden Nodes in Layer 1': 32, 'Hidden Nodes in Layer2': 32, 'Epochs': 40, 'MSE': 5.32200813293457}, {'Learning Rate': 0.01, 'Batch Size': 64, 'Hidden Nodes in Layer 1': 32, 'Hidden Nodes in Layer2': 64, 'Epochs': 40, 'MSE': 4.677453517913818}, {'Learning Rate': 0.01, 'Batch Size': 64, 'Hidden Nodes in Layer 1': 32, 'Hidden Nodes in Layer2': 128, 'Epochs': 40, 'MSE': 5.127805709838867}, {'Learning Rate': 0.01, 'Batch Size': 64, 'Hidden Nodes in Layer 1': 64, 'Hidden Nodes in Layer2': 32, 'Epochs': 40, 'MSE': 4.611637115478516}, {'Learning Rate': 0.01, 'Batch Size': 64, 'Hidden Nodes in Layer 1': 64, 'Hidden Nodes in Layer2': 64, 'Epochs': 40, 'MSE': 5.168725490570068}, {'Learning Rate': 0.01, 'Batch Size': 64, 'Hidden Nodes in Layer 1': 64, 'Hidden Nodes in Layer2': 128, 'Epochs': 40, 'MSE': 4.415923118591309}, {'Learning Rate': 0.01, 'Batch Size': 64, 'Hidden Nodes in Layer 1': 128, 'Hidden Nodes in Layer2': 32, 'Epochs': 40, 'MSE': 6.285294532775879}, {'Learning Rate': 0.01, 'Batch Size': 64, 'Hidden Nodes in Layer 1': 128, 'Hidden Nodes in Layer2': 64, 'Epochs': 40, 'MSE': 5.94255256652832}, {'Learning Rate': 0.01, 'Batch Size': 64, 'Hidden Nodes in Layer 1': 128, 'Hidden Nodes in Layer2': 128, 'Epochs': 40, 'MSE': 8.822088241577148}, {'Learning Rate': 0.01, 'Batch Size': 16, 'Hidden Nodes in Layer 1': 32, 'Hidden Nodes in Layer2': 32, 'Epochs': 60, 'MSE': 4.3269362449646}, {'Learning Rate': 0.01, 'Batch Size': 16, 'Hidden Nodes in Layer 1': 32, 'Hidden Nodes in Layer2': 64, 'Epochs': 60, 'MSE': 4.4700493812561035}, {'Learning Rate': 0.01, 'Batch Size': 16, 'Hidden Nodes in Layer 1': 32, 'Hidden Nodes in Layer2': 128, 'Epochs': 60, 'MSE': 5.044841289520264}, {'Learning Rate': 0.01, 'Batch Size': 16, 'Hidden Nodes in Layer 1': 64, 'Hidden Nodes in Layer2': 32, 'Epochs': 60, 'MSE': 4.41355562210083}, {'Learning Rate': 0.01, 'Batch Size': 16, 'Hidden Nodes in Layer 1': 64, 'Hidden Nodes in Layer2': 64, 'Epochs': 60, 'MSE': 4.524381637573242}, {'Learning Rate': 0.01, 'Batch Size': 16, 'Hidden Nodes in Layer 1': 64, 'Hidden Nodes in Layer2': 128, 'Epochs': 60, 'MSE': 4.4581074714660645}, {'Learning Rate': 0.01, 'Batch Size': 16, 'Hidden Nodes in Layer 1': 128, 'Hidden Nodes in Layer2': 32, 'Epochs': 60, 'MSE': 4.336658000946045}, {'Learning Rate': 0.01, 'Batch Size': 16, 'Hidden Nodes in Layer 1': 128, 'Hidden Nodes in Layer2': 64, 'Epochs': 60, 'MSE': 4.455992221832275}, {'Learning Rate': 0.01, 'Batch Size': 16, 'Hidden Nodes in Layer 1': 128, 'Hidden Nodes in Layer2': 128, 'Epochs': 60, 'MSE': 4.72027063369751}, {'Learning Rate': 0.01, 'Batch Size': 32, 'Hidden Nodes in Layer 1': 32, 'Hidden Nodes in Layer2': 32, 'Epochs': 60, 'MSE': 4.38148307800293}, {'Learning Rate': 0.01, 'Batch Size': 32, 'Hidden Nodes in Layer 1': 32, 'Hidden Nodes in Layer2': 64, 'Epochs': 60, 'MSE': 4.327290058135986}, {'Learning Rate': 0.01, 'Batch Size': 32, 'Hidden Nodes in Layer 1': 32, 'Hidden Nodes in Layer2': 128, 'Epochs': 60, 'MSE': 4.480031967163086}, {'Learning Rate': 0.01, 'Batch Size': 32, 'Hidden Nodes in Layer 1': 64, 'Hidden Nodes in Layer2': 32, 'Epochs': 60, 'MSE': 4.443378448486328}, {'Learning Rate': 0.01, 'Batch Size': 32, 'Hidden Nodes in Layer 1': 64, 'Hidden Nodes in Layer2': 64, 'Epochs': 60, 'MSE': 4.539478778839111}, {'Learning Rate': 0.01, 'Batch Size': 32, 'Hidden Nodes in Layer 1': 64, 'Hidden Nodes in Layer2': 128, 'Epochs': 60, 'MSE': 4.39180850982666}, {'Learning Rate': 0.01, 'Batch Size': 32, 'Hidden Nodes in Layer 1': 128, 'Hidden Nodes in Layer2': 32, 'Epochs': 60, 'MSE': 4.44147253036499}, {'Learning Rate': 0.01, 'Batch Size': 32, 'Hidden Nodes in Layer 1': 128, 'Hidden Nodes in Layer2': 64, 'Epochs': 60, 'MSE': 4.5207319259643555}, {'Learning Rate': 0.01, 'Batch Size': 32, 'Hidden Nodes in Layer 1': 128, 'Hidden Nodes in Layer2': 128, 'Epochs': 60, 'MSE': 5.436173439025879}, {'Learning Rate': 0.01, 'Batch Size': 64, 'Hidden Nodes in Layer 1': 32, 'Hidden Nodes in Layer2': 32, 'Epochs': 60, 'MSE': 5.03622579574585}, {'Learning Rate': 0.01, 'Batch Size': 64, 'Hidden Nodes in Layer 1': 32, 'Hidden Nodes in Layer2': 64, 'Epochs': 60, 'MSE': 4.454246520996094}, {'Learning Rate': 0.01, 'Batch Size': 64, 'Hidden Nodes in Layer 1': 32, 'Hidden Nodes in Layer2': 128, 'Epochs': 60, 'MSE': 4.777430534362793}, {'Learning Rate': 0.01, 'Batch Size': 64, 'Hidden Nodes in Layer 1': 64, 'Hidden Nodes in Layer2': 32, 'Epochs': 60, 'MSE': 4.531945705413818}, {'Learning Rate': 0.01, 'Batch Size': 64, 'Hidden Nodes in Layer 1': 64, 'Hidden Nodes in Layer2': 64, 'Epochs': 60, 'MSE': 4.601795673370361}, {'Learning Rate': 0.01, 'Batch Size': 64, 'Hidden Nodes in Layer 1': 64, 'Hidden Nodes in Layer2': 128, 'Epochs': 60, 'MSE': 4.742341995239258}, {'Learning Rate': 0.01, 'Batch Size': 64, 'Hidden Nodes in Layer 1': 128, 'Hidden Nodes in Layer2': 32, 'Epochs': 60, 'MSE': 5.1477227210998535}, {'Learning Rate': 0.01, 'Batch Size': 64, 'Hidden Nodes in Layer 1': 128, 'Hidden Nodes in Layer2': 64, 'Epochs': 60, 'MSE': 5.033541202545166}, {'Learning Rate': 0.01, 'Batch Size': 64, 'Hidden Nodes in Layer 1': 128, 'Hidden Nodes in Layer2': 128, 'Epochs': 60, 'MSE': 4.859984397888184}, {'Learning Rate': 0.01, 'Batch Size': 16, 'Hidden Nodes in Layer 1': 32, 'Hidden Nodes in Layer2': 32, 'Epochs': 80, 'MSE': 4.297072410583496}, {'Learning Rate': 0.01, 'Batch Size': 16, 'Hidden Nodes in Layer 1': 32, 'Hidden Nodes in Layer2': 64, 'Epochs': 80, 'MSE': 4.606474876403809}, {'Learning Rate': 0.01, 'Batch Size': 16, 'Hidden Nodes in Layer 1': 32, 'Hidden Nodes in Layer2': 128, 'Epochs': 80, 'MSE': 4.48961067199707}, {'Learning Rate': 0.01, 'Batch Size': 16, 'Hidden Nodes in Layer 1': 64, 'Hidden Nodes in Layer2': 32, 'Epochs': 80, 'MSE': 4.557606220245361}, {'Learning Rate': 0.01, 'Batch Size': 16, 'Hidden Nodes in Layer 1': 64, 'Hidden Nodes in Layer2': 64, 'Epochs': 80, 'MSE': 4.480508327484131}, {'Learning Rate': 0.01, 'Batch Size': 16, 'Hidden Nodes in Layer 1': 64, 'Hidden Nodes in Layer2': 128, 'Epochs': 80, 'MSE': 4.565829277038574}, {'Learning Rate': 0.01, 'Batch Size': 16, 'Hidden Nodes in Layer 1': 128, 'Hidden Nodes in Layer2': 32, 'Epochs': 80, 'MSE': 4.517750263214111}, {'Learning Rate': 0.01, 'Batch Size': 16, 'Hidden Nodes in Layer 1': 128, 'Hidden Nodes in Layer2': 64, 'Epochs': 80, 'MSE': 4.572774410247803}, {'Learning Rate': 0.01, 'Batch Size': 16, 'Hidden Nodes in Layer 1': 128, 'Hidden Nodes in Layer2': 128, 'Epochs': 80, 'MSE': 5.048460006713867}, {'Learning Rate': 0.01, 'Batch Size': 32, 'Hidden Nodes in Layer 1': 32, 'Hidden Nodes in Layer2': 32, 'Epochs': 80, 'MSE': 4.469235897064209}, {'Learning Rate': 0.01, 'Batch Size': 32, 'Hidden Nodes in Layer 1': 32, 'Hidden Nodes in Layer2': 64, 'Epochs': 80, 'MSE': 4.293335437774658}, {'Learning Rate': 0.01, 'Batch Size': 32, 'Hidden Nodes in Layer 1': 32, 'Hidden Nodes in Layer2': 128, 'Epochs': 80, 'MSE': 4.484523773193359}, {'Learning Rate': 0.01, 'Batch Size': 32, 'Hidden Nodes in Layer 1': 64, 'Hidden Nodes in Layer2': 32, 'Epochs': 80, 'MSE': 4.566615581512451}, {'Learning Rate': 0.01, 'Batch Size': 32, 'Hidden Nodes in Layer 1': 64, 'Hidden Nodes in Layer2': 64, 'Epochs': 80, 'MSE': 4.357063293457031}, {'Learning Rate': 0.01, 'Batch Size': 32, 'Hidden Nodes in Layer 1': 64, 'Hidden Nodes in Layer2': 128, 'Epochs': 80, 'MSE': 4.414347171783447}, {'Learning Rate': 0.01, 'Batch Size': 32, 'Hidden Nodes in Layer 1': 128, 'Hidden Nodes in Layer2': 32, 'Epochs': 80, 'MSE': 4.869494438171387}, {'Learning Rate': 0.01, 'Batch Size': 32, 'Hidden Nodes in Layer 1': 128, 'Hidden Nodes in Layer2': 64, 'Epochs': 80, 'MSE': 4.35162353515625}, {'Learning Rate': 0.01, 'Batch Size': 32, 'Hidden Nodes in Layer 1': 128, 'Hidden Nodes in Layer2': 128, 'Epochs': 80, 'MSE': 4.455859184265137}, {'Learning Rate': 0.01, 'Batch Size': 64, 'Hidden Nodes in Layer 1': 32, 'Hidden Nodes in Layer2': 32, 'Epochs': 80, 'MSE': 5.68289041519165}, {'Learning Rate': 0.01, 'Batch Size': 64, 'Hidden Nodes in Layer 1': 32, 'Hidden Nodes in Layer2': 64, 'Epochs': 80, 'MSE': 4.82480001449585}, {'Learning Rate': 0.01, 'Batch Size': 64, 'Hidden Nodes in Layer 1': 32, 'Hidden Nodes in Layer2': 128, 'Epochs': 80, 'MSE': 4.683913707733154}, {'Learning Rate': 0.01, 'Batch Size': 64, 'Hidden Nodes in Layer 1': 64, 'Hidden Nodes in Layer2': 32, 'Epochs': 80, 'MSE': 4.592184543609619}, {'Learning Rate': 0.01, 'Batch Size': 64, 'Hidden Nodes in Layer 1': 64, 'Hidden Nodes in Layer2': 64, 'Epochs': 80, 'MSE': 4.736116886138916}, {'Learning Rate': 0.01, 'Batch Size': 64, 'Hidden Nodes in Layer 1': 64, 'Hidden Nodes in Layer2': 128, 'Epochs': 80, 'MSE': 6.211753845214844}, {'Learning Rate': 0.01, 'Batch Size': 64, 'Hidden Nodes in Layer 1': 128, 'Hidden Nodes in Layer2': 32, 'Epochs': 80, 'MSE': 4.569706439971924}, {'Learning Rate': 0.01, 'Batch Size': 64, 'Hidden Nodes in Layer 1': 128, 'Hidden Nodes in Layer2': 64, 'Epochs': 80, 'MSE': 4.604678153991699}, {'Learning Rate': 0.01, 'Batch Size': 64, 'Hidden Nodes in Layer 1': 128, 'Hidden Nodes in Layer2': 128, 'Epochs': 80, 'MSE': 5.174877166748047}, {'Learning Rate': 0.01, 'Batch Size': 16, 'Hidden Nodes in Layer 1': 32, 'Hidden Nodes in Layer2': 32, 'Epochs': 100, 'MSE': 4.485200881958008}, {'Learning Rate': 0.01, 'Batch Size': 16, 'Hidden Nodes in Layer 1': 32, 'Hidden Nodes in Layer2': 64, 'Epochs': 100, 'MSE': 4.523336887359619}, {'Learning Rate': 0.01, 'Batch Size': 16, 'Hidden Nodes in Layer 1': 32, 'Hidden Nodes in Layer2': 128, 'Epochs': 100, 'MSE': 4.5782470703125}, {'Learning Rate': 0.01, 'Batch Size': 16, 'Hidden Nodes in Layer 1': 64, 'Hidden Nodes in Layer2': 32, 'Epochs': 100, 'MSE': 4.585835933685303}, {'Learning Rate': 0.01, 'Batch Size': 16, 'Hidden Nodes in Layer 1': 64, 'Hidden Nodes in Layer2': 64, 'Epochs': 100, 'MSE': 4.51509428024292}, {'Learning Rate': 0.01, 'Batch Size': 16, 'Hidden Nodes in Layer 1': 64, 'Hidden Nodes in Layer2': 128, 'Epochs': 100, 'MSE': 4.757792949676514}, {'Learning Rate': 0.01, 'Batch Size': 16, 'Hidden Nodes in Layer 1': 128, 'Hidden Nodes in Layer2': 32, 'Epochs': 100, 'MSE': 4.629019737243652}, {'Learning Rate': 0.01, 'Batch Size': 16, 'Hidden Nodes in Layer 1': 128, 'Hidden Nodes in Layer2': 64, 'Epochs': 100, 'MSE': 4.708187580108643}, {'Learning Rate': 0.01, 'Batch Size': 16, 'Hidden Nodes in Layer 1': 128, 'Hidden Nodes in Layer2': 128, 'Epochs': 100, 'MSE': 4.708687782287598}, {'Learning Rate': 0.01, 'Batch Size': 32, 'Hidden Nodes in Layer 1': 32, 'Hidden Nodes in Layer2': 32, 'Epochs': 100, 'MSE': 4.3629326820373535}, {'Learning Rate': 0.01, 'Batch Size': 32, 'Hidden Nodes in Layer 1': 32, 'Hidden Nodes in Layer2': 64, 'Epochs': 100, 'MSE': 4.782214641571045}, {'Learning Rate': 0.01, 'Batch Size': 32, 'Hidden Nodes in Layer 1': 32, 'Hidden Nodes in Layer2': 128, 'Epochs': 100, 'MSE': 4.392027378082275}, {'Learning Rate': 0.01, 'Batch Size': 32, 'Hidden Nodes in Layer 1': 64, 'Hidden Nodes in Layer2': 32, 'Epochs': 100, 'MSE': 4.383700370788574}, {'Learning Rate': 0.01, 'Batch Size': 32, 'Hidden Nodes in Layer 1': 64, 'Hidden Nodes in Layer2': 64, 'Epochs': 100, 'MSE': 4.435812473297119}, {'Learning Rate': 0.01, 'Batch Size': 32, 'Hidden Nodes in Layer 1': 64, 'Hidden Nodes in Layer2': 128, 'Epochs': 100, 'MSE': 4.456750869750977}, {'Learning Rate': 0.01, 'Batch Size': 32, 'Hidden Nodes in Layer 1': 128, 'Hidden Nodes in Layer2': 32, 'Epochs': 100, 'MSE': 4.540949821472168}, {'Learning Rate': 0.01, 'Batch Size': 32, 'Hidden Nodes in Layer 1': 128, 'Hidden Nodes in Layer2': 64, 'Epochs': 100, 'MSE': 4.5567522048950195}, {'Learning Rate': 0.01, 'Batch Size': 32, 'Hidden Nodes in Layer 1': 128, 'Hidden Nodes in Layer2': 128, 'Epochs': 100, 'MSE': 4.4204840660095215}, {'Learning Rate': 0.01, 'Batch Size': 64, 'Hidden Nodes in Layer 1': 32, 'Hidden Nodes in Layer2': 32, 'Epochs': 100, 'MSE': 4.68675422668457}, {'Learning Rate': 0.01, 'Batch Size': 64, 'Hidden Nodes in Layer 1': 32, 'Hidden Nodes in Layer2': 64, 'Epochs': 100, 'MSE': 4.416441917419434}, {'Learning Rate': 0.01, 'Batch Size': 64, 'Hidden Nodes in Layer 1': 32, 'Hidden Nodes in Layer2': 128, 'Epochs': 100, 'MSE': 4.387669563293457}, {'Learning Rate': 0.01, 'Batch Size': 64, 'Hidden Nodes in Layer 1': 64, 'Hidden Nodes in Layer2': 32, 'Epochs': 100, 'MSE': 4.903671741485596}, {'Learning Rate': 0.01, 'Batch Size': 64, 'Hidden Nodes in Layer 1': 64, 'Hidden Nodes in Layer2': 64, 'Epochs': 100, 'MSE': 4.507773399353027}, {'Learning Rate': 0.01, 'Batch Size': 64, 'Hidden Nodes in Layer 1': 64, 'Hidden Nodes in Layer2': 128, 'Epochs': 100, 'MSE': 4.505652904510498}, {'Learning Rate': 0.01, 'Batch Size': 64, 'Hidden Nodes in Layer 1': 128, 'Hidden Nodes in Layer2': 32, 'Epochs': 100, 'MSE': 4.340394973754883}, {'Learning Rate': 0.01, 'Batch Size': 64, 'Hidden Nodes in Layer 1': 128, 'Hidden Nodes in Layer2': 64, 'Epochs': 100, 'MSE': 4.5460734367370605}, {'Learning Rate': 0.01, 'Batch Size': 64, 'Hidden Nodes in Layer 1': 128, 'Hidden Nodes in Layer2': 128, 'Epochs': 100, 'MSE': 9.123443603515625}, {'Learning Rate': 0.01, 'Batch Size': 16, 'Hidden Nodes in Layer 1': 32, 'Hidden Nodes in Layer2': 32, 'Epochs': 125, 'MSE': 4.6982831954956055}, {'Learning Rate': 0.01, 'Batch Size': 16, 'Hidden Nodes in Layer 1': 32, 'Hidden Nodes in Layer2': 64, 'Epochs': 125, 'MSE': 4.864359378814697}, {'Learning Rate': 0.01, 'Batch Size': 16, 'Hidden Nodes in Layer 1': 32, 'Hidden Nodes in Layer2': 128, 'Epochs': 125, 'MSE': 4.687556743621826}, {'Learning Rate': 0.01, 'Batch Size': 16, 'Hidden Nodes in Layer 1': 64, 'Hidden Nodes in Layer2': 32, 'Epochs': 125, 'MSE': 4.562984943389893}, {'Learning Rate': 0.01, 'Batch Size': 16, 'Hidden Nodes in Layer 1': 64, 'Hidden Nodes in Layer2': 64, 'Epochs': 125, 'MSE': 5.3832807540893555}, {'Learning Rate': 0.01, 'Batch Size': 16, 'Hidden Nodes in Layer 1': 64, 'Hidden Nodes in Layer2': 128, 'Epochs': 125, 'MSE': 5.2109832763671875}, {'Learning Rate': 0.01, 'Batch Size': 16, 'Hidden Nodes in Layer 1': 128, 'Hidden Nodes in Layer2': 32, 'Epochs': 125, 'MSE': 4.573058605194092}, {'Learning Rate': 0.01, 'Batch Size': 16, 'Hidden Nodes in Layer 1': 128, 'Hidden Nodes in Layer2': 64, 'Epochs': 125, 'MSE': 4.82650899887085}, {'Learning Rate': 0.01, 'Batch Size': 16, 'Hidden Nodes in Layer 1': 128, 'Hidden Nodes in Layer2': 128, 'Epochs': 125, 'MSE': 5.293869495391846}, {'Learning Rate': 0.01, 'Batch Size': 32, 'Hidden Nodes in Layer 1': 32, 'Hidden Nodes in Layer2': 32, 'Epochs': 125, 'MSE': 5.092945575714111}, {'Learning Rate': 0.01, 'Batch Size': 32, 'Hidden Nodes in Layer 1': 32, 'Hidden Nodes in Layer2': 64, 'Epochs': 125, 'MSE': 4.721155643463135}, {'Learning Rate': 0.01, 'Batch Size': 32, 'Hidden Nodes in Layer 1': 32, 'Hidden Nodes in Layer2': 128, 'Epochs': 125, 'MSE': 4.745664119720459}, {'Learning Rate': 0.01, 'Batch Size': 32, 'Hidden Nodes in Layer 1': 64, 'Hidden Nodes in Layer2': 32, 'Epochs': 125, 'MSE': 4.5234808921813965}, {'Learning Rate': 0.01, 'Batch Size': 32, 'Hidden Nodes in Layer 1': 64, 'Hidden Nodes in Layer2': 64, 'Epochs': 125, 'MSE': 4.603302001953125}, {'Learning Rate': 0.01, 'Batch Size': 32, 'Hidden Nodes in Layer 1': 64, 'Hidden Nodes in Layer2': 128, 'Epochs': 125, 'MSE': 4.8341851234436035}, {'Learning Rate': 0.01, 'Batch Size': 32, 'Hidden Nodes in Layer 1': 128, 'Hidden Nodes in Layer2': 32, 'Epochs': 125, 'MSE': 4.453777313232422}, {'Learning Rate': 0.01, 'Batch Size': 32, 'Hidden Nodes in Layer 1': 128, 'Hidden Nodes in Layer2': 64, 'Epochs': 125, 'MSE': 4.494791030883789}, {'Learning Rate': 0.01, 'Batch Size': 32, 'Hidden Nodes in Layer 1': 128, 'Hidden Nodes in Layer2': 128, 'Epochs': 125, 'MSE': 4.641115188598633}, {'Learning Rate': 0.01, 'Batch Size': 64, 'Hidden Nodes in Layer 1': 32, 'Hidden Nodes in Layer2': 32, 'Epochs': 125, 'MSE': 5.219265937805176}, {'Learning Rate': 0.01, 'Batch Size': 64, 'Hidden Nodes in Layer 1': 32, 'Hidden Nodes in Layer2': 64, 'Epochs': 125, 'MSE': 4.626169204711914}, {'Learning Rate': 0.01, 'Batch Size': 64, 'Hidden Nodes in Layer 1': 32, 'Hidden Nodes in Layer2': 128, 'Epochs': 125, 'MSE': 4.712245464324951}, {'Learning Rate': 0.01, 'Batch Size': 64, 'Hidden Nodes in Layer 1': 64, 'Hidden Nodes in Layer2': 32, 'Epochs': 125, 'MSE': 4.463746547698975}, {'Learning Rate': 0.01, 'Batch Size': 64, 'Hidden Nodes in Layer 1': 64, 'Hidden Nodes in Layer2': 64, 'Epochs': 125, 'MSE': 4.459900379180908}, {'Learning Rate': 0.01, 'Batch Size': 64, 'Hidden Nodes in Layer 1': 64, 'Hidden Nodes in Layer2': 128, 'Epochs': 125, 'MSE': 4.607144355773926}, {'Learning Rate': 0.01, 'Batch Size': 64, 'Hidden Nodes in Layer 1': 128, 'Hidden Nodes in Layer2': 32, 'Epochs': 125, 'MSE': 6.208028316497803}, {'Learning Rate': 0.01, 'Batch Size': 64, 'Hidden Nodes in Layer 1': 128, 'Hidden Nodes in Layer2': 64, 'Epochs': 125, 'MSE': 6.337472915649414}, {'Learning Rate': 0.01, 'Batch Size': 64, 'Hidden Nodes in Layer 1': 128, 'Hidden Nodes in Layer2': 128, 'Epochs': 125, 'MSE': 4.402281761169434}, {'Learning Rate': 0.1, 'Batch Size': 16, 'Hidden Nodes in Layer 1': 32, 'Hidden Nodes in Layer2': 32, 'Epochs': 20, 'MSE': nan}, {'Learning Rate': 0.1, 'Batch Size': 16, 'Hidden Nodes in Layer 1': 32, 'Hidden Nodes in Layer2': 64, 'Epochs': 20, 'MSE': nan}, {'Learning Rate': 0.1, 'Batch Size': 16, 'Hidden Nodes in Layer 1': 32, 'Hidden Nodes in Layer2': 128, 'Epochs': 20, 'MSE': nan}, {'Learning Rate': 0.1, 'Batch Size': 16, 'Hidden Nodes in Layer 1': 64, 'Hidden Nodes in Layer2': 32, 'Epochs': 20, 'MSE': nan}, {'Learning Rate': 0.1, 'Batch Size': 16, 'Hidden Nodes in Layer 1': 64, 'Hidden Nodes in Layer2': 64, 'Epochs': 20, 'MSE': nan}, {'Learning Rate': 0.1, 'Batch Size': 16, 'Hidden Nodes in Layer 1': 64, 'Hidden Nodes in Layer2': 128, 'Epochs': 20, 'MSE': nan}, {'Learning Rate': 0.1, 'Batch Size': 16, 'Hidden Nodes in Layer 1': 128, 'Hidden Nodes in Layer2': 32, 'Epochs': 20, 'MSE': nan}, {'Learning Rate': 0.1, 'Batch Size': 16, 'Hidden Nodes in Layer 1': 128, 'Hidden Nodes in Layer2': 64, 'Epochs': 20, 'MSE': nan}, {'Learning Rate': 0.1, 'Batch Size': 16, 'Hidden Nodes in Layer 1': 128, 'Hidden Nodes in Layer2': 128, 'Epochs': 20, 'MSE': nan}, {'Learning Rate': 0.1, 'Batch Size': 32, 'Hidden Nodes in Layer 1': 32, 'Hidden Nodes in Layer2': 32, 'Epochs': 20, 'MSE': nan}, {'Learning Rate': 0.1, 'Batch Size': 32, 'Hidden Nodes in Layer 1': 32, 'Hidden Nodes in Layer2': 64, 'Epochs': 20, 'MSE': nan}, {'Learning Rate': 0.1, 'Batch Size': 32, 'Hidden Nodes in Layer 1': 32, 'Hidden Nodes in Layer2': 128, 'Epochs': 20, 'MSE': nan}, {'Learning Rate': 0.1, 'Batch Size': 32, 'Hidden Nodes in Layer 1': 64, 'Hidden Nodes in Layer2': 32, 'Epochs': 20, 'MSE': 10.82657527923584}, {'Learning Rate': 0.1, 'Batch Size': 32, 'Hidden Nodes in Layer 1': 64, 'Hidden Nodes in Layer2': 64, 'Epochs': 20, 'MSE': nan}, {'Learning Rate': 0.1, 'Batch Size': 32, 'Hidden Nodes in Layer 1': 64, 'Hidden Nodes in Layer2': 128, 'Epochs': 20, 'MSE': nan}, {'Learning Rate': 0.1, 'Batch Size': 32, 'Hidden Nodes in Layer 1': 128, 'Hidden Nodes in Layer2': 32, 'Epochs': 20, 'MSE': 10.826581001281738}, {'Learning Rate': 0.1, 'Batch Size': 32, 'Hidden Nodes in Layer 1': 128, 'Hidden Nodes in Layer2': 64, 'Epochs': 20, 'MSE': nan}, {'Learning Rate': 0.1, 'Batch Size': 32, 'Hidden Nodes in Layer 1': 128, 'Hidden Nodes in Layer2': 128, 'Epochs': 20, 'MSE': nan}, {'Learning Rate': 0.1, 'Batch Size': 64, 'Hidden Nodes in Layer 1': 32, 'Hidden Nodes in Layer2': 32, 'Epochs': 20, 'MSE': nan}, {'Learning Rate': 0.1, 'Batch Size': 64, 'Hidden Nodes in Layer 1': 32, 'Hidden Nodes in Layer2': 64, 'Epochs': 20, 'MSE': nan}, {'Learning Rate': 0.1, 'Batch Size': 64, 'Hidden Nodes in Layer 1': 32, 'Hidden Nodes in Layer2': 128, 'Epochs': 20, 'MSE': nan}, {'Learning Rate': 0.1, 'Batch Size': 64, 'Hidden Nodes in Layer 1': 64, 'Hidden Nodes in Layer2': 32, 'Epochs': 20, 'MSE': 10.8566312789917}, {'Learning Rate': 0.1, 'Batch Size': 64, 'Hidden Nodes in Layer 1': 64, 'Hidden Nodes in Layer2': 64, 'Epochs': 20, 'MSE': nan}, {'Learning Rate': 0.1, 'Batch Size': 64, 'Hidden Nodes in Layer 1': 64, 'Hidden Nodes in Layer2': 128, 'Epochs': 20, 'MSE': nan}, {'Learning Rate': 0.1, 'Batch Size': 64, 'Hidden Nodes in Layer 1': 128, 'Hidden Nodes in Layer2': 32, 'Epochs': 20, 'MSE': 10.874879837036133}, {'Learning Rate': 0.1, 'Batch Size': 64, 'Hidden Nodes in Layer 1': 128, 'Hidden Nodes in Layer2': 64, 'Epochs': 20, 'MSE': nan}, {'Learning Rate': 0.1, 'Batch Size': 64, 'Hidden Nodes in Layer 1': 128, 'Hidden Nodes in Layer2': 128, 'Epochs': 20, 'MSE': nan}, {'Learning Rate': 0.1, 'Batch Size': 16, 'Hidden Nodes in Layer 1': 32, 'Hidden Nodes in Layer2': 32, 'Epochs': 40, 'MSE': 11.064851760864258}, {'Learning Rate': 0.1, 'Batch Size': 16, 'Hidden Nodes in Layer 1': 32, 'Hidden Nodes in Layer2': 64, 'Epochs': 40, 'MSE': nan}, {'Learning Rate': 0.1, 'Batch Size': 16, 'Hidden Nodes in Layer 1': 32, 'Hidden Nodes in Layer2': 128, 'Epochs': 40, 'MSE': nan}, {'Learning Rate': 0.1, 'Batch Size': 16, 'Hidden Nodes in Layer 1': 64, 'Hidden Nodes in Layer2': 32, 'Epochs': 40, 'MSE': nan}, {'Learning Rate': 0.1, 'Batch Size': 16, 'Hidden Nodes in Layer 1': 64, 'Hidden Nodes in Layer2': 64, 'Epochs': 40, 'MSE': nan}, {'Learning Rate': 0.1, 'Batch Size': 16, 'Hidden Nodes in Layer 1': 64, 'Hidden Nodes in Layer2': 128, 'Epochs': 40, 'MSE': nan}, {'Learning Rate': 0.1, 'Batch Size': 16, 'Hidden Nodes in Layer 1': 128, 'Hidden Nodes in Layer2': 32, 'Epochs': 40, 'MSE': 10.935782432556152}, {'Learning Rate': 0.1, 'Batch Size': 16, 'Hidden Nodes in Layer 1': 128, 'Hidden Nodes in Layer2': 64, 'Epochs': 40, 'MSE': nan}, {'Learning Rate': 0.1, 'Batch Size': 16, 'Hidden Nodes in Layer 1': 128, 'Hidden Nodes in Layer2': 128, 'Epochs': 40, 'MSE': nan}, {'Learning Rate': 0.1, 'Batch Size': 32, 'Hidden Nodes in Layer 1': 32, 'Hidden Nodes in Layer2': 32, 'Epochs': 40, 'MSE': nan}, {'Learning Rate': 0.1, 'Batch Size': 32, 'Hidden Nodes in Layer 1': 32, 'Hidden Nodes in Layer2': 64, 'Epochs': 40, 'MSE': nan}, {'Learning Rate': 0.1, 'Batch Size': 32, 'Hidden Nodes in Layer 1': 32, 'Hidden Nodes in Layer2': 128, 'Epochs': 40, 'MSE': nan}, {'Learning Rate': 0.1, 'Batch Size': 32, 'Hidden Nodes in Layer 1': 64, 'Hidden Nodes in Layer2': 32, 'Epochs': 40, 'MSE': nan}, {'Learning Rate': 0.1, 'Batch Size': 32, 'Hidden Nodes in Layer 1': 64, 'Hidden Nodes in Layer2': 64, 'Epochs': 40, 'MSE': nan}, {'Learning Rate': 0.1, 'Batch Size': 32, 'Hidden Nodes in Layer 1': 64, 'Hidden Nodes in Layer2': 128, 'Epochs': 40, 'MSE': nan}, {'Learning Rate': 0.1, 'Batch Size': 32, 'Hidden Nodes in Layer 1': 128, 'Hidden Nodes in Layer2': 32, 'Epochs': 40, 'MSE': 10.827856063842773}, {'Learning Rate': 0.1, 'Batch Size': 32, 'Hidden Nodes in Layer 1': 128, 'Hidden Nodes in Layer2': 64, 'Epochs': 40, 'MSE': nan}, {'Learning Rate': 0.1, 'Batch Size': 32, 'Hidden Nodes in Layer 1': 128, 'Hidden Nodes in Layer2': 128, 'Epochs': 40, 'MSE': nan}, {'Learning Rate': 0.1, 'Batch Size': 64, 'Hidden Nodes in Layer 1': 32, 'Hidden Nodes in Layer2': 32, 'Epochs': 40, 'MSE': nan}, {'Learning Rate': 0.1, 'Batch Size': 64, 'Hidden Nodes in Layer 1': 32, 'Hidden Nodes in Layer2': 64, 'Epochs': 40, 'MSE': nan}, {'Learning Rate': 0.1, 'Batch Size': 64, 'Hidden Nodes in Layer 1': 32, 'Hidden Nodes in Layer2': 128, 'Epochs': 40, 'MSE': nan}, {'Learning Rate': 0.1, 'Batch Size': 64, 'Hidden Nodes in Layer 1': 64, 'Hidden Nodes in Layer2': 32, 'Epochs': 40, 'MSE': nan}, {'Learning Rate': 0.1, 'Batch Size': 64, 'Hidden Nodes in Layer 1': 64, 'Hidden Nodes in Layer2': 64, 'Epochs': 40, 'MSE': nan}, {'Learning Rate': 0.1, 'Batch Size': 64, 'Hidden Nodes in Layer 1': 64, 'Hidden Nodes in Layer2': 128, 'Epochs': 40, 'MSE': nan}, {'Learning Rate': 0.1, 'Batch Size': 64, 'Hidden Nodes in Layer 1': 128, 'Hidden Nodes in Layer2': 32, 'Epochs': 40, 'MSE': nan}, {'Learning Rate': 0.1, 'Batch Size': 64, 'Hidden Nodes in Layer 1': 128, 'Hidden Nodes in Layer2': 64, 'Epochs': 40, 'MSE': nan}, {'Learning Rate': 0.1, 'Batch Size': 64, 'Hidden Nodes in Layer 1': 128, 'Hidden Nodes in Layer2': 128, 'Epochs': 40, 'MSE': nan}, {'Learning Rate': 0.1, 'Batch Size': 16, 'Hidden Nodes in Layer 1': 32, 'Hidden Nodes in Layer2': 32, 'Epochs': 60, 'MSE': nan}, {'Learning Rate': 0.1, 'Batch Size': 16, 'Hidden Nodes in Layer 1': 32, 'Hidden Nodes in Layer2': 64, 'Epochs': 60, 'MSE': nan}, {'Learning Rate': 0.1, 'Batch Size': 16, 'Hidden Nodes in Layer 1': 32, 'Hidden Nodes in Layer2': 128, 'Epochs': 60, 'MSE': nan}, {'Learning Rate': 0.1, 'Batch Size': 16, 'Hidden Nodes in Layer 1': 64, 'Hidden Nodes in Layer2': 32, 'Epochs': 60, 'MSE': nan}, {'Learning Rate': 0.1, 'Batch Size': 16, 'Hidden Nodes in Layer 1': 64, 'Hidden Nodes in Layer2': 64, 'Epochs': 60, 'MSE': nan}, {'Learning Rate': 0.1, 'Batch Size': 16, 'Hidden Nodes in Layer 1': 64, 'Hidden Nodes in Layer2': 128, 'Epochs': 60, 'MSE': nan}, {'Learning Rate': 0.1, 'Batch Size': 16, 'Hidden Nodes in Layer 1': 128, 'Hidden Nodes in Layer2': 32, 'Epochs': 60, 'MSE': nan}, {'Learning Rate': 0.1, 'Batch Size': 16, 'Hidden Nodes in Layer 1': 128, 'Hidden Nodes in Layer2': 64, 'Epochs': 60, 'MSE': nan}, {'Learning Rate': 0.1, 'Batch Size': 16, 'Hidden Nodes in Layer 1': 128, 'Hidden Nodes in Layer2': 128, 'Epochs': 60, 'MSE': nan}, {'Learning Rate': 0.1, 'Batch Size': 32, 'Hidden Nodes in Layer 1': 32, 'Hidden Nodes in Layer2': 32, 'Epochs': 60, 'MSE': nan}, {'Learning Rate': 0.1, 'Batch Size': 32, 'Hidden Nodes in Layer 1': 32, 'Hidden Nodes in Layer2': 64, 'Epochs': 60, 'MSE': nan}, {'Learning Rate': 0.1, 'Batch Size': 32, 'Hidden Nodes in Layer 1': 32, 'Hidden Nodes in Layer2': 128, 'Epochs': 60, 'MSE': nan}, {'Learning Rate': 0.1, 'Batch Size': 32, 'Hidden Nodes in Layer 1': 64, 'Hidden Nodes in Layer2': 32, 'Epochs': 60, 'MSE': 10.964672088623047}, {'Learning Rate': 0.1, 'Batch Size': 32, 'Hidden Nodes in Layer 1': 64, 'Hidden Nodes in Layer2': 64, 'Epochs': 60, 'MSE': nan}, {'Learning Rate': 0.1, 'Batch Size': 32, 'Hidden Nodes in Layer 1': 64, 'Hidden Nodes in Layer2': 128, 'Epochs': 60, 'MSE': nan}, {'Learning Rate': 0.1, 'Batch Size': 32, 'Hidden Nodes in Layer 1': 128, 'Hidden Nodes in Layer2': 32, 'Epochs': 60, 'MSE': nan}, {'Learning Rate': 0.1, 'Batch Size': 32, 'Hidden Nodes in Layer 1': 128, 'Hidden Nodes in Layer2': 64, 'Epochs': 60, 'MSE': nan}, {'Learning Rate': 0.1, 'Batch Size': 32, 'Hidden Nodes in Layer 1': 128, 'Hidden Nodes in Layer2': 128, 'Epochs': 60, 'MSE': nan}, {'Learning Rate': 0.1, 'Batch Size': 64, 'Hidden Nodes in Layer 1': 32, 'Hidden Nodes in Layer2': 32, 'Epochs': 60, 'MSE': nan}, {'Learning Rate': 0.1, 'Batch Size': 64, 'Hidden Nodes in Layer 1': 32, 'Hidden Nodes in Layer2': 64, 'Epochs': 60, 'MSE': nan}, {'Learning Rate': 0.1, 'Batch Size': 64, 'Hidden Nodes in Layer 1': 32, 'Hidden Nodes in Layer2': 128, 'Epochs': 60, 'MSE': nan}, {'Learning Rate': 0.1, 'Batch Size': 64, 'Hidden Nodes in Layer 1': 64, 'Hidden Nodes in Layer2': 32, 'Epochs': 60, 'MSE': nan}, {'Learning Rate': 0.1, 'Batch Size': 64, 'Hidden Nodes in Layer 1': 64, 'Hidden Nodes in Layer2': 64, 'Epochs': 60, 'MSE': nan}, {'Learning Rate': 0.1, 'Batch Size': 64, 'Hidden Nodes in Layer 1': 64, 'Hidden Nodes in Layer2': 128, 'Epochs': 60, 'MSE': nan}, {'Learning Rate': 0.1, 'Batch Size': 64, 'Hidden Nodes in Layer 1': 128, 'Hidden Nodes in Layer2': 32, 'Epochs': 60, 'MSE': 10.85323429107666}, {'Learning Rate': 0.1, 'Batch Size': 64, 'Hidden Nodes in Layer 1': 128, 'Hidden Nodes in Layer2': 64, 'Epochs': 60, 'MSE': nan}, {'Learning Rate': 0.1, 'Batch Size': 64, 'Hidden Nodes in Layer 1': 128, 'Hidden Nodes in Layer2': 128, 'Epochs': 60, 'MSE': nan}, {'Learning Rate': 0.1, 'Batch Size': 16, 'Hidden Nodes in Layer 1': 32, 'Hidden Nodes in Layer2': 32, 'Epochs': 80, 'MSE': nan}, {'Learning Rate': 0.1, 'Batch Size': 16, 'Hidden Nodes in Layer 1': 32, 'Hidden Nodes in Layer2': 64, 'Epochs': 80, 'MSE': nan}, {'Learning Rate': 0.1, 'Batch Size': 16, 'Hidden Nodes in Layer 1': 32, 'Hidden Nodes in Layer2': 128, 'Epochs': 80, 'MSE': nan}, {'Learning Rate': 0.1, 'Batch Size': 16, 'Hidden Nodes in Layer 1': 64, 'Hidden Nodes in Layer2': 32, 'Epochs': 80, 'MSE': nan}, {'Learning Rate': 0.1, 'Batch Size': 16, 'Hidden Nodes in Layer 1': 64, 'Hidden Nodes in Layer2': 64, 'Epochs': 80, 'MSE': nan}, {'Learning Rate': 0.1, 'Batch Size': 16, 'Hidden Nodes in Layer 1': 64, 'Hidden Nodes in Layer2': 128, 'Epochs': 80, 'MSE': nan}, {'Learning Rate': 0.1, 'Batch Size': 16, 'Hidden Nodes in Layer 1': 128, 'Hidden Nodes in Layer2': 32, 'Epochs': 80, 'MSE': nan}, {'Learning Rate': 0.1, 'Batch Size': 16, 'Hidden Nodes in Layer 1': 128, 'Hidden Nodes in Layer2': 64, 'Epochs': 80, 'MSE': nan}, {'Learning Rate': 0.1, 'Batch Size': 16, 'Hidden Nodes in Layer 1': 128, 'Hidden Nodes in Layer2': 128, 'Epochs': 80, 'MSE': nan}, {'Learning Rate': 0.1, 'Batch Size': 32, 'Hidden Nodes in Layer 1': 32, 'Hidden Nodes in Layer2': 32, 'Epochs': 80, 'MSE': nan}, {'Learning Rate': 0.1, 'Batch Size': 32, 'Hidden Nodes in Layer 1': 32, 'Hidden Nodes in Layer2': 64, 'Epochs': 80, 'MSE': nan}, {'Learning Rate': 0.1, 'Batch Size': 32, 'Hidden Nodes in Layer 1': 32, 'Hidden Nodes in Layer2': 128, 'Epochs': 80, 'MSE': nan}, {'Learning Rate': 0.1, 'Batch Size': 32, 'Hidden Nodes in Layer 1': 64, 'Hidden Nodes in Layer2': 32, 'Epochs': 80, 'MSE': nan}, {'Learning Rate': 0.1, 'Batch Size': 32, 'Hidden Nodes in Layer 1': 64, 'Hidden Nodes in Layer2': 64, 'Epochs': 80, 'MSE': nan}, {'Learning Rate': 0.1, 'Batch Size': 32, 'Hidden Nodes in Layer 1': 64, 'Hidden Nodes in Layer2': 128, 'Epochs': 80, 'MSE': nan}, {'Learning Rate': 0.1, 'Batch Size': 32, 'Hidden Nodes in Layer 1': 128, 'Hidden Nodes in Layer2': 32, 'Epochs': 80, 'MSE': nan}, {'Learning Rate': 0.1, 'Batch Size': 32, 'Hidden Nodes in Layer 1': 128, 'Hidden Nodes in Layer2': 64, 'Epochs': 80, 'MSE': nan}, {'Learning Rate': 0.1, 'Batch Size': 32, 'Hidden Nodes in Layer 1': 128, 'Hidden Nodes in Layer2': 128, 'Epochs': 80, 'MSE': nan}, {'Learning Rate': 0.1, 'Batch Size': 64, 'Hidden Nodes in Layer 1': 32, 'Hidden Nodes in Layer2': 32, 'Epochs': 80, 'MSE': 10.872572898864746}, {'Learning Rate': 0.1, 'Batch Size': 64, 'Hidden Nodes in Layer 1': 32, 'Hidden Nodes in Layer2': 64, 'Epochs': 80, 'MSE': nan}, {'Learning Rate': 0.1, 'Batch Size': 64, 'Hidden Nodes in Layer 1': 32, 'Hidden Nodes in Layer2': 128, 'Epochs': 80, 'MSE': nan}, {'Learning Rate': 0.1, 'Batch Size': 64, 'Hidden Nodes in Layer 1': 64, 'Hidden Nodes in Layer2': 32, 'Epochs': 80, 'MSE': nan}, {'Learning Rate': 0.1, 'Batch Size': 64, 'Hidden Nodes in Layer 1': 64, 'Hidden Nodes in Layer2': 64, 'Epochs': 80, 'MSE': nan}, {'Learning Rate': 0.1, 'Batch Size': 64, 'Hidden Nodes in Layer 1': 64, 'Hidden Nodes in Layer2': 128, 'Epochs': 80, 'MSE': nan}, {'Learning Rate': 0.1, 'Batch Size': 64, 'Hidden Nodes in Layer 1': 128, 'Hidden Nodes in Layer2': 32, 'Epochs': 80, 'MSE': 6.722595691680908}, {'Learning Rate': 0.1, 'Batch Size': 64, 'Hidden Nodes in Layer 1': 128, 'Hidden Nodes in Layer2': 64, 'Epochs': 80, 'MSE': nan}, {'Learning Rate': 0.1, 'Batch Size': 64, 'Hidden Nodes in Layer 1': 128, 'Hidden Nodes in Layer2': 128, 'Epochs': 80, 'MSE': nan}, {'Learning Rate': 0.1, 'Batch Size': 16, 'Hidden Nodes in Layer 1': 32, 'Hidden Nodes in Layer2': 32, 'Epochs': 100, 'MSE': nan}, {'Learning Rate': 0.1, 'Batch Size': 16, 'Hidden Nodes in Layer 1': 32, 'Hidden Nodes in Layer2': 64, 'Epochs': 100, 'MSE': nan}, {'Learning Rate': 0.1, 'Batch Size': 16, 'Hidden Nodes in Layer 1': 32, 'Hidden Nodes in Layer2': 128, 'Epochs': 100, 'MSE': nan}, {'Learning Rate': 0.1, 'Batch Size': 16, 'Hidden Nodes in Layer 1': 64, 'Hidden Nodes in Layer2': 32, 'Epochs': 100, 'MSE': nan}, {'Learning Rate': 0.1, 'Batch Size': 16, 'Hidden Nodes in Layer 1': 64, 'Hidden Nodes in Layer2': 64, 'Epochs': 100, 'MSE': nan}, {'Learning Rate': 0.1, 'Batch Size': 16, 'Hidden Nodes in Layer 1': 64, 'Hidden Nodes in Layer2': 128, 'Epochs': 100, 'MSE': nan}, {'Learning Rate': 0.1, 'Batch Size': 16, 'Hidden Nodes in Layer 1': 128, 'Hidden Nodes in Layer2': 32, 'Epochs': 100, 'MSE': nan}, {'Learning Rate': 0.1, 'Batch Size': 16, 'Hidden Nodes in Layer 1': 128, 'Hidden Nodes in Layer2': 64, 'Epochs': 100, 'MSE': nan}, {'Learning Rate': 0.1, 'Batch Size': 16, 'Hidden Nodes in Layer 1': 128, 'Hidden Nodes in Layer2': 128, 'Epochs': 100, 'MSE': nan}, {'Learning Rate': 0.1, 'Batch Size': 32, 'Hidden Nodes in Layer 1': 32, 'Hidden Nodes in Layer2': 32, 'Epochs': 100, 'MSE': nan}, {'Learning Rate': 0.1, 'Batch Size': 32, 'Hidden Nodes in Layer 1': 32, 'Hidden Nodes in Layer2': 64, 'Epochs': 100, 'MSE': nan}, {'Learning Rate': 0.1, 'Batch Size': 32, 'Hidden Nodes in Layer 1': 32, 'Hidden Nodes in Layer2': 128, 'Epochs': 100, 'MSE': nan}, {'Learning Rate': 0.1, 'Batch Size': 32, 'Hidden Nodes in Layer 1': 64, 'Hidden Nodes in Layer2': 32, 'Epochs': 100, 'MSE': nan}, {'Learning Rate': 0.1, 'Batch Size': 32, 'Hidden Nodes in Layer 1': 64, 'Hidden Nodes in Layer2': 64, 'Epochs': 100, 'MSE': nan}, {'Learning Rate': 0.1, 'Batch Size': 32, 'Hidden Nodes in Layer 1': 64, 'Hidden Nodes in Layer2': 128, 'Epochs': 100, 'MSE': nan}, {'Learning Rate': 0.1, 'Batch Size': 32, 'Hidden Nodes in Layer 1': 128, 'Hidden Nodes in Layer2': 32, 'Epochs': 100, 'MSE': nan}, {'Learning Rate': 0.1, 'Batch Size': 32, 'Hidden Nodes in Layer 1': 128, 'Hidden Nodes in Layer2': 64, 'Epochs': 100, 'MSE': nan}, {'Learning Rate': 0.1, 'Batch Size': 32, 'Hidden Nodes in Layer 1': 128, 'Hidden Nodes in Layer2': 128, 'Epochs': 100, 'MSE': nan}, {'Learning Rate': 0.1, 'Batch Size': 64, 'Hidden Nodes in Layer 1': 32, 'Hidden Nodes in Layer2': 32, 'Epochs': 100, 'MSE': nan}, {'Learning Rate': 0.1, 'Batch Size': 64, 'Hidden Nodes in Layer 1': 32, 'Hidden Nodes in Layer2': 64, 'Epochs': 100, 'MSE': 10.889029502868652}, {'Learning Rate': 0.1, 'Batch Size': 64, 'Hidden Nodes in Layer 1': 32, 'Hidden Nodes in Layer2': 128, 'Epochs': 100, 'MSE': nan}, {'Learning Rate': 0.1, 'Batch Size': 64, 'Hidden Nodes in Layer 1': 64, 'Hidden Nodes in Layer2': 32, 'Epochs': 100, 'MSE': nan}, {'Learning Rate': 0.1, 'Batch Size': 64, 'Hidden Nodes in Layer 1': 64, 'Hidden Nodes in Layer2': 64, 'Epochs': 100, 'MSE': nan}, {'Learning Rate': 0.1, 'Batch Size': 64, 'Hidden Nodes in Layer 1': 64, 'Hidden Nodes in Layer2': 128, 'Epochs': 100, 'MSE': nan}, {'Learning Rate': 0.1, 'Batch Size': 64, 'Hidden Nodes in Layer 1': 128, 'Hidden Nodes in Layer2': 32, 'Epochs': 100, 'MSE': 10.829731941223145}, {'Learning Rate': 0.1, 'Batch Size': 64, 'Hidden Nodes in Layer 1': 128, 'Hidden Nodes in Layer2': 64, 'Epochs': 100, 'MSE': 5.586810111999512}, {'Learning Rate': 0.1, 'Batch Size': 64, 'Hidden Nodes in Layer 1': 128, 'Hidden Nodes in Layer2': 128, 'Epochs': 100, 'MSE': nan}, {'Learning Rate': 0.1, 'Batch Size': 16, 'Hidden Nodes in Layer 1': 32, 'Hidden Nodes in Layer2': 32, 'Epochs': 125, 'MSE': 11.073765754699707}, {'Learning Rate': 0.1, 'Batch Size': 16, 'Hidden Nodes in Layer 1': 32, 'Hidden Nodes in Layer2': 64, 'Epochs': 125, 'MSE': nan}, {'Learning Rate': 0.1, 'Batch Size': 16, 'Hidden Nodes in Layer 1': 32, 'Hidden Nodes in Layer2': 128, 'Epochs': 125, 'MSE': nan}, {'Learning Rate': 0.1, 'Batch Size': 16, 'Hidden Nodes in Layer 1': 64, 'Hidden Nodes in Layer2': 32, 'Epochs': 125, 'MSE': nan}, {'Learning Rate': 0.1, 'Batch Size': 16, 'Hidden Nodes in Layer 1': 64, 'Hidden Nodes in Layer2': 64, 'Epochs': 125, 'MSE': nan}, {'Learning Rate': 0.1, 'Batch Size': 16, 'Hidden Nodes in Layer 1': 64, 'Hidden Nodes in Layer2': 128, 'Epochs': 125, 'MSE': nan}, {'Learning Rate': 0.1, 'Batch Size': 16, 'Hidden Nodes in Layer 1': 128, 'Hidden Nodes in Layer2': 32, 'Epochs': 125, 'MSE': 10.959425926208496}, {'Learning Rate': 0.1, 'Batch Size': 16, 'Hidden Nodes in Layer 1': 128, 'Hidden Nodes in Layer2': 64, 'Epochs': 125, 'MSE': nan}, {'Learning Rate': 0.1, 'Batch Size': 16, 'Hidden Nodes in Layer 1': 128, 'Hidden Nodes in Layer2': 128, 'Epochs': 125, 'MSE': nan}, {'Learning Rate': 0.1, 'Batch Size': 32, 'Hidden Nodes in Layer 1': 32, 'Hidden Nodes in Layer2': 32, 'Epochs': 125, 'MSE': nan}, {'Learning Rate': 0.1, 'Batch Size': 32, 'Hidden Nodes in Layer 1': 32, 'Hidden Nodes in Layer2': 64, 'Epochs': 125, 'MSE': nan}, {'Learning Rate': 0.1, 'Batch Size': 32, 'Hidden Nodes in Layer 1': 32, 'Hidden Nodes in Layer2': 128, 'Epochs': 125, 'MSE': nan}, {'Learning Rate': 0.1, 'Batch Size': 32, 'Hidden Nodes in Layer 1': 64, 'Hidden Nodes in Layer2': 32, 'Epochs': 125, 'MSE': nan}, {'Learning Rate': 0.1, 'Batch Size': 32, 'Hidden Nodes in Layer 1': 64, 'Hidden Nodes in Layer2': 64, 'Epochs': 125, 'MSE': nan}, {'Learning Rate': 0.1, 'Batch Size': 32, 'Hidden Nodes in Layer 1': 64, 'Hidden Nodes in Layer2': 128, 'Epochs': 125, 'MSE': nan}, {'Learning Rate': 0.1, 'Batch Size': 32, 'Hidden Nodes in Layer 1': 128, 'Hidden Nodes in Layer2': 32, 'Epochs': 125, 'MSE': 10.829038619995117}, {'Learning Rate': 0.1, 'Batch Size': 32, 'Hidden Nodes in Layer 1': 128, 'Hidden Nodes in Layer2': 64, 'Epochs': 125, 'MSE': nan}, {'Learning Rate': 0.1, 'Batch Size': 32, 'Hidden Nodes in Layer 1': 128, 'Hidden Nodes in Layer2': 128, 'Epochs': 125, 'MSE': nan}, {'Learning Rate': 0.1, 'Batch Size': 64, 'Hidden Nodes in Layer 1': 32, 'Hidden Nodes in Layer2': 32, 'Epochs': 125, 'MSE': nan}, {'Learning Rate': 0.1, 'Batch Size': 64, 'Hidden Nodes in Layer 1': 32, 'Hidden Nodes in Layer2': 64, 'Epochs': 125, 'MSE': nan}, {'Learning Rate': 0.1, 'Batch Size': 64, 'Hidden Nodes in Layer 1': 32, 'Hidden Nodes in Layer2': 128, 'Epochs': 125, 'MSE': nan}, {'Learning Rate': 0.1, 'Batch Size': 64, 'Hidden Nodes in Layer 1': 64, 'Hidden Nodes in Layer2': 32, 'Epochs': 125, 'MSE': nan}, {'Learning Rate': 0.1, 'Batch Size': 64, 'Hidden Nodes in Layer 1': 64, 'Hidden Nodes in Layer2': 64, 'Epochs': 125, 'MSE': nan}, {'Learning Rate': 0.1, 'Batch Size': 64, 'Hidden Nodes in Layer 1': 64, 'Hidden Nodes in Layer2': 128, 'Epochs': 125, 'MSE': nan}, {'Learning Rate': 0.1, 'Batch Size': 64, 'Hidden Nodes in Layer 1': 128, 'Hidden Nodes in Layer2': 32, 'Epochs': 125, 'MSE': 8.148883819580078}, {'Learning Rate': 0.1, 'Batch Size': 64, 'Hidden Nodes in Layer 1': 128, 'Hidden Nodes in Layer2': 64, 'Epochs': 125, 'MSE': nan}, {'Learning Rate': 0.1, 'Batch Size': 64, 'Hidden Nodes in Layer 1': 128, 'Hidden Nodes in Layer2': 128, 'Epochs': 125, 'MSE': nan}]\n"
          ]
        }
      ],
      "source": [
        "print(result_lr)"
      ]
    },
    {
      "cell_type": "code",
      "execution_count": 12,
      "metadata": {
        "id": "8hEr-9n0lN3F"
      },
      "outputs": [],
      "source": [
        "results_df = pd.DataFrame(result_lr)\n",
        "\n",
        "# Save the DataFrame to a CSV file\n",
        "results_df.to_csv('All_results.csv', index=False)\n"
      ]
    },
    {
      "cell_type": "code",
      "execution_count": 16,
      "metadata": {
        "colab": {
          "base_uri": "https://localhost:8080/"
        },
        "id": "YutmbrwruhDI",
        "outputId": "a9658ef4-7f38-4ec4-e9a6-c0ddc3bd2e80"
      },
      "outputs": [
        {
          "name": "stdout",
          "output_type": "stream",
          "text": [
            "Best results\n",
            "     Learning Rate  Batch Size  Hidden Nodes in Layer 1  \\\n",
            "253          0.010          32                       32   \n",
            "243          0.010          16                       32   \n",
            "136          0.001          16                       32   \n",
            "216          0.010          16                       32   \n",
            "226          0.010          32                       32   \n",
            "\n",
            "     Hidden Nodes in Layer2  Epochs       MSE  \n",
            "253                      64      80  4.293335  \n",
            "243                      32      80  4.297072  \n",
            "136                      64     125  4.325491  \n",
            "216                      32      60  4.326936  \n",
            "226                      64      60  4.327290  \n"
          ]
        }
      ],
      "source": [
        "top_10_lowest_mse = results_df.nsmallest(5, 'MSE')\n",
        "print(\"Best results\")\n",
        "print(top_10_lowest_mse)\n",
        "# Top 10 rows with highest 'MSE'\n",
        "top_10_highest_mse = results_df.nlargest(10, 'MSE')\n"
      ]
    },
    {
      "cell_type": "markdown",
      "metadata": {
        "id": "Pd0f_QWPlJyT"
      },
      "source": [
        "##TASK 7\n",
        "### Guiding through the hyper parameters\n",
        "For this we changed various hyper params simultaneously, ie No. of epochs, learning rate, batch size, the number of hidden nodes in a layer.\n",
        "\n",
        "The detailed results can be downloaded from All_results.csv file or results_lr.\n",
        "To explain in brief-\n",
        "Optimizer- SGD\n",
        "1. Learning rate- 0.1 was too high and gave really high loss, 0.01 was a ideal number\n",
        "2. Number of epochs- Around 80 lead to best results, after that there seems to be overfitting for 0.01 lr\n",
        "3. Batch size- 32 or 64, lower batch size led to underfitting\n",
        "4. No. of nodes in a layer- Since we had 2 hidden layers, we tried different combinations\n",
        "Having (32,64) ked to best results... Lower values led to UNDERFITTING"
      ]
    },
    {
      "cell_type": "markdown",
      "metadata": {
        "id": "sRWN0clOwuwD"
      },
      "source": [
        "###TASK 8\n",
        "##Part 1\n",
        "###Changing no. of hidden layers in hyper params\n",
        "\n",
        "##Part 2\n",
        "###Using ‘Adagrad’ as optimizer for the model"
      ]
    },
    {
      "cell_type": "code",
      "execution_count": null,
      "metadata": {
        "id": "naJsdP8_j2Kt"
      },
      "outputs": [],
      "source": [
        "#SGD TO ADAGRAD\n",
        "import torch.optim as optim\n",
        "import pandas as pd\n",
        "\n",
        "learning_rates = [0.01, 0.1]\n",
        "batch_sizes = [32]\n",
        "hidden_nodes1 = [32]\n",
        "hidden_nodes2= [32,64]\n",
        "# hidden_layers = [1, 2, 3]\n",
        "epoch_sizes=[60, 100, 125]\n",
        "result_lr_Adagrad = []\n",
        "\n",
        "for lr in learning_rates:\n",
        "  for e in epoch_sizes:\n",
        "    for batchs in batch_sizes:\n",
        "      for nodes1 in hidden_nodes1:\n",
        "        for nodes2 in hidden_nodes2:\n",
        "    # Define and train the model\n",
        "          model = AbaloneModel(hidden_nodes1=nodes1,hidden_nodes2= nodes2)\n",
        "          optimizer = optim.Adagrad(model.parameters(), lr=lr)\n",
        "          train_model(model, criterion, optimizer, X_train_tensor, y_train_tensor, epochs=e, batch_size= batchs)\n",
        "\n",
        "          # Evaluate the model\n",
        "          mse = evaluate(model, X_test_tensor, y_test_tensor)\n",
        "\n",
        "          # Store the results\n",
        "          result_lr_Adagrad.append({\n",
        "                    'Learning Rate': lr,\n",
        "                    'Batch Size': batchs,\n",
        "                    'Hidden Nodes in Layer 1': nodes1,\n",
        "                    'Hidden Nodes in Layer2': nodes2,\n",
        "                    'Epochs': e,\n",
        "                    'MSE': mse\n",
        "          })\n",
        "\n",
        "# Print the results\n",
        "# for result in result_lr:\n",
        "    # print(f\"Learning Rate: {result['Learning Rate']}, MSE: {result['MSE']}\")"
      ]
    },
    {
      "cell_type": "code",
      "execution_count": 20,
      "metadata": {
        "colab": {
          "base_uri": "https://localhost:8080/"
        },
        "id": "nlhIW45E-N6m",
        "outputId": "f9d9674b-e88a-42bd-adf4-304c56793e55"
      },
      "outputs": [
        {
          "name": "stdout",
          "output_type": "stream",
          "text": [
            "Best results SGD vs Adagrad\n",
            "SGD\n",
            "     Learning Rate  Batch Size  Hidden Nodes in Layer 1  \\\n",
            "253          0.010          32                       32   \n",
            "243          0.010          16                       32   \n",
            "136          0.001          16                       32   \n",
            "216          0.010          16                       32   \n",
            "226          0.010          32                       32   \n",
            "\n",
            "     Hidden Nodes in Layer2  Epochs       MSE  \n",
            "253                      64      80  4.293335  \n",
            "243                      32      80  4.297072  \n",
            "136                      64     125  4.325491  \n",
            "216                      32      60  4.326936  \n",
            "226                      64      60  4.327290  \n",
            "AdaGrad\n",
            "    Learning Rate  Batch Size  Hidden Nodes in Layer 1  \\\n",
            "6             0.1          32                       32   \n",
            "11            0.1          32                       32   \n",
            "9             0.1          32                       32   \n",
            "10            0.1          32                       32   \n",
            "7             0.1          32                       32   \n",
            "\n",
            "    Hidden Nodes in Layer2  Epochs       MSE  \n",
            "6                       32      75  4.435867  \n",
            "11                      64     125  4.436202  \n",
            "9                       64     100  4.452663  \n",
            "10                      32     125  4.533925  \n",
            "7                       64      75  4.594319  \n"
          ]
        }
      ],
      "source": [
        "#Result comparisons\n",
        "results_df2 = pd.DataFrame(result_lr_Adagrad)\n",
        "print(\"Best results SGD vs Adagrad\")\n",
        "\n",
        "results_df2.to_csv('All_results_Ada.csv', index=False)\n",
        "top_10_lowest_mse_Ada = results_df2.nsmallest(5, 'MSE')\n",
        "print(\"SGD\")\n",
        "print(top_10_lowest_mse)\n",
        "print(\"AdaGrad\")\n",
        "print(top_10_lowest_mse_Ada)\n"
      ]
    },
    {
      "cell_type": "markdown",
      "metadata": {
        "id": "R3YW1I7UAnSR"
      },
      "source": [
        "From above it's clear that Adagrad and SGD provided simialar results but SGD was a bit worse in this case.\n",
        "but ADAGRAD appeared to be \"MUCH FASTER THAN SGD\"\n",
        "\n",
        "Observations:\n",
        "1)Both optimizers seem to converge to similar final MSE values, with Adagrad slightly outperforming SGD in terms of final MSE.\n",
        "\n",
        "2)Adagrad tends to have a more stable loss curve over epochs compared to SGD. This can be seen from the fact that the loss for Adagrad remains constant at 0.9895 after a certain number of epochs, while the loss for SGD fluctuates slightly.\n",
        "\n",
        "3)Adagrad adjusts the learning rates for each parameter individually based on the historical gradient values, which can be beneficial especially for sparse data or data with high dimensionality. This adaptiveness might contribute to its slightly better performance in this scenario compared to the fixed learning rate of SGD.\n",
        "\n",
        "4)However, it's worth noting that Adagrad can have issues with overly aggressive learning rate decay, which might hinder its performance in some cases.\n",
        "\n",
        "Overall, while Adagrad shows a marginal improvement in terms of MSE compared to SGD in this specific scenario, the choice between the two optimizers might depend on various factors such as the specific characteristics of the dataset, computational resources, and training time."
      ]
    },
    {
      "cell_type": "markdown",
      "metadata": {
        "id": "09EplB-__v-g"
      },
      "source": [
        "Now coming onto Hidden Layers"
      ]
    },
    {
      "cell_type": "code",
      "execution_count": 52,
      "metadata": {
        "id": "wR8u9q7V_zdi"
      },
      "outputs": [],
      "source": [
        "import torch.nn as nn\n",
        "\n",
        "class AbaloneModelNew(nn.Module):\n",
        "    def __init__(self, hidden_nodes1=64, hidden_nodes2=32):\n",
        "        super(AbaloneModelNew, self).__init__()\n",
        "        self.fc1 = nn.Linear(10, hidden_nodes1)  # Input layer: 10 nodes\n",
        "\n",
        "        # Hidden layers\n",
        "        self.fc2 = nn.Linear(hidden_nodes1, hidden_nodes2)\n",
        "        self.fc3 = nn.Linear(hidden_nodes2, hidden_nodes2)\n",
        "        self.fc4 = nn.Linear(hidden_nodes2, hidden_nodes2)\n",
        "        self.fc5 = nn.Linear(hidden_nodes2, hidden_nodes2)\n",
        "        self.fc6 = nn.Linear(hidden_nodes2, hidden_nodes2)\n",
        "        self.fc7 = nn.Linear(hidden_nodes2, hidden_nodes2)\n",
        "        self.fc8 = nn.Linear(hidden_nodes2, hidden_nodes2)\n",
        "        self.fc9 = nn.Linear(hidden_nodes2, hidden_nodes2)\n",
        "        # self.fc10 = nn.Linear(hidden_nodes2, hidden_nodes2)\n",
        "        # self.fc11 = nn.Linear(hidden_nodes2, hidden_nodes2)\n",
        "        self.fc12 = nn.Linear(hidden_nodes2, hidden_nodes2)\n",
        "\n",
        "        self.fc13 = nn.Linear(hidden_nodes2, 1)    # Output layer: 1 node for regression\n",
        "\n",
        "    def forward(self, x):\n",
        "        x = nn.functional.relu(self.fc1(x))  # ReLU activation for the first layer\n",
        "        x = nn.functional.relu(self.fc2(x))  # ReLU activation for the second layer\n",
        "        x = nn.functional.relu(self.fc3(x))\n",
        "        x = nn.functional.relu(self.fc4(x))\n",
        "        x = nn.functional.relu(self.fc5(x))\n",
        "        x = nn.functional.relu(self.fc6(x))\n",
        "        x = nn.functional.relu(self.fc7(x))\n",
        "        x = nn.functional.relu(self.fc8(x))\n",
        "        x = nn.functional.relu(self.fc9(x))\n",
        "        # x = nn.functional.relu(self.fc10(x))\n",
        "        # x = nn.functional.relu(self.fc11(x))\n",
        "        x = nn.functional.relu(self.fc12(x))\n",
        "        x = self.fc13(x)  # Output layer\n",
        "        return x\n",
        "\n",
        "# # Create an instance of the AbaloneModel class\n",
        "# model = AbaloneModelNew()\n",
        "\n",
        "# # Print the model architecture\n",
        "# print(model)\n"
      ]
    },
    {
      "cell_type": "code",
      "execution_count": 53,
      "metadata": {
        "id": "kGKKWJ0sAqYP"
      },
      "outputs": [],
      "source": [
        "import torch.optim as optim\n",
        "import pandas as pd\n",
        "\n",
        "learning_rates = [0.01, 0.1]\n",
        "batch_sizes = [32]\n",
        "hidden_nodes1 = [32]\n",
        "hidden_nodes2= [32,64]\n",
        "# hidden_layers = [1, 2, 3]\n",
        "epoch_sizes=[60, 75, 100, 125]\n",
        "result_lr_hid = []\n",
        "\n",
        "for lr in learning_rates:\n",
        "  for e in epoch_sizes:\n",
        "    for batchs in batch_sizes:\n",
        "      for nodes1 in hidden_nodes1:\n",
        "        for nodes2 in hidden_nodes2:\n",
        "          model = AbaloneModelNew(hidden_nodes1=nodes1,hidden_nodes2= nodes2)\n",
        "          optimizer = optim.SGD(model.parameters(), lr=lr)\n",
        "          train_model(model, criterion, optimizer, X_train_tensor, y_train_tensor, epochs=e, batch_size= batchs)\n",
        "\n",
        "          mse = evaluate(model, X_test_tensor, y_test_tensor)\n",
        "\n",
        "          # Store the results\n",
        "          result_lr_hid.append({\n",
        "                    'Learning Rate': lr,\n",
        "                    'Batch Size': batchs,\n",
        "                    'Hidden Nodes in Layer 1': nodes1,\n",
        "                    'Hidden Nodes in Layer2': nodes2,\n",
        "                    'Epochs': e,\n",
        "                    'MSE': mse\n",
        "          })\n",
        "\n",
        "# Print the results\n",
        "# for result in result_lr:\n",
        "    # print(f\"Learning Rate: {result['Learning Rate']}, MSE: {result['MSE']}\")"
      ]
    },
    {
      "cell_type": "code",
      "execution_count": 54,
      "metadata": {
        "colab": {
          "base_uri": "https://localhost:8080/"
        },
        "id": "NsOJP7H5EONd",
        "outputId": "767bc47d-d62b-4a38-f5b6-33a496b5ab57"
      },
      "outputs": [
        {
          "name": "stdout",
          "output_type": "stream",
          "text": [
            "Results in 10+ hidden layers\n",
            "   Learning Rate  Batch Size  Hidden Nodes in Layer 1  Hidden Nodes in Layer2  \\\n",
            "7           0.01          32                       32                      64   \n",
            "5           0.01          32                       32                      64   \n",
            "1           0.01          32                       32                      64   \n",
            "3           0.01          32                       32                      64   \n",
            "2           0.01          32                       32                      32   \n",
            "\n",
            "   Epochs       MSE  \n",
            "7     125  4.723125  \n",
            "5     100  4.784381  \n",
            "1      60  4.922831  \n",
            "3      75  5.003715  \n",
            "2      75  5.080157  \n"
          ]
        }
      ],
      "source": [
        "results_df_hidden = pd.DataFrame(result_lr_hid)\n",
        "top_5_lowest_mse_hid = results_df_hidden.nsmallest(5, 'MSE')\n",
        "print(\"Results in 10+ hidden layers\")\n",
        "print(top_5_lowest_mse_hid)\n"
      ]
    },
    {
      "cell_type": "markdown",
      "metadata": {
        "id": "1_vds9eeHy5I"
      },
      "source": [
        "In general, changing the size of hidden layers can significantly impact the overall accuracy, speed, and power of a given neural network system.\n",
        "But here it's similar because of less complexity in data."
      ]
    },
    {
      "cell_type": "markdown",
      "metadata": {
        "id": "DuJ6urbZHjgc"
      },
      "source": [
        "#### Using Sigmoid function"
      ]
    },
    {
      "cell_type": "code",
      "execution_count": 56,
      "metadata": {
        "colab": {
          "base_uri": "https://localhost:8080/"
        },
        "id": "J3RHIrUtHzW3",
        "outputId": "3d089de9-fb8e-480b-d17b-f10b6a515360"
      },
      "outputs": [
        {
          "name": "stdout",
          "output_type": "stream",
          "text": [
            "AbaloneModelSig(\n",
            "  (fc1): Linear(in_features=10, out_features=64, bias=True)\n",
            "  (fc2): Linear(in_features=64, out_features=32, bias=True)\n",
            "  (fc3): Linear(in_features=32, out_features=32, bias=True)\n",
            "  (fc4): Linear(in_features=32, out_features=32, bias=True)\n",
            "  (fc5): Linear(in_features=32, out_features=32, bias=True)\n",
            "  (fc6): Linear(in_features=32, out_features=32, bias=True)\n",
            "  (fc7): Linear(in_features=32, out_features=32, bias=True)\n",
            "  (fc8): Linear(in_features=32, out_features=32, bias=True)\n",
            "  (fc9): Linear(in_features=32, out_features=32, bias=True)\n",
            "  (fc10): Linear(in_features=32, out_features=32, bias=True)\n",
            "  (fc11): Linear(in_features=32, out_features=32, bias=True)\n",
            "  (fc12): Linear(in_features=32, out_features=32, bias=True)\n",
            "  (fc13): Linear(in_features=32, out_features=1, bias=True)\n",
            ")\n"
          ]
        }
      ],
      "source": [
        "import torch.nn as nn\n",
        "\n",
        "class AbaloneModelSig(nn.Module):\n",
        "    def __init__(self, hidden_nodes1=64, hidden_nodes2=32):\n",
        "        super(AbaloneModelSig, self).__init__()\n",
        "        self.fc1 = nn.Linear(10, hidden_nodes1)  # Input layer: 10 nodes\n",
        "        self.fc2 = nn.Linear(hidden_nodes1, hidden_nodes2)  # First hidden layer\n",
        "        self.fc3 = nn.Linear(hidden_nodes2, hidden_nodes2)  # Second hidden layer\n",
        "        self.fc4 = nn.Linear(hidden_nodes2, hidden_nodes2)  # Third hidden layer\n",
        "        self.fc5 = nn.Linear(hidden_nodes2, hidden_nodes2)  # Fourth hidden layer\n",
        "        self.fc6 = nn.Linear(hidden_nodes2, hidden_nodes2)  # Fifth hidden layer\n",
        "        self.fc7 = nn.Linear(hidden_nodes2, hidden_nodes2)  # Sixth hidden layer\n",
        "        self.fc8 = nn.Linear(hidden_nodes2, hidden_nodes2)  # Seventh hidden layer\n",
        "        self.fc9 = nn.Linear(hidden_nodes2, hidden_nodes2)  # Eighth hidden layer\n",
        "        self.fc10 = nn.Linear(hidden_nodes2, hidden_nodes2)  # Ninth hidden layer\n",
        "        self.fc11 = nn.Linear(hidden_nodes2, hidden_nodes2)  # Tenth hidden layer\n",
        "        self.fc12 = nn.Linear(hidden_nodes2, hidden_nodes2)  # Eleventh hidden layer\n",
        "        self.fc13 = nn.Linear(hidden_nodes2, 1)    # Output layer: 1 node for regression\n",
        "\n",
        "    def forward(self, x):\n",
        "        x = nn.functional.sigmoid(self.fc1(x))  # Sigmoid activation for the first layer\n",
        "        x = nn.functional.sigmoid(self.fc2(x))  # Sigmoid activation for the second layer\n",
        "        x = nn.functional.sigmoid(self.fc3(x))  # Sigmoid activation for the third layer\n",
        "        x = nn.functional.sigmoid(self.fc4(x))  # Sigmoid activation for the fourth layer\n",
        "        x = nn.functional.sigmoid(self.fc5(x))  # Sigmoid activation for the fifth layer\n",
        "        x = nn.functional.sigmoid(self.fc6(x))  # Sigmoid activation for the sixth layer\n",
        "        x = nn.functional.sigmoid(self.fc7(x))  # Sigmoid activation for the seventh layer\n",
        "        x = nn.functional.sigmoid(self.fc8(x))  # Sigmoid activation for the eighth layer\n",
        "        x = nn.functional.sigmoid(self.fc9(x))  # Sigmoid activation for the ninth layer\n",
        "        x = nn.functional.sigmoid(self.fc10(x))  # Sigmoid activation for the tenth layer\n",
        "        x = nn.functional.sigmoid(self.fc11(x))  # Sigmoid activation for the eleventh layer\n",
        "        x = nn.functional.sigmoid(self.fc12(x))  # Sigmoid activation for the twelfth layer\n",
        "        x = self.fc13(x)  # Output layer\n",
        "        return x\n",
        "\n",
        "# Create an instance of the AbaloneModel class\n",
        "model = AbaloneModelSig()\n",
        "\n",
        "# Print the model architecture\n",
        "print(model)\n"
      ]
    },
    {
      "cell_type": "code",
      "execution_count": 57,
      "metadata": {
        "id": "7I9ZA4UiSDpq"
      },
      "outputs": [],
      "source": [
        "import torch.optim as optim\n",
        "import pandas as pd\n",
        "\n",
        "learning_rates = [0.01, 0.1]\n",
        "batch_sizes = [32]\n",
        "hidden_nodes1 = [32]\n",
        "hidden_nodes2= [64]\n",
        "# hidden_layers = [1, 2, 3]\n",
        "epoch_sizes=[100]\n",
        "result_lr_sig = []\n",
        "\n",
        "for lr in learning_rates:\n",
        "  for e in epoch_sizes:\n",
        "    for batchs in batch_sizes:\n",
        "      for nodes1 in hidden_nodes1:\n",
        "        for nodes2 in hidden_nodes2:\n",
        "          model = AbaloneModelSig(hidden_nodes1=nodes1,hidden_nodes2= nodes2)\n",
        "          optimizer = optim.SGD(model.parameters(), lr=lr)\n",
        "          train_model(model, criterion, optimizer, X_train_tensor, y_train_tensor, epochs=e, batch_size= batchs)\n",
        "\n",
        "          mse = evaluate(model, X_test_tensor, y_test_tensor)\n",
        "\n",
        "          # Store the results\n",
        "          result_lr_sig.append({\n",
        "                    'Learning Rate': lr,\n",
        "                    'Batch Size': batchs,\n",
        "                    'Hidden Nodes in Layer 1': nodes1,\n",
        "                    'Hidden Nodes in Layer2': nodes2,\n",
        "                    'Epochs': e,\n",
        "                    'MSE': mse\n",
        "          })\n",
        "\n",
        "# Print the results\n",
        "# for result in result_lr:\n",
        "    # print(f\"Learning Rate: {result['Learning Rate']}, MSE: {result['MSE']}\")"
      ]
    },
    {
      "cell_type": "code",
      "execution_count": 59,
      "metadata": {
        "colab": {
          "base_uri": "https://localhost:8080/"
        },
        "id": "Jsn7pd0wTFQX",
        "outputId": "d072eae4-c9e5-4ba0-dcf9-9ad69d255c08"
      },
      "outputs": [
        {
          "name": "stdout",
          "output_type": "stream",
          "text": [
            "Results in 10+ hidden layers\n",
            "   Learning Rate  Batch Size  Hidden Nodes in Layer 1  Hidden Nodes in Layer2  \\\n",
            "0           0.01          32                       32                      64   \n",
            "1           0.10          32                       32                      64   \n",
            "\n",
            "   Epochs        MSE  \n",
            "0     100  10.837725  \n",
            "1     100  10.862483  \n"
          ]
        }
      ],
      "source": [
        "results_df_hidd = pd.DataFrame(result_lr_sig)\n",
        "top_5_lowest_mse_h = results_df_hidd.nsmallest(5, 'MSE')\n",
        "print(\"Results in 10+ hidden layers using Sigmoid(vanishing gradient).\")\n",
        "print(top_5_lowest_mse_h)\n"
      ]
    },
    {
      "cell_type": "markdown",
      "metadata": {
        "id": "cvtcNV9YadGT"
      },
      "source": [
        "##Observations\n",
        "On using sigmoid instead of relu for 10+ hidden layers, loss significantly increased.\n",
        "\n",
        "1) Vanishing Gradient Problem:\n",
        "\n",
        "The loss seems to stagnate at around 10.83 after a certain number of epochs and does not decrease further. This can indicate that gradients might be vanishing as they propagate backward through the network during training. The vanishing gradient problem occurs when gradients become extremely small as they are backpropagated through many layers with saturating activation functions like Sigmoid. As a result, the weights in the earlier layers are updated very slowly, if at all, leading to slow or no learning.\n",
        "\n",
        "2) Comparison with Previous Architectures:\n",
        "\n",
        "When comparing the final MSE on the test set:\n",
        "\n",
        "SGD optimizer:4.473552703857422\n",
        "\n",
        "Adagrad optimizer: 4.435867\n",
        "\n",
        "More hidden layers with ReLU activation: 4.723125 \n",
        "\n",
        "More hidden layers with Sigmoid activation: 10.837725\n",
        "\n",
        "In terms of minimizing the loss, the earlier architectures with either SGD or Adagrad optimizers might perform better. Both architectures seem to converge to a lower final MSE on the test set compared to the model with increased hidden layers and Sigmoid activation function.\n",
        "While the model with increased hidden layers and Sigmoid activation function may have the capacity to learn complex patterns, it appears to suffer from the vanishing gradient problem, which limits its ability to effectively optimize and minimize the loss.\n",
        "In summary, while increasing the number of hidden layers and using Sigmoid activation functions can potentially capture more complex relationships in the data, it's crucial to address issues like vanishing gradients to ensure effective training and improved performance. In this case, the architectures with simpler configurations and different optimizers (SGD or Adagrad) seem to perform better in terms of minimizing the loss."
      ]
    }
  ],
  "metadata": {
    "accelerator": "GPU",
    "colab": {
      "gpuType": "T4",
      "provenance": []
    },
    "kernelspec": {
      "display_name": "Python 3",
      "name": "python3"
    },
    "language_info": {
      "name": "python"
    }
  },
  "nbformat": 4,
  "nbformat_minor": 0
}
